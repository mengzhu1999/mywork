{
 "cells": [
  {
   "cell_type": "code",
   "execution_count": 1,
   "id": "1df0a600",
   "metadata": {},
   "outputs": [],
   "source": [
    "import numpy as np\n",
    "import matplotlib.pyplot as plt\n",
    "import pandas as pd\n",
    "\n",
    "# from IPython.display import Image\n",
    "import mplhep as hep\n",
    "hep.style.use('ATLAS')\n",
    "\n",
    "# import os\n",
    "# from tqdm import tqdm\n",
    "# import h5py\n",
    "from scipy.stats import qmc\n",
    "\n",
    "\n"
   ]
  },
  {
   "cell_type": "code",
   "execution_count": 2,
   "id": "57917fa3",
   "metadata": {},
   "outputs": [
    {
     "name": "stdout",
     "output_type": "stream",
     "text": [
      "[[0.52612521]\n",
      " [0.78312661]\n",
      " [0.68645033]\n",
      " [0.22132151]\n",
      " [0.49402127]\n",
      " [0.95960633]\n",
      " [0.18555612]\n",
      " [0.08101344]\n",
      " [0.38504088]\n",
      " [0.88256026]]\n"
     ]
    }
   ],
   "source": [
    "# 拉丁超立方采样\n",
    "n_samples = 10  # 样本数量\n",
    "sampler = qmc.LatinHypercube(d=1)  # d=1 表示一维采样\n",
    "samples = sampler.random(n=n_samples)\n",
    "\n",
    "print(samples)"
   ]
  },
  {
   "cell_type": "code",
   "execution_count": 3,
   "id": "c8a1e91e",
   "metadata": {},
   "outputs": [
    {
     "ename": "ValueError",
     "evalue": "Sample is not a 2D array",
     "output_type": "error",
     "traceback": [
      "\u001b[0;31m---------------------------------------------------------------------------\u001b[0m",
      "\u001b[0;31mValueError\u001b[0m                                Traceback (most recent call last)",
      "Cell \u001b[0;32mIn[3], line 16\u001b[0m\n\u001b[1;32m     13\u001b[0m samples \u001b[38;5;241m=\u001b[39m sampler\u001b[38;5;241m.\u001b[39mrandom(n\u001b[38;5;241m=\u001b[39mn_samples)\n\u001b[1;32m     15\u001b[0m \u001b[38;5;66;03m# 缩放样本到每个维度的实际范围\u001b[39;00m\n\u001b[0;32m---> 16\u001b[0m y_NN_Lead0_samples \u001b[38;5;241m=\u001b[39m \u001b[43mqmc\u001b[49m\u001b[38;5;241;43m.\u001b[39;49m\u001b[43mscale\u001b[49m\u001b[43m(\u001b[49m\u001b[43msamples\u001b[49m\u001b[43m[\u001b[49m\u001b[43m:\u001b[49m\u001b[43m,\u001b[49m\u001b[43m \u001b[49m\u001b[38;5;241;43m0\u001b[39;49m\u001b[43m]\u001b[49m\u001b[43m,\u001b[49m\u001b[43m \u001b[49m\u001b[43my_NN_Lead0_range\u001b[49m\u001b[43m[\u001b[49m\u001b[38;5;241;43m0\u001b[39;49m\u001b[43m]\u001b[49m\u001b[43m,\u001b[49m\u001b[43m \u001b[49m\u001b[43my_NN_Lead0_range\u001b[49m\u001b[43m[\u001b[49m\u001b[38;5;241;43m1\u001b[39;49m\u001b[43m]\u001b[49m\u001b[43m)\u001b[49m\n\u001b[1;32m     17\u001b[0m sigma_samples \u001b[38;5;241m=\u001b[39m qmc\u001b[38;5;241m.\u001b[39mscale(samples[:, \u001b[38;5;241m1\u001b[39m], sigma_range[\u001b[38;5;241m0\u001b[39m], sigma_range[\u001b[38;5;241m1\u001b[39m])\n\u001b[1;32m     18\u001b[0m g_factor_samples \u001b[38;5;241m=\u001b[39m qmc\u001b[38;5;241m.\u001b[39mscale(samples[:, \u001b[38;5;241m2\u001b[39m], g_factor_range[\u001b[38;5;241m0\u001b[39m], g_factor_range[\u001b[38;5;241m1\u001b[39m])\n",
      "File \u001b[0;32m~/anaconda3/lib/python3.10/site-packages/scipy/stats/_qmc.py:152\u001b[0m, in \u001b[0;36mscale\u001b[0;34m(sample, l_bounds, u_bounds, reverse)\u001b[0m\n\u001b[1;32m    150\u001b[0m \u001b[38;5;66;03m# Checking bounds and sample\u001b[39;00m\n\u001b[1;32m    151\u001b[0m \u001b[38;5;28;01mif\u001b[39;00m \u001b[38;5;129;01mnot\u001b[39;00m sample\u001b[38;5;241m.\u001b[39mndim \u001b[38;5;241m==\u001b[39m \u001b[38;5;241m2\u001b[39m:\n\u001b[0;32m--> 152\u001b[0m     \u001b[38;5;28;01mraise\u001b[39;00m \u001b[38;5;167;01mValueError\u001b[39;00m(\u001b[38;5;124m'\u001b[39m\u001b[38;5;124mSample is not a 2D array\u001b[39m\u001b[38;5;124m'\u001b[39m)\n\u001b[1;32m    154\u001b[0m lower, upper \u001b[38;5;241m=\u001b[39m _validate_bounds(\n\u001b[1;32m    155\u001b[0m     l_bounds\u001b[38;5;241m=\u001b[39ml_bounds, u_bounds\u001b[38;5;241m=\u001b[39mu_bounds, d\u001b[38;5;241m=\u001b[39msample\u001b[38;5;241m.\u001b[39mshape[\u001b[38;5;241m1\u001b[39m]\n\u001b[1;32m    156\u001b[0m )\n\u001b[1;32m    158\u001b[0m \u001b[38;5;28;01mif\u001b[39;00m \u001b[38;5;129;01mnot\u001b[39;00m reverse:\n\u001b[1;32m    159\u001b[0m     \u001b[38;5;66;03m# Checking that sample is within the hypercube\u001b[39;00m\n",
      "\u001b[0;31mValueError\u001b[0m: Sample is not a 2D array"
     ]
    }
   ],
   "source": [
    "# 定义三维参数的取值范围\n",
    "y_NN_Lead0_range = [2, 4]  # 第一个维度的范围\n",
    "sigma_range = [0.5, 3]     # 第二个维度的范围\n",
    "g_factor_range = [1, 3]    # 第三个维度的范围\n",
    "\n",
    "# 样本数量\n",
    "n_samples = 10\n",
    "\n",
    "# 创建三维拉丁超立方采样器\n",
    "sampler = qmc.LatinHypercube(d=3)\n",
    "\n",
    "# 在三维空间中生成 n_samples 个样本\n",
    "samples = sampler.random(n=n_samples)\n",
    "\n",
    "# 缩放样本到每个维度的实际范围\n",
    "y_NN_Lead0_samples = qmc.scale(samples[:, 0], y_NN_Lead0_range[0], y_NN_Lead0_range[1])\n",
    "sigma_samples = qmc.scale(samples[:, 1], sigma_range[0], sigma_range[1])\n",
    "g_factor_samples = qmc.scale(samples[:, 2], g_factor_range[0], g_factor_range[1])\n",
    "\n",
    "# 将采样结果合并成一个三维的结果数组\n",
    "scaled_samples = np.column_stack([y_NN_Lead0_samples, sigma_samples, g_factor_samples])\n",
    "\n",
    "print(scaled_samples)\n"
   ]
  },
  {
   "cell_type": "code",
   "execution_count": 4,
   "id": "83af5ff3",
   "metadata": {
    "scrolled": true
   },
   "outputs": [
    {
     "name": "stdout",
     "output_type": "stream",
     "text": [
      "[[0.34756008 0.5629934 ]\n",
      " [0.40654463 0.01048057]\n",
      " [0.11096802 0.38919432]\n",
      " [0.48056997 0.59091215]\n",
      " [0.83647884 0.8512412 ]\n",
      " [0.41413915 0.34183082]\n",
      " [0.61102947 0.20348306]\n",
      " [0.76659768 0.54400265]\n",
      " [0.3565315  0.9960212 ]\n",
      " [0.36352516 0.53919648]\n",
      " [0.55484591 0.45966539]\n",
      " [0.46139759 0.77957646]\n",
      " [0.2215271  0.86835479]\n",
      " [0.94542001 0.90569898]\n",
      " [0.25943026 0.30668469]\n",
      " [0.31291259 0.7149355 ]\n",
      " [0.54525214 0.09286647]\n",
      " [0.10352449 0.18257193]\n",
      " [0.06609113 0.0525586 ]\n",
      " [0.82545666 0.3147534 ]\n",
      " [0.88652074 0.84849179]\n",
      " [0.58237987 0.73685351]\n",
      " [0.68048921 0.11423081]\n",
      " [0.45104034 0.03110215]\n",
      " [0.00739136 0.6146906 ]\n",
      " [0.01861283 0.49378112]\n",
      " [0.04457692 0.74101069]\n",
      " [0.93905433 0.40302797]\n",
      " [0.24562733 0.24008513]\n",
      " [0.38330265 0.78320948]\n",
      " [0.26333177 0.7996512 ]\n",
      " [0.57524832 0.95946598]\n",
      " [0.735609   0.35690774]\n",
      " [0.4757593  0.91705753]\n",
      " [0.85261408 0.75320808]\n",
      " [0.29301291 0.07101024]\n",
      " [0.84676977 0.04436165]\n",
      " [0.90560515 0.26480645]\n",
      " [0.39831931 0.6525492 ]\n",
      " [0.96510933 0.62854536]\n",
      " [0.87993703 0.66760817]\n",
      " [0.89005568 0.43683576]\n",
      " [0.70752783 0.25883063]\n",
      " [0.03589875 0.51653749]\n",
      " [0.3074481  0.33408633]\n",
      " [0.08463178 0.16017684]\n",
      " [0.50889141 0.55736207]\n",
      " [0.15309429 0.87431044]\n",
      " [0.13626236 0.17775571]\n",
      " [0.67780123 0.93111497]\n",
      " [0.92702465 0.8859377 ]\n",
      " [0.09330933 0.70998311]\n",
      " [0.95216623 0.60873495]\n",
      " [0.98019132 0.68602298]\n",
      " [0.60628726 0.06712473]\n",
      " [0.91379789 0.12358165]\n",
      " [0.75221369 0.32977803]\n",
      " [0.51875355 0.29515129]\n",
      " [0.63902378 0.13141502]\n",
      " [0.23165414 0.81041361]\n",
      " [0.77651452 0.0203536 ]\n",
      " [0.71248161 0.42982424]\n",
      " [0.19317109 0.2142581 ]\n",
      " [0.69835741 0.98521089]\n",
      " [0.78249981 0.89127559]\n",
      " [0.79027286 0.47479265]\n",
      " [0.42541045 0.27718068]\n",
      " [0.59630163 0.96693744]\n",
      " [0.64586657 0.92084985]\n",
      " [0.27081067 0.44195544]\n",
      " [0.62961135 0.97859713]\n",
      " [0.37734119 0.15107971]\n",
      " [0.43774409 0.63719188]\n",
      " [0.05643158 0.50372806]\n",
      " [0.32930916 0.57406876]\n",
      " [0.14648691 0.64990581]\n",
      " [0.56515432 0.72269504]\n",
      " [0.52727204 0.37810856]\n",
      " [0.21457002 0.00949462]\n",
      " [0.974198   0.69405294]\n",
      " [0.99546743 0.14127532]\n",
      " [0.49196838 0.23615026]\n",
      " [0.18202029 0.08531779]\n",
      " [0.72760573 0.83035708]\n",
      " [0.66020545 0.10266793]\n",
      " [0.65639888 0.28838843]\n",
      " [0.20642874 0.67173051]\n",
      " [0.74749562 0.76742458]\n",
      " [0.16985744 0.48170771]\n",
      " [0.02198999 0.46974269]\n",
      " [0.5392723  0.39022434]\n",
      " [0.28046207 0.19508594]\n",
      " [0.1710589  0.80342158]\n",
      " [0.81286406 0.58840234]\n",
      " [0.33765416 0.22644419]\n",
      " [0.1290076  0.52867535]\n",
      " [0.0737626  0.82429526]\n",
      " [0.80525525 0.36678008]\n",
      " [0.86958793 0.41463185]\n",
      " [0.44911408 0.94743687]]\n"
     ]
    }
   ],
   "source": [
    "# 创建一个LatinHypercube采样器实例，指定参数的数量\n",
    "sampler = qmc.LatinHypercube(d=2)\n",
    "\n",
    "# 定义所需的样本数量\n",
    "n_samples = 100\n",
    "\n",
    "# 生成随机样本\n",
    "sample = sampler.random(n_samples)\n",
    "\n",
    "# 打印出生成的样本\n",
    "print(sample)"
   ]
  },
  {
   "cell_type": "code",
   "execution_count": 5,
   "id": "66fecd2b",
   "metadata": {
    "scrolled": true
   },
   "outputs": [
    {
     "name": "stdout",
     "output_type": "stream",
     "text": [
      "[[ 3.47560084 15.629934  ]\n",
      " [ 4.06544627 10.10480571]\n",
      " [ 1.10968017 13.89194321]\n",
      " [ 4.80569966 15.90912154]\n",
      " [ 8.36478838 18.51241203]\n",
      " [ 4.14139146 13.41830816]\n",
      " [ 6.11029466 12.03483061]\n",
      " [ 7.66597681 15.44002646]\n",
      " [ 3.56531496 19.96021202]\n",
      " [ 3.63525158 15.39196485]\n",
      " [ 5.54845912 14.59665392]\n",
      " [ 4.61397586 17.79576463]\n",
      " [ 2.21527105 18.68354788]\n",
      " [ 9.45420013 19.05698982]\n",
      " [ 2.59430259 13.06684689]\n",
      " [ 3.12912585 17.14935499]\n",
      " [ 5.45252135 10.92866473]\n",
      " [ 1.03524489 11.82571925]\n",
      " [ 0.66091128 10.52558603]\n",
      " [ 8.2545666  13.14753396]\n",
      " [ 8.86520742 18.48491792]\n",
      " [ 5.82379873 17.36853505]\n",
      " [ 6.80489209 11.14230806]\n",
      " [ 4.5104034  10.31102152]\n",
      " [ 0.0739136  16.14690596]\n",
      " [ 0.18612825 14.93781124]\n",
      " [ 0.44576922 17.41010689]\n",
      " [ 9.39054328 14.03027972]\n",
      " [ 2.45627326 12.40085126]\n",
      " [ 3.8330265  17.83209481]\n",
      " [ 2.63331775 17.996512  ]\n",
      " [ 5.75248321 19.59465984]\n",
      " [ 7.35609002 13.56907741]\n",
      " [ 4.75759298 19.17057527]\n",
      " [ 8.52614079 17.53208077]\n",
      " [ 2.93012906 10.71010239]\n",
      " [ 8.46769771 10.44361655]\n",
      " [ 9.0560515  12.64806447]\n",
      " [ 3.98319306 16.52549204]\n",
      " [ 9.6510933  16.28545358]\n",
      " [ 8.79937028 16.67608171]\n",
      " [ 8.90055682 14.36835758]\n",
      " [ 7.07527831 12.58830626]\n",
      " [ 0.35898746 15.16537493]\n",
      " [ 3.07448101 13.34086332]\n",
      " [ 0.84631777 11.60176842]\n",
      " [ 5.08891414 15.57362074]\n",
      " [ 1.53094295 18.74310437]\n",
      " [ 1.36262364 11.77755715]\n",
      " [ 6.77801231 19.31114972]\n",
      " [ 9.27024646 18.85937701]\n",
      " [ 0.93309332 17.09983108]\n",
      " [ 9.52166233 16.0873495 ]\n",
      " [ 9.80191323 16.86022983]\n",
      " [ 6.06287263 10.67124729]\n",
      " [ 9.13797885 11.23581653]\n",
      " [ 7.52213688 13.29778029]\n",
      " [ 5.18753546 12.95151295]\n",
      " [ 6.39023782 11.31415023]\n",
      " [ 2.31654142 18.10413612]\n",
      " [ 7.76514525 10.20353599]\n",
      " [ 7.12481613 14.29824236]\n",
      " [ 1.93171091 12.14258096]\n",
      " [ 6.98357409 19.85210891]\n",
      " [ 7.82499815 18.91275593]\n",
      " [ 7.90272862 14.74792653]\n",
      " [ 4.2541045  12.77180677]\n",
      " [ 5.96301626 19.66937441]\n",
      " [ 6.45866569 19.20849853]\n",
      " [ 2.70810668 14.41955437]\n",
      " [ 6.29611351 19.78597132]\n",
      " [ 3.77341192 11.51079708]\n",
      " [ 4.37744088 16.3719188 ]\n",
      " [ 0.56431583 15.03728064]\n",
      " [ 3.29309159 15.74068762]\n",
      " [ 1.46486906 16.49905806]\n",
      " [ 5.65154321 17.22695037]\n",
      " [ 5.27272042 13.78108563]\n",
      " [ 2.14570023 10.09494624]\n",
      " [ 9.74197997 16.94052941]\n",
      " [ 9.95467426 11.4127532 ]\n",
      " [ 4.91968376 12.36150258]\n",
      " [ 1.8202029  10.85317792]\n",
      " [ 7.27605728 18.30357081]\n",
      " [ 6.60205454 11.02667927]\n",
      " [ 6.56398878 12.88388434]\n",
      " [ 2.06428736 16.7173051 ]\n",
      " [ 7.4749562  17.67424583]\n",
      " [ 1.69857438 14.81707715]\n",
      " [ 0.21989987 14.69742687]\n",
      " [ 5.39272299 13.90224341]\n",
      " [ 2.80462072 11.95085939]\n",
      " [ 1.71058903 18.03421576]\n",
      " [ 8.1286406  15.88402344]\n",
      " [ 3.37654163 12.26444188]\n",
      " [ 1.29007596 15.2867535 ]\n",
      " [ 0.73762603 18.24295257]\n",
      " [ 8.0525525  13.66780081]\n",
      " [ 8.69587926 14.14631849]\n",
      " [ 4.49114081 19.47436868]]\n"
     ]
    }
   ],
   "source": [
    "# 假设每个参数的实际取值范围\n",
    "l_bounds = [0, 10,]  # 下界\n",
    "u_bounds = [10, 20]  # 上界\n",
    "\n",
    "# 将[0, 1]区间的样本值映射到实际取值范围\n",
    "sample_scaled = qmc.scale(sample, l_bounds, u_bounds)\n",
    "\n",
    "# 打印映射后的样本\n",
    "print(sample_scaled)"
   ]
  },
  {
   "cell_type": "code",
   "execution_count": 6,
   "id": "5219ab0b",
   "metadata": {},
   "outputs": [
    {
     "data": {
      "text/plain": [
       "(100, 2)"
      ]
     },
     "execution_count": 6,
     "metadata": {},
     "output_type": "execute_result"
    }
   ],
   "source": [
    "sample_scaled.shape"
   ]
  },
  {
   "cell_type": "code",
   "execution_count": 7,
   "id": "1f544b9f",
   "metadata": {},
   "outputs": [
    {
     "data": {
      "image/png": "[encoded data removed]",
      "text/plain": [
       "<Figure size 800x600 with 1 Axes>"
      ]
     },
     "metadata": {},
     "output_type": "display_data"
    }
   ],
   "source": [
    "_=plt.hist2d(sample_scaled[:,0],sample_scaled[:,1],bins=20)"
   ]
  },
  {
   "cell_type": "code",
   "execution_count": null,
   "id": "8cfdfc11",
   "metadata": {},
   "outputs": [],
   "source": []
  },
  {
   "cell_type": "code",
   "execution_count": null,
   "id": "7b98cfd8",
   "metadata": {},
   "outputs": [],
   "source": []
  },
  {
   "cell_type": "code",
   "execution_count": 8,
   "id": "4fda5db1",
   "metadata": {},
   "outputs": [],
   "source": [
    "def latin_hypercube_sampling(n_samples, param_ranges):\n",
    "    sampler = qmc.LatinHypercube(d=len(param_ranges))\n",
    "    samples = sampler.random(n=n_samples)\n",
    "    for i, (low, high) in enumerate(param_ranges):\n",
    "        samples[:, i] = samples[:, i] * (high - low) + low\n",
    "    return samples"
   ]
  },
  {
   "cell_type": "code",
   "execution_count": 9,
   "id": "04915b60",
   "metadata": {},
   "outputs": [],
   "source": [
    "def log_prior(params):\n",
    "    for param, (low, high) in zip(params, param_ranges):\n",
    "        if not (low <= param <= high):\n",
    "            return -np.inf\n",
    "    return 0.0\n",
    "\n",
    "def log_likelihood(params, data):\n",
    "    a, b, c = params\n",
    "    scale = a + b + c  # 假设似然函数的指数形式依赖于参数的和\n",
    "    return np.sum(-data / scale - np.log(scale))\n",
    "\n",
    "def log_posterior(params, data):\n",
    "    lp = log_prior(params)\n",
    "    if not np.isfinite(lp):\n",
    "        return -np.inf\n",
    "    return lp + log_likelihood(params, data)\n",
    "\n",
    "def run_bayesian_analysis(initial_params, data, n_walkers, n_steps):\n",
    "    ndim = initial_params.shape[1]\n",
    "    initial_positions = initial_params + 1e-4 * np.random.randn(n_walkers, ndim)\n",
    "    sampler = emcee.EnsembleSampler(n_walkers, ndim, log_posterior, args=(data,))\n",
    "    sampler.run_mcmc(initial_positions, n_steps, progress=True)\n",
    "    return sampler.get_chain(flat=True)"
   ]
  },
  {
   "cell_type": "code",
   "execution_count": 10,
   "id": "74e5c351",
   "metadata": {},
   "outputs": [],
   "source": [
    "def main():\n",
    "    # 参数范围\n",
    "    param_ranges = [(0, 5), (5, 10), (10, 15)]\n",
    "\n",
    "    # 进行 LHS 采样\n",
    "    initial_samples = latin_hypercube_sampling(100, param_ranges)\n",
    "\n",
    "    # 生成模拟数据（假设数据生成过程）\n",
    "    data = np.random.exponential(scale=1.0, size=100)\n",
    "\n",
    "    # 运行贝叶斯分析\n",
    "    n_walkers = 32\n",
    "    n_steps = 500\n",
    "    samples = run_bayesian_analysis(initial_samples, data, n_walkers, n_steps)\n",
    "\n",
    "    # 输出结果\n",
    "    print(\"Bayesian analysis results:\", samples)\n",
    "\n"
   ]
  },
  {
   "cell_type": "code",
   "execution_count": 11,
   "id": "a6a76ab9",
   "metadata": {},
   "outputs": [
    {
     "ename": "ValueError",
     "evalue": "operands could not be broadcast together with shapes (100,3) (32,3) ",
     "output_type": "error",
     "traceback": [
      "\u001b[0;31m---------------------------------------------------------------------------\u001b[0m",
      "\u001b[0;31mValueError\u001b[0m                                Traceback (most recent call last)",
      "Cell \u001b[0;32mIn[11], line 1\u001b[0m\n\u001b[0;32m----> 1\u001b[0m \u001b[43mmain\u001b[49m\u001b[43m(\u001b[49m\u001b[43m)\u001b[49m\n",
      "Cell \u001b[0;32mIn[10], line 14\u001b[0m, in \u001b[0;36mmain\u001b[0;34m()\u001b[0m\n\u001b[1;32m     12\u001b[0m n_walkers \u001b[38;5;241m=\u001b[39m \u001b[38;5;241m32\u001b[39m\n\u001b[1;32m     13\u001b[0m n_steps \u001b[38;5;241m=\u001b[39m \u001b[38;5;241m500\u001b[39m\n\u001b[0;32m---> 14\u001b[0m samples \u001b[38;5;241m=\u001b[39m \u001b[43mrun_bayesian_analysis\u001b[49m\u001b[43m(\u001b[49m\u001b[43minitial_samples\u001b[49m\u001b[43m,\u001b[49m\u001b[43m \u001b[49m\u001b[43mdata\u001b[49m\u001b[43m,\u001b[49m\u001b[43m \u001b[49m\u001b[43mn_walkers\u001b[49m\u001b[43m,\u001b[49m\u001b[43m \u001b[49m\u001b[43mn_steps\u001b[49m\u001b[43m)\u001b[49m\n\u001b[1;32m     16\u001b[0m \u001b[38;5;66;03m# 输出结果\u001b[39;00m\n\u001b[1;32m     17\u001b[0m \u001b[38;5;28mprint\u001b[39m(\u001b[38;5;124m\"\u001b[39m\u001b[38;5;124mBayesian analysis results:\u001b[39m\u001b[38;5;124m\"\u001b[39m, samples)\n",
      "Cell \u001b[0;32mIn[9], line 20\u001b[0m, in \u001b[0;36mrun_bayesian_analysis\u001b[0;34m(initial_params, data, n_walkers, n_steps)\u001b[0m\n\u001b[1;32m     18\u001b[0m \u001b[38;5;28;01mdef\u001b[39;00m \u001b[38;5;21mrun_bayesian_analysis\u001b[39m(initial_params, data, n_walkers, n_steps):\n\u001b[1;32m     19\u001b[0m     ndim \u001b[38;5;241m=\u001b[39m initial_params\u001b[38;5;241m.\u001b[39mshape[\u001b[38;5;241m1\u001b[39m]\n\u001b[0;32m---> 20\u001b[0m     initial_positions \u001b[38;5;241m=\u001b[39m \u001b[43minitial_params\u001b[49m\u001b[43m \u001b[49m\u001b[38;5;241;43m+\u001b[39;49m\u001b[43m \u001b[49m\u001b[38;5;241;43m1e-4\u001b[39;49m\u001b[43m \u001b[49m\u001b[38;5;241;43m*\u001b[39;49m\u001b[43m \u001b[49m\u001b[43mnp\u001b[49m\u001b[38;5;241;43m.\u001b[39;49m\u001b[43mrandom\u001b[49m\u001b[38;5;241;43m.\u001b[39;49m\u001b[43mrandn\u001b[49m\u001b[43m(\u001b[49m\u001b[43mn_walkers\u001b[49m\u001b[43m,\u001b[49m\u001b[43m \u001b[49m\u001b[43mndim\u001b[49m\u001b[43m)\u001b[49m\n\u001b[1;32m     21\u001b[0m     sampler \u001b[38;5;241m=\u001b[39m emcee\u001b[38;5;241m.\u001b[39mEnsembleSampler(n_walkers, ndim, log_posterior, args\u001b[38;5;241m=\u001b[39m(data,))\n\u001b[1;32m     22\u001b[0m     sampler\u001b[38;5;241m.\u001b[39mrun_mcmc(initial_positions, n_steps, progress\u001b[38;5;241m=\u001b[39m\u001b[38;5;28;01mTrue\u001b[39;00m)\n",
      "\u001b[0;31mValueError\u001b[0m: operands could not be broadcast together with shapes (100,3) (32,3) "
     ]
    }
   ],
   "source": [
    "main()"
   ]
  },
  {
   "cell_type": "code",
   "execution_count": null,
   "id": "5aa4a4b8",
   "metadata": {},
   "outputs": [],
   "source": []
  },
  {
   "cell_type": "code",
   "execution_count": 35,
   "id": "86133650",
   "metadata": {},
   "outputs": [
    {
     "name": "stderr",
     "output_type": "stream",
     "text": [
      "/tmp/ipykernel_687963/3310906458.py:39: RuntimeWarning: divide by zero encountered in log\n",
      "  return np.log(posterior(params))\n"
     ]
    },
    {
     "name": "stdout",
     "output_type": "stream",
     "text": [
      "[[ 1.82721352  6.30081192 11.37121458]\n",
      " [ 3.08429293  8.88231533 14.69757777]\n",
      " [ 0.04493576  6.58128516 10.7549715 ]\n",
      " ...\n",
      " [ 4.95944799  7.82440364 12.40756483]\n",
      " [ 4.68833992  6.67472553 12.58546622]\n",
      " [ 4.87912009  7.09481476 12.98493359]]\n"
     ]
    }
   ],
   "source": [
    "import emcee\n",
    "\n",
    "# 定义参数的范围\n",
    "bounds = np.array([[0, 5], [5, 10], [10, 15]])\n",
    "\n",
    "# 创建拉丁超立方抽样器实例，指定参数的数量\n",
    "sampler = qmc.LatinHypercube(d=3)\n",
    "\n",
    "# 定义所需的样本数量\n",
    "n_samples = 100\n",
    "\n",
    "# 生成随机样本\n",
    "sample = sampler.random(n_samples)\n",
    "\n",
    "# 将[0, 1]区间的样本值映射到实际参数的取值范围\n",
    "sample_scaled = qmc.scale(sample, bounds[:, 0], bounds[:, 1])\n",
    "\n",
    "# 定义似然函数，这里假设是指数形式\n",
    "def likelihood(params):\n",
    "    a, b, c = params\n",
    "    # 这里需要根据实际情况定义似然函数\n",
    "    # 例如，我们可以假设数据是由指数分布生成的\n",
    "    return np.exp(-(a - 5)**2 - (b - 7.5)**2 - (c - 12.5)**2)\n",
    "\n",
    "# 定义先验概率分布，这里使用均匀分布\n",
    "def prior(params):\n",
    "    a, b, c = params\n",
    "    if 0 <= a <= 5 and 5 <= b <= 10 and 10 <= c <= 15:\n",
    "        return 1.0\n",
    "    return 0.0\n",
    "\n",
    "# 定义后验概率分布\n",
    "def posterior(params):\n",
    "    # 先验概率乘以似然函数\n",
    "    return prior(params) * likelihood(params)\n",
    "\n",
    "# 将后验概率分布的对数作为emcee的目标函数\n",
    "def log_probability(params):\n",
    "    return np.log(posterior(params))\n",
    "\n",
    "# 初始化emcee采样器\n",
    "nwalkers = 50  # 采样器的“walkers”数量\n",
    "ndim = 3  # 参数数量\n",
    "pos = sample_scaled[np.random.choice(sample_scaled.shape[0], nwalkers, replace=False)]  # 随机选择初始位置\n",
    "\n",
    "# 创建并运行采样器\n",
    "sampler = emcee.EnsembleSampler(nwalkers, ndim, log_probability)\n",
    "sampler.run_mcmc(pos, 1000)\n",
    "\n",
    "# 打印采样结果\n",
    "print(sampler.flatchain)"
   ]
  },
  {
   "cell_type": "code",
   "execution_count": null,
   "id": "1769d09f",
   "metadata": {},
   "outputs": [],
   "source": []
  },
  {
   "cell_type": "code",
   "execution_count": null,
   "id": "71329d6e",
   "metadata": {},
   "outputs": [],
   "source": []
  }
 ],
 "metadata": {
  "kernelspec": {
   "display_name": "Python 3 (ipykernel)",
   "language": "python",
   "name": "python3"
  },
  "language_info": {
   "codemirror_mode": {
    "name": "ipython",
    "version": 3
   },
   "file_extension": ".py",
   "mimetype": "text/x-python",
   "name": "python",
   "nbconvert_exporter": "python",
   "pygments_lexer": "ipython3",
   "version": "3.10.14"
  }
 },
 "nbformat": 4,
 "nbformat_minor": 5
}
