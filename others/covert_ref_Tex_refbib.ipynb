{
 "cells": [
  {
   "cell_type": "code",
   "execution_count": 1,
   "id": "b15d1e85",
   "metadata": {},
   "outputs": [],
   "source": [
    "import re\n",
    "\n",
    "def convert_bibtex_to_custom_format(bibtex_entry):\n",
    "    \"\"\"\n",
    "    将INSPIRE-HEP的BibTeX格式转换为自定义的参考文献格式。\n",
    "\n",
    "    参数:\n",
    "        bibtex_entry (str): 输入的BibTeX条目（字符串形式）。\n",
    "\n",
    "    返回:\n",
    "        str: 转换后的自定义格式参考文献条目。\n",
    "    \"\"\"\n",
    "    # 提取字段\n",
    "    try:\n",
    "        # 提取引用键（如 CMS:2012qbp）\n",
    "        citation_key = re.search(r'@article{(.*?),', bibtex_entry).group(1)\n",
    "        author = re.search(r'author = \"(.*?)\"', bibtex_entry).group(1)\n",
    "        title = re.search(r'title = \"{(.*?)}\"', bibtex_entry).group(1)\n",
    "        journal = re.search(r'journal = \"(.*?)\"', bibtex_entry).group(1)\n",
    "        volume = re.search(r'volume = \"(.*?)\"', bibtex_entry).group(1)\n",
    "        pages = re.search(r'pages = \"(.*?)\"', bibtex_entry).group(1)\n",
    "        year = re.search(r'year = \"(.*?)\"', bibtex_entry).group(1)\n",
    "        doi = re.search(r'doi = \"(.*?)\"', bibtex_entry).group(1)\n",
    "    except AttributeError:\n",
    "        raise ValueError(\"输入的BibTeX条目格式不正确，缺少必要的字段。\")\n",
    "\n",
    "    # 构建第一种格式\n",
    "    custom_format = f\"\"\"\n",
    "\\\\bibitem{{{citation_key}}}%\n",
    "\\\\href{{https://doi.org/{doi}}}{{\n",
    "    {author}.\n",
    "    {title}.\n",
    "    {journal} {volume} ({year}) {pages}.\n",
    "}}\n",
    "\"\"\"\n",
    "    return custom_format.strip()  # 去除多余的空白行\n",
    "\n"
   ]
  },
  {
   "cell_type": "code",
   "execution_count": 3,
   "id": "2d225122",
   "metadata": {
    "scrolled": true
   },
   "outputs": [
    {
     "name": "stdout",
     "output_type": "stream",
     "text": [
      "输入的BibTeX条目格式不正确，缺少必要的字段。\n"
     ]
    }
   ],
   "source": [
    "# 示例使用\n",
    "bibtex_entry = \"\"\"\n",
    "@article{Kozlov:2014fqa,\n",
    "    author = \"Kozlov, Igor and Luzum, Matthew and Denicol, Gabriel and Jeon, Sangyong and Gale, Charles\",\n",
    "    title = \"{Transverse momentum structure of pair correlations as a signature of collective behavior in small collision systems}\",\n",
    "    eprint = \"1405.3976\",\n",
    "    archivePrefix = \"arXiv\",\n",
    "    primaryClass = \"nucl-th\",\n",
    "    month = \"5\",\n",
    "    year = \"2014\"\n",
    "}\n",
    "\"\"\"\n",
    "\n",
    "# 调用函数\n",
    "try:\n",
    "    output = convert_bibtex_to_custom_format(bibtex_entry)\n",
    "    print(output)\n",
    "except ValueError as e:\n",
    "    print(e)"
   ]
  },
  {
   "cell_type": "code",
   "execution_count": null,
   "id": "7f96b099",
   "metadata": {},
   "outputs": [],
   "source": []
  }
 ],
 "metadata": {
  "kernelspec": {
   "display_name": "Python 3 (ipykernel)",
   "language": "python",
   "name": "python3"
  },
  "language_info": {
   "codemirror_mode": {
    "name": "ipython",
    "version": 3
   },
   "file_extension": ".py",
   "mimetype": "text/x-python",
   "name": "python",
   "nbconvert_exporter": "python",
   "pygments_lexer": "ipython3",
   "version": "3.10.14"
  }
 },
 "nbformat": 4,
 "nbformat_minor": 5
}
