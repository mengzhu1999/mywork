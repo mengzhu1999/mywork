{
 "cells": [
  {
   "cell_type": "code",
   "execution_count": 1,
   "id": "3f608332",
   "metadata": {},
   "outputs": [],
   "source": [
    "import numpy as np\n",
    "from itertools import product\n",
    "from concurrent.futures import ProcessPoolExecutor\n",
    "from functools import partial\n",
    "import time\n",
    "import pandas as pd\n",
    "import os"
   ]
  },
  {
   "cell_type": "code",
   "execution_count": 2,
   "id": "c92fff60",
   "metadata": {},
   "outputs": [
    {
     "name": "stderr",
     "output_type": "stream",
     "text": [
      "搜索参数组合: 100%|██████████████| 25872000/25872000 [08:47<00:00, 49033.52it/s]\n"
     ]
    },
    {
     "name": "stdout",
     "output_type": "stream",
     "text": [
      "\n",
      "未找到有效参数组合\n"
     ]
    }
   ],
   "source": [
    "import numpy as np\n",
    "import pandas as pd\n",
    "from itertools import product\n",
    "from multiprocessing import Pool, cpu_count\n",
    "from tqdm import tqdm\n",
    "\n",
    "# 固定参数\n",
    "fixed_params = {\n",
    "    'lambda_C': 0.5,   # 病毒清除率\n",
    "    'd_T': 0.5,        # 未感染T细胞死亡率\n",
    "    'eta': 0.5,        # 感染效率\n",
    "#     'C_max': 5,        # 最大细胞浓度\n",
    "    'S_T': 0.5,        # 目标细胞稳态浓度\n",
    "    'a_T': 0.5         # 新增参数\n",
    "}\n",
    "\n",
    "# 可变参数范围（生成网格）\n",
    "r_values = np.arange(1, 5, 0.5)        # 病毒复制率\n",
    "d_M_values = np.arange(0.01, 1, 0.03)      # 感染细胞死亡率\n",
    "S_M_values = np.arange(3, 5, 0.05)        # 感染细胞稳态浓度\n",
    "q_values = np.arange(0.1, 5, 0.5)        # 病毒产生率\n",
    "alpha_values = np.arange(0.1, 2, 0.5)    # 免疫反应强度\n",
    "C_max_values = np.arange(1, 10, 0.5)    # 免疫反应强度\n",
    "\n",
    "\n",
    "# 预计算所有参数组合的网格\n",
    "param_grid = list(product(r_values, d_M_values, S_M_values, q_values, alpha_values,C_max_values))\n",
    "\n",
    "def compute_coefficients(params):\n",
    "    r_val, d_M_val, S_M_val, q_val, alpha_val,C_max = params\n",
    "    lambda_C = fixed_params['lambda_C']\n",
    "    d_T = fixed_params['d_T']\n",
    "    eta = fixed_params['eta']\n",
    "#     C_max = fixed_params['C_max']\n",
    "    S_T = fixed_params['S_T']\n",
    "    a_T = fixed_params['a_T']\n",
    "\n",
    "    # 计算系数 a, b, c, d\n",
    "    a = -d_M_val * S_T * lambda_C + r_val * S_M_val * lambda_C\n",
    "    if a == 0:\n",
    "        return None\n",
    "\n",
    "    b = (d_M_val * S_T * lambda_C * C_max - d_M_val * S_T * lambda_C * q_val +\n",
    "         r_val * S_M_val * q_val * lambda_C - r_val * S_M_val * lambda_C * C_max +\n",
    "         d_M_val * d_T * lambda_C + alpha_val * r_val * lambda_C)\n",
    "\n",
    "    c = (a_T * d_M_val * eta * C_max + d_M_val * S_T * lambda_C * C_max * q_val -\n",
    "         r_val * S_M_val * q_val * lambda_C * C_max - d_M_val * d_T * lambda_C * C_max +\n",
    "         d_M_val * d_T * lambda_C * q_val - alpha_val * r_val * lambda_C * C_max)\n",
    "\n",
    "    d = a_T * d_M_val * eta * C_max * q_val - d_M_val * d_T * lambda_C * q_val * C_max\n",
    "\n",
    "    # 条件3: g(0) = d/a < 0\n",
    "    if (d / a) >= 0:\n",
    "        return None\n",
    "\n",
    "    # 条件1: Delta > 0\n",
    "    Delta = (2 * (b / a))**2 - 4 * 3 * (c / a)\n",
    "    if Delta <= 0:\n",
    "        return None\n",
    "\n",
    "    # 计算极值点 x1 < x2\n",
    "    x1 = (-2 * (b / a) - np.sqrt(Delta)) / (2 * 3)\n",
    "    x2 = (-2 * (b / a) + np.sqrt(Delta)) / (2 * 3)\n",
    "    if x1 < 0:\n",
    "        return None\n",
    "\n",
    "    # 条件2: g(x1) > 0 且 g(x2) < 0\n",
    "    g_x1 = x1**3 + (b / a) * x1**2 + (c / a) * x1 + (d / a)\n",
    "    g_x2 = x2**3 + (b / a) * x2**2 + (c / a) * x2 + (d / a)\n",
    "    if not (g_x1 > 0 and g_x2 < 0):\n",
    "        return None\n",
    "    \n",
    "    # 计算三个正根\n",
    "    roots = np.roots([1, b/a, c/a, d/a])\n",
    "    real_roots = roots[np.isreal(roots)].real\n",
    "    positive_roots = real_roots[real_roots > 0]\n",
    "    \n",
    "    # 条件4: 所有正根必须小于C_max\n",
    "    if len(positive_roots) != 3 or (positive_roots >= C_max).any():\n",
    "        return None\n",
    "\n",
    "    # 构建结果字典\n",
    "    result = {\n",
    "        'r': r_val,\n",
    "        'd_M': d_M_val,\n",
    "        'S_M': S_M_val,\n",
    "        'q': q_val,\n",
    "        'alpha': alpha_val,\n",
    "        'C_max': C_max,\n",
    "        **fixed_params,\n",
    "        'a': a,\n",
    "        'b': b,\n",
    "        'c': c,\n",
    "        'd': d,\n",
    "        'x1': x1,\n",
    "        'x2': x2,\n",
    "        'root1': positive_roots[0], \n",
    "        'root2': positive_roots[1],\n",
    "        'root3': positive_roots[2]\n",
    "    }\n",
    "    \n",
    "    # 立即打印找到的参数\n",
    "    print(f\"\\n找到有效参数组合:\")\n",
    "    print(f\"r={r_val:.2f}, d_M={d_M_val:.2f}, S_M={S_M_val:.2f}, q={q_val:.2f}, alpha={alpha_val:.2f}, C_max={C_max:.2f}\")\n",
    "    print(f\"根: {positive_roots[0]:.2f}, {positive_roots[1]:.2f}, {positive_roots[2]:.2f}\")\n",
    "    \n",
    "    return result\n",
    "\n",
    "if __name__ == '__main__':\n",
    "    # 并行计算（使用所有CPU核心）\n",
    "    with Pool(cpu_count()) as pool:\n",
    "        results = []\n",
    "        # 使用imap_unordered更快获取结果\n",
    "        with tqdm(total=len(param_grid), desc=\"搜索参数组合\") as pbar:\n",
    "            for result in pool.imap_unordered(compute_coefficients, param_grid):\n",
    "                if result is not None:\n",
    "                    results.append(result)\n",
    "                pbar.update(1)\n",
    "    \n",
    "    # 保存结果\n",
    "    if results:\n",
    "        df = pd.DataFrame(results)\n",
    "        df.to_csv('./data/valid_parameters.csv', index=False)\n",
    "        print(f\"\\n搜索完成！共找到 {len(results)} 组有效参数，已保存到 valid_parameters.csv\")\n",
    "        \n",
    "        # 打印汇总信息\n",
    "        print(\"\\n参数范围统计:\")\n",
    "        print(df[['r', 'd_M', 'S_M', 'q', 'alpha']].describe())\n",
    "    else:\n",
    "        print(\"\\n未找到有效参数组合\")"
   ]
  },
  {
   "cell_type": "code",
   "execution_count": 4,
   "id": "39638a8c",
   "metadata": {},
   "outputs": [
    {
     "name": "stdout",
     "output_type": "stream",
     "text": [
      "\n",
      "处理批次 1 (大小: 921600)\n"
     ]
    },
    {
     "name": "stderr",
     "output_type": "stream",
     "text": [
      "批次 1 进度: 100%|██████████████████████████| 922/922 [00:00<00:00, 4500.52it/s]\n"
     ]
    },
    {
     "name": "stdout",
     "output_type": "stream",
     "text": [
      "\n",
      "未找到有效参数组合\n"
     ]
    }
   ],
   "source": [
    "import numpy as np\n",
    "import pandas as pd\n",
    "from itertools import product\n",
    "from multiprocessing import Pool, cpu_count\n",
    "from tqdm import tqdm\n",
    "import os\n",
    "\n",
    "# 固定参数\n",
    "fixed_params = {\n",
    "    'lambda_C': 0.5,   # 病毒清除率\n",
    "    'd_T': 0.5,        # 未感染T细胞死亡率\n",
    "    'eta': 0.5,        # 感染效率\n",
    "    'S_T': 0.5,        # 目标细胞稳态浓度\n",
    "    'a_T': 0.5         # 新增参数\n",
    "}\n",
    "\n",
    "# 可变参数范围（生成网格）\n",
    "r_values = np.arange(1, 5, 0.5)        # 病毒复制率\n",
    "d_M_values = np.arange(0.1, 2, 0.5)  # 感染细胞死亡率\n",
    "S_M_values = np.arange(3, 5, 0.05)     # 感染细胞稳态浓度\n",
    "q_values = np.arange(0.1, 5, 0.5)      # 病毒产生率\n",
    "alpha_values = np.arange(0.1, 2, 0.5)  # 免疫反应强度\n",
    "C_max_values = np.arange(1, 10, 0.5)   # 免疫反应强度\n",
    "\n",
    "# 输出目录\n",
    "output_dir = './data/parameter_batches'\n",
    "os.makedirs(output_dir, exist_ok=True)\n",
    "\n",
    "def generate_param_batches(batch_size=100000):\n",
    "    \"\"\"生成参数批次\"\"\"\n",
    "    param_grid = product(r_values, d_M_values, S_M_values, q_values, alpha_values, C_max_values)\n",
    "    batch = []\n",
    "    for params in param_grid:\n",
    "        batch.append(params)\n",
    "        if len(batch) >= batch_size:\n",
    "            yield batch\n",
    "            batch = []\n",
    "    if batch:  # 处理最后不足一个批次的部分\n",
    "        yield batch\n",
    "\n",
    "def process_batch(batch):\n",
    "    \"\"\"处理单个参数批次\"\"\"\n",
    "    results = []\n",
    "    for params in batch:\n",
    "        result = compute_coefficients(params)\n",
    "        if result is not None:\n",
    "            results.append(result)\n",
    "    return results\n",
    "\n",
    "def compute_coefficients(params):\n",
    "    r_val, d_M_val, S_M_val, q_val, alpha_val, C_max = params\n",
    "    lambda_C = fixed_params['lambda_C']\n",
    "    d_T = fixed_params['d_T']\n",
    "    eta = fixed_params['eta']\n",
    "    S_T = fixed_params['S_T']\n",
    "    a_T = fixed_params['a_T']\n",
    "\n",
    "    # 计算系数 a, b, c, d\n",
    "    a = -d_M_val * S_T * lambda_C + r_val * S_M_val * lambda_C\n",
    "    if a == 0:\n",
    "        return None\n",
    "\n",
    "    b = (d_M_val * S_T * lambda_C * C_max - d_M_val * S_T * lambda_C * q_val +\n",
    "         r_val * S_M_val * q_val * lambda_C - r_val * S_M_val * lambda_C * C_max +\n",
    "         d_M_val * d_T * lambda_C + alpha_val * r_val * lambda_C)\n",
    "\n",
    "    c = (a_T * d_M_val * eta * C_max + d_M_val * S_T * lambda_C * C_max * q_val -\n",
    "         r_val * S_M_val * q_val * lambda_C * C_max - d_M_val * d_T * lambda_C * C_max +\n",
    "         d_M_val * d_T * lambda_C * q_val - alpha_val * r_val * lambda_C * C_max)\n",
    "\n",
    "    d = a_T * d_M_val * eta * C_max * q_val - d_M_val * d_T * lambda_C * q_val * C_max\n",
    "\n",
    "    # 条件3: g(0) = d/a < 0\n",
    "    if (d / a) >= 0:\n",
    "        return None\n",
    "\n",
    "    # 条件1: Delta > 0\n",
    "    Delta = (2 * (b / a))**2 - 4 * 3 * (c / a)\n",
    "    if Delta <= 0:\n",
    "        return None\n",
    "\n",
    "    # 计算极值点 x1 < x2\n",
    "    x1 = (-2 * (b / a) - np.sqrt(Delta)) / (2 * 3)\n",
    "    x2 = (-2 * (b / a) + np.sqrt(Delta)) / (2 * 3)\n",
    "    if x1 < 0:\n",
    "        return None\n",
    "\n",
    "    # 条件2: g(x1) > 0 且 g(x2) < 0\n",
    "    g_x1 = x1**3 + (b / a) * x1**2 + (c / a) * x1 + (d / a)\n",
    "    g_x2 = x2**3 + (b / a) * x2**2 + (c / a) * x2 + (d / a)\n",
    "    if not (g_x1 > 0 and g_x2 < 0):\n",
    "        return None\n",
    "    \n",
    "    # 计算三个正根\n",
    "    roots = np.roots([1, b/a, c/a, d/a])\n",
    "    real_roots = roots[np.isreal(roots)].real\n",
    "    positive_roots = real_roots[real_roots > 0]\n",
    "    \n",
    "    # 条件4: 所有正根必须小于C_max\n",
    "    if len(positive_roots) != 3 or (positive_roots >= C_max).any():\n",
    "        return None\n",
    "\n",
    "    # 构建结果字典\n",
    "    result = {\n",
    "        'r': r_val,\n",
    "        'd_M': d_M_val,\n",
    "        'S_M': S_M_val,\n",
    "        'q': q_val,\n",
    "        'alpha': alpha_val,\n",
    "        'C_max': C_max,\n",
    "        **fixed_params,\n",
    "        'a': a,\n",
    "        'b': b,\n",
    "        'c': c,\n",
    "        'd': d,\n",
    "        'x1': x1,\n",
    "        'x2': x2,\n",
    "        'root1': positive_roots[0], \n",
    "        'root2': positive_roots[1],\n",
    "        'root3': positive_roots[2]\n",
    "    }\n",
    "    \n",
    "    return result\n",
    "\n",
    "if __name__ == '__main__':\n",
    "    batch_size = 10000000  # 根据内存调整批次大小\n",
    "    total_batches = 0\n",
    "    total_valid = 0\n",
    "    \n",
    "    # 创建批次生成器\n",
    "    batch_generator = generate_param_batches(batch_size)\n",
    "    \n",
    "    # 处理每个批次\n",
    "    for batch_idx, batch in enumerate(batch_generator):\n",
    "        print(f\"\\n处理批次 {batch_idx + 1} (大小: {len(batch)})\")\n",
    "        \n",
    "        # 并行处理当前批次\n",
    "        with Pool(cpu_count()) as pool:\n",
    "            # 将批次分成更小的块以便进度条更新\n",
    "            chunks = [batch[i:i + 1000] for i in range(0, len(batch), 1000)]\n",
    "            results = []\n",
    "            \n",
    "            with tqdm(total=len(chunks), desc=f\"批次 {batch_idx + 1} 进度\") as pbar:\n",
    "                for chunk_result in pool.imap_unordered(process_batch, chunks):\n",
    "                    results.extend(chunk_result)\n",
    "                    pbar.update(1)\n",
    "        \n",
    "        # 保存当前批次的结果\n",
    "        if results:\n",
    "            df = pd.DataFrame(results)\n",
    "            batch_file = os.path.join(output_dir, f'batch_{batch_idx + 1}.csv')\n",
    "            df.to_csv(batch_file, index=False)\n",
    "            total_valid += len(results)\n",
    "            print(f\"批次 {batch_idx + 1} 找到 {len(results)} 有效参数，已保存到 {batch_file}\")\n",
    "        \n",
    "        total_batches = batch_idx + 1\n",
    "        del batch, results  # 显式释放内存\n",
    "        # 强制垃圾回收\n",
    "        import gc\n",
    "        gc.collect()\n",
    "    \n",
    "    # 合并所有批次结果\n",
    "    if total_valid > 0:\n",
    "        print(\"\\n合并所有批次结果...\")\n",
    "        all_results = []\n",
    "        for batch_idx in range(total_batches):\n",
    "            batch_file = os.path.join(output_dir, f'batch_{batch_idx + 1}.csv')\n",
    "            if os.path.exists(batch_file):\n",
    "                df = pd.read_csv(batch_file)\n",
    "                all_results.append(df)\n",
    "        \n",
    "        if all_results:\n",
    "            final_df = pd.concat(all_results, ignore_index=True)\n",
    "            final_file = os.path.join(output_dir, 'final_parameters.csv')\n",
    "            final_df.to_csv(final_file, index=False)\n",
    "            print(f\"\\n搜索完成！共找到 {total_valid} 组有效参数，已保存到 {final_file}\")\n",
    "            \n",
    "            # 打印汇总信息\n",
    "            print(\"\\n参数范围统计:\")\n",
    "            print(final_df[['r', 'd_M', 'S_M', 'q', 'alpha', 'C_max']].describe())\n",
    "    else:\n",
    "        print(\"\\n未找到有效参数组合\")"
   ]
  },
  {
   "cell_type": "code",
   "execution_count": 1,
   "id": "3e15750c",
   "metadata": {},
   "outputs": [
    {
     "name": "stdout",
     "output_type": "stream",
     "text": [
      "总参数组合数: 5,760,000,000\n",
      "\n",
      "处理批次 1 (大小: 10000000)\n"
     ]
    },
    {
     "name": "stderr",
     "output_type": "stream",
     "text": [
      "批次 1 进度: 100%|████████████████████████████| 100/100 [00:02<00:00, 39.80it/s]\n"
     ]
    },
    {
     "name": "stdout",
     "output_type": "stream",
     "text": [
      "\n",
      "处理批次 2 (大小: 10000000)\n"
     ]
    },
    {
     "name": "stderr",
     "output_type": "stream",
     "text": [
      "批次 2 进度: 100%|████████████████████████████| 100/100 [00:02<00:00, 38.04it/s]\n"
     ]
    },
    {
     "name": "stdout",
     "output_type": "stream",
     "text": [
      "\n",
      "处理批次 3 (大小: 10000000)\n"
     ]
    },
    {
     "name": "stderr",
     "output_type": "stream",
     "text": [
      "批次 3 进度: 100%|████████████████████████████| 100/100 [00:02<00:00, 39.00it/s]\n"
     ]
    },
    {
     "name": "stdout",
     "output_type": "stream",
     "text": [
      "\n",
      "处理批次 4 (大小: 10000000)\n"
     ]
    },
    {
     "name": "stderr",
     "output_type": "stream",
     "text": [
      "批次 4 进度: 100%|████████████████████████████| 100/100 [00:02<00:00, 39.15it/s]\n"
     ]
    },
    {
     "name": "stdout",
     "output_type": "stream",
     "text": [
      "\n",
      "处理批次 5 (大小: 10000000)\n"
     ]
    },
    {
     "name": "stderr",
     "output_type": "stream",
     "text": [
      "批次 5 进度: 100%|████████████████████████████| 100/100 [00:02<00:00, 38.64it/s]\n"
     ]
    },
    {
     "name": "stdout",
     "output_type": "stream",
     "text": [
      "\n",
      "处理批次 6 (大小: 10000000)\n"
     ]
    },
    {
     "name": "stderr",
     "output_type": "stream",
     "text": [
      "批次 6 进度: 100%|████████████████████████████| 100/100 [00:02<00:00, 39.03it/s]\n"
     ]
    },
    {
     "name": "stdout",
     "output_type": "stream",
     "text": [
      "\n",
      "处理批次 7 (大小: 10000000)\n"
     ]
    },
    {
     "name": "stderr",
     "output_type": "stream",
     "text": [
      "批次 7 进度: 100%|████████████████████████████| 100/100 [00:02<00:00, 39.56it/s]\n"
     ]
    },
    {
     "name": "stdout",
     "output_type": "stream",
     "text": [
      "\n",
      "处理批次 8 (大小: 10000000)\n"
     ]
    },
    {
     "name": "stderr",
     "output_type": "stream",
     "text": [
      "批次 8 进度: 100%|████████████████████████████| 100/100 [00:02<00:00, 40.36it/s]\n"
     ]
    },
    {
     "name": "stdout",
     "output_type": "stream",
     "text": [
      "\n",
      "处理批次 9 (大小: 10000000)\n"
     ]
    },
    {
     "name": "stderr",
     "output_type": "stream",
     "text": [
      "批次 9 进度: 100%|████████████████████████████| 100/100 [00:02<00:00, 39.47it/s]\n"
     ]
    },
    {
     "name": "stdout",
     "output_type": "stream",
     "text": [
      "\n",
      "处理批次 10 (大小: 10000000)\n"
     ]
    },
    {
     "name": "stderr",
     "output_type": "stream",
     "text": [
      "批次 10 进度: 100%|███████████████████████████| 100/100 [00:02<00:00, 38.37it/s]\n"
     ]
    },
    {
     "name": "stdout",
     "output_type": "stream",
     "text": [
      "\n",
      "处理批次 11 (大小: 10000000)\n"
     ]
    },
    {
     "name": "stderr",
     "output_type": "stream",
     "text": [
      "批次 11 进度: 100%|███████████████████████████| 100/100 [00:02<00:00, 39.81it/s]\n"
     ]
    },
    {
     "name": "stdout",
     "output_type": "stream",
     "text": [
      "\n",
      "处理批次 12 (大小: 10000000)\n"
     ]
    },
    {
     "name": "stderr",
     "output_type": "stream",
     "text": [
      "批次 12 进度: 100%|███████████████████████████| 100/100 [00:02<00:00, 38.93it/s]\n"
     ]
    },
    {
     "name": "stdout",
     "output_type": "stream",
     "text": [
      "\n",
      "处理批次 13 (大小: 10000000)\n"
     ]
    },
    {
     "name": "stderr",
     "output_type": "stream",
     "text": [
      "批次 13 进度: 100%|███████████████████████████| 100/100 [00:02<00:00, 39.36it/s]\n"
     ]
    },
    {
     "name": "stdout",
     "output_type": "stream",
     "text": [
      "\n",
      "处理批次 14 (大小: 10000000)\n"
     ]
    },
    {
     "name": "stderr",
     "output_type": "stream",
     "text": [
      "批次 14 进度: 100%|███████████████████████████| 100/100 [00:02<00:00, 38.27it/s]\n"
     ]
    },
    {
     "name": "stdout",
     "output_type": "stream",
     "text": [
      "\n",
      "处理批次 15 (大小: 10000000)\n"
     ]
    },
    {
     "name": "stderr",
     "output_type": "stream",
     "text": [
      "批次 15 进度: 100%|███████████████████████████| 100/100 [00:02<00:00, 39.47it/s]\n"
     ]
    },
    {
     "name": "stdout",
     "output_type": "stream",
     "text": [
      "\n",
      "处理批次 16 (大小: 10000000)\n"
     ]
    },
    {
     "name": "stderr",
     "output_type": "stream",
     "text": [
      "批次 16 进度: 100%|███████████████████████████| 100/100 [00:02<00:00, 38.75it/s]\n"
     ]
    },
    {
     "name": "stdout",
     "output_type": "stream",
     "text": [
      "\n",
      "处理批次 17 (大小: 10000000)\n"
     ]
    },
    {
     "name": "stderr",
     "output_type": "stream",
     "text": [
      "批次 17 进度: 100%|███████████████████████████| 100/100 [00:02<00:00, 39.84it/s]\n"
     ]
    },
    {
     "name": "stdout",
     "output_type": "stream",
     "text": [
      "\n",
      "处理批次 18 (大小: 10000000)\n"
     ]
    },
    {
     "name": "stderr",
     "output_type": "stream",
     "text": [
      "批次 18 进度: 100%|███████████████████████████| 100/100 [00:02<00:00, 39.83it/s]\n"
     ]
    },
    {
     "name": "stdout",
     "output_type": "stream",
     "text": [
      "\n",
      "处理批次 19 (大小: 10000000)\n"
     ]
    },
    {
     "name": "stderr",
     "output_type": "stream",
     "text": [
      "批次 19 进度: 100%|███████████████████████████| 100/100 [00:02<00:00, 38.83it/s]\n"
     ]
    },
    {
     "name": "stdout",
     "output_type": "stream",
     "text": [
      "\n",
      "处理批次 20 (大小: 10000000)\n"
     ]
    },
    {
     "name": "stderr",
     "output_type": "stream",
     "text": [
      "批次 20 进度: 100%|███████████████████████████| 100/100 [00:02<00:00, 38.20it/s]\n"
     ]
    },
    {
     "name": "stdout",
     "output_type": "stream",
     "text": [
      "\n",
      "处理批次 21 (大小: 10000000)\n"
     ]
    },
    {
     "name": "stderr",
     "output_type": "stream",
     "text": [
      "批次 21 进度: 100%|███████████████████████████| 100/100 [00:02<00:00, 39.95it/s]\n"
     ]
    },
    {
     "name": "stdout",
     "output_type": "stream",
     "text": [
      "\n",
      "处理批次 22 (大小: 10000000)\n"
     ]
    },
    {
     "name": "stderr",
     "output_type": "stream",
     "text": [
      "批次 22 进度: 100%|███████████████████████████| 100/100 [00:02<00:00, 37.12it/s]\n"
     ]
    },
    {
     "name": "stdout",
     "output_type": "stream",
     "text": [
      "\n",
      "处理批次 23 (大小: 10000000)\n"
     ]
    },
    {
     "name": "stderr",
     "output_type": "stream",
     "text": [
      "批次 23 进度: 100%|███████████████████████████| 100/100 [00:02<00:00, 39.05it/s]\n"
     ]
    },
    {
     "name": "stdout",
     "output_type": "stream",
     "text": [
      "\n",
      "处理批次 24 (大小: 10000000)\n"
     ]
    },
    {
     "name": "stderr",
     "output_type": "stream",
     "text": [
      "批次 24 进度: 100%|███████████████████████████| 100/100 [00:02<00:00, 33.84it/s]\n"
     ]
    },
    {
     "name": "stdout",
     "output_type": "stream",
     "text": [
      "\n",
      "处理批次 25 (大小: 10000000)\n"
     ]
    },
    {
     "name": "stderr",
     "output_type": "stream",
     "text": [
      "批次 25 进度: 100%|███████████████████████████| 100/100 [00:02<00:00, 38.51it/s]\n"
     ]
    },
    {
     "name": "stdout",
     "output_type": "stream",
     "text": [
      "\n",
      "处理批次 26 (大小: 10000000)\n"
     ]
    },
    {
     "name": "stderr",
     "output_type": "stream",
     "text": [
      "批次 26 进度: 100%|███████████████████████████| 100/100 [00:02<00:00, 35.54it/s]\n"
     ]
    },
    {
     "name": "stdout",
     "output_type": "stream",
     "text": [
      "\n",
      "处理批次 27 (大小: 10000000)\n"
     ]
    },
    {
     "name": "stderr",
     "output_type": "stream",
     "text": [
      "批次 27 进度: 100%|███████████████████████████| 100/100 [00:02<00:00, 37.55it/s]\n"
     ]
    },
    {
     "name": "stdout",
     "output_type": "stream",
     "text": [
      "\n",
      "处理批次 28 (大小: 10000000)\n"
     ]
    },
    {
     "name": "stderr",
     "output_type": "stream",
     "text": [
      "批次 28 进度: 100%|███████████████████████████| 100/100 [00:02<00:00, 37.49it/s]\n"
     ]
    },
    {
     "name": "stdout",
     "output_type": "stream",
     "text": [
      "\n",
      "处理批次 29 (大小: 10000000)\n"
     ]
    },
    {
     "name": "stderr",
     "output_type": "stream",
     "text": [
      "批次 29 进度: 100%|███████████████████████████| 100/100 [00:02<00:00, 38.40it/s]\n"
     ]
    },
    {
     "name": "stdout",
     "output_type": "stream",
     "text": [
      "\n",
      "处理批次 30 (大小: 10000000)\n"
     ]
    },
    {
     "name": "stderr",
     "output_type": "stream",
     "text": [
      "批次 30 进度: 100%|███████████████████████████| 100/100 [00:02<00:00, 38.54it/s]\n"
     ]
    },
    {
     "name": "stdout",
     "output_type": "stream",
     "text": [
      "\n",
      "处理批次 31 (大小: 10000000)\n"
     ]
    },
    {
     "name": "stderr",
     "output_type": "stream",
     "text": [
      "批次 31 进度: 100%|███████████████████████████| 100/100 [00:02<00:00, 39.13it/s]\n"
     ]
    },
    {
     "name": "stdout",
     "output_type": "stream",
     "text": [
      "\n",
      "处理批次 32 (大小: 10000000)\n"
     ]
    },
    {
     "name": "stderr",
     "output_type": "stream",
     "text": [
      "批次 32 进度: 100%|███████████████████████████| 100/100 [00:02<00:00, 37.16it/s]\n"
     ]
    },
    {
     "name": "stdout",
     "output_type": "stream",
     "text": [
      "\n",
      "处理批次 33 (大小: 10000000)\n"
     ]
    },
    {
     "name": "stderr",
     "output_type": "stream",
     "text": [
      "批次 33 进度: 100%|███████████████████████████| 100/100 [00:02<00:00, 38.94it/s]\n"
     ]
    },
    {
     "name": "stdout",
     "output_type": "stream",
     "text": [
      "\n",
      "处理批次 34 (大小: 10000000)\n"
     ]
    },
    {
     "name": "stderr",
     "output_type": "stream",
     "text": [
      "批次 34 进度: 100%|███████████████████████████| 100/100 [00:02<00:00, 38.46it/s]\n"
     ]
    },
    {
     "name": "stdout",
     "output_type": "stream",
     "text": [
      "\n",
      "处理批次 35 (大小: 10000000)\n"
     ]
    },
    {
     "name": "stderr",
     "output_type": "stream",
     "text": [
      "批次 35 进度: 100%|███████████████████████████| 100/100 [00:02<00:00, 39.26it/s]\n"
     ]
    },
    {
     "name": "stdout",
     "output_type": "stream",
     "text": [
      "\n",
      "处理批次 36 (大小: 10000000)\n"
     ]
    },
    {
     "name": "stderr",
     "output_type": "stream",
     "text": [
      "批次 36 进度: 100%|███████████████████████████| 100/100 [00:02<00:00, 38.65it/s]\n"
     ]
    },
    {
     "name": "stdout",
     "output_type": "stream",
     "text": [
      "\n",
      "处理批次 37 (大小: 10000000)\n"
     ]
    },
    {
     "name": "stderr",
     "output_type": "stream",
     "text": [
      "批次 37 进度: 100%|███████████████████████████| 100/100 [00:02<00:00, 38.34it/s]\n"
     ]
    },
    {
     "name": "stdout",
     "output_type": "stream",
     "text": [
      "\n",
      "处理批次 38 (大小: 10000000)\n"
     ]
    },
    {
     "name": "stderr",
     "output_type": "stream",
     "text": [
      "批次 38 进度: 100%|███████████████████████████| 100/100 [00:02<00:00, 38.93it/s]\n"
     ]
    },
    {
     "name": "stdout",
     "output_type": "stream",
     "text": [
      "\n",
      "处理批次 39 (大小: 10000000)\n"
     ]
    },
    {
     "name": "stderr",
     "output_type": "stream",
     "text": [
      "批次 39 进度: 100%|███████████████████████████| 100/100 [00:02<00:00, 39.45it/s]\n"
     ]
    },
    {
     "name": "stdout",
     "output_type": "stream",
     "text": [
      "\n",
      "处理批次 40 (大小: 10000000)\n"
     ]
    },
    {
     "name": "stderr",
     "output_type": "stream",
     "text": [
      "批次 40 进度: 100%|███████████████████████████| 100/100 [00:02<00:00, 38.05it/s]\n"
     ]
    },
    {
     "name": "stdout",
     "output_type": "stream",
     "text": [
      "\n",
      "处理批次 41 (大小: 10000000)\n"
     ]
    },
    {
     "name": "stderr",
     "output_type": "stream",
     "text": [
      "批次 41 进度: 100%|███████████████████████████| 100/100 [00:02<00:00, 38.72it/s]\n"
     ]
    },
    {
     "name": "stdout",
     "output_type": "stream",
     "text": [
      "\n",
      "处理批次 42 (大小: 10000000)\n"
     ]
    },
    {
     "name": "stderr",
     "output_type": "stream",
     "text": [
      "批次 42 进度: 100%|███████████████████████████| 100/100 [00:02<00:00, 38.48it/s]\n"
     ]
    },
    {
     "name": "stdout",
     "output_type": "stream",
     "text": [
      "\n",
      "处理批次 43 (大小: 10000000)\n"
     ]
    },
    {
     "name": "stderr",
     "output_type": "stream",
     "text": [
      "批次 43 进度: 100%|███████████████████████████| 100/100 [00:02<00:00, 39.60it/s]\n"
     ]
    },
    {
     "name": "stdout",
     "output_type": "stream",
     "text": [
      "\n",
      "处理批次 44 (大小: 10000000)\n"
     ]
    },
    {
     "name": "stderr",
     "output_type": "stream",
     "text": [
      "批次 44 进度: 100%|███████████████████████████| 100/100 [00:02<00:00, 39.15it/s]\n"
     ]
    },
    {
     "name": "stdout",
     "output_type": "stream",
     "text": [
      "\n",
      "处理批次 45 (大小: 10000000)\n"
     ]
    },
    {
     "name": "stderr",
     "output_type": "stream",
     "text": [
      "批次 45 进度: 100%|███████████████████████████| 100/100 [00:02<00:00, 37.84it/s]\n"
     ]
    },
    {
     "name": "stdout",
     "output_type": "stream",
     "text": [
      "\n",
      "处理批次 46 (大小: 10000000)\n"
     ]
    },
    {
     "name": "stderr",
     "output_type": "stream",
     "text": [
      "批次 46 进度: 100%|███████████████████████████| 100/100 [00:02<00:00, 38.69it/s]\n"
     ]
    },
    {
     "name": "stdout",
     "output_type": "stream",
     "text": [
      "\n",
      "处理批次 47 (大小: 10000000)\n"
     ]
    },
    {
     "name": "stderr",
     "output_type": "stream",
     "text": [
      "批次 47 进度: 100%|███████████████████████████| 100/100 [00:02<00:00, 34.83it/s]\n"
     ]
    },
    {
     "name": "stdout",
     "output_type": "stream",
     "text": [
      "\n",
      "处理批次 48 (大小: 10000000)\n"
     ]
    },
    {
     "name": "stderr",
     "output_type": "stream",
     "text": [
      "批次 48 进度: 100%|███████████████████████████| 100/100 [00:02<00:00, 35.21it/s]\n"
     ]
    },
    {
     "name": "stdout",
     "output_type": "stream",
     "text": [
      "\n",
      "处理批次 49 (大小: 10000000)\n"
     ]
    },
    {
     "name": "stderr",
     "output_type": "stream",
     "text": [
      "批次 49 进度: 100%|███████████████████████████| 100/100 [00:02<00:00, 35.25it/s]\n"
     ]
    },
    {
     "name": "stdout",
     "output_type": "stream",
     "text": [
      "\n",
      "处理批次 50 (大小: 10000000)\n"
     ]
    },
    {
     "name": "stderr",
     "output_type": "stream",
     "text": [
      "批次 50 进度: 100%|███████████████████████████| 100/100 [00:02<00:00, 36.60it/s]\n"
     ]
    },
    {
     "name": "stdout",
     "output_type": "stream",
     "text": [
      "\n",
      "处理批次 51 (大小: 10000000)\n"
     ]
    },
    {
     "name": "stderr",
     "output_type": "stream",
     "text": [
      "批次 51 进度: 100%|███████████████████████████| 100/100 [00:02<00:00, 35.90it/s]\n"
     ]
    },
    {
     "name": "stdout",
     "output_type": "stream",
     "text": [
      "\n",
      "处理批次 52 (大小: 10000000)\n"
     ]
    },
    {
     "name": "stderr",
     "output_type": "stream",
     "text": [
      "批次 52 进度: 100%|███████████████████████████| 100/100 [00:02<00:00, 36.85it/s]\n"
     ]
    },
    {
     "name": "stdout",
     "output_type": "stream",
     "text": [
      "\n",
      "处理批次 53 (大小: 10000000)\n"
     ]
    },
    {
     "name": "stderr",
     "output_type": "stream",
     "text": [
      "批次 53 进度: 100%|███████████████████████████| 100/100 [00:02<00:00, 37.19it/s]\n"
     ]
    },
    {
     "name": "stdout",
     "output_type": "stream",
     "text": [
      "\n",
      "处理批次 54 (大小: 10000000)\n"
     ]
    },
    {
     "name": "stderr",
     "output_type": "stream",
     "text": [
      "批次 54 进度: 100%|███████████████████████████| 100/100 [00:02<00:00, 36.63it/s]\n"
     ]
    },
    {
     "name": "stdout",
     "output_type": "stream",
     "text": [
      "\n",
      "处理批次 55 (大小: 10000000)\n"
     ]
    },
    {
     "name": "stderr",
     "output_type": "stream",
     "text": [
      "批次 55 进度: 100%|███████████████████████████| 100/100 [00:02<00:00, 37.60it/s]\n"
     ]
    },
    {
     "name": "stdout",
     "output_type": "stream",
     "text": [
      "\n",
      "处理批次 56 (大小: 10000000)\n"
     ]
    },
    {
     "name": "stderr",
     "output_type": "stream",
     "text": [
      "批次 56 进度: 100%|███████████████████████████| 100/100 [00:02<00:00, 37.09it/s]\n"
     ]
    },
    {
     "name": "stdout",
     "output_type": "stream",
     "text": [
      "\n",
      "处理批次 57 (大小: 10000000)\n"
     ]
    },
    {
     "name": "stderr",
     "output_type": "stream",
     "text": [
      "批次 57 进度: 100%|███████████████████████████| 100/100 [00:02<00:00, 38.39it/s]\n"
     ]
    },
    {
     "name": "stdout",
     "output_type": "stream",
     "text": [
      "\n",
      "处理批次 58 (大小: 10000000)\n"
     ]
    },
    {
     "name": "stderr",
     "output_type": "stream",
     "text": [
      "批次 58 进度: 100%|███████████████████████████| 100/100 [00:02<00:00, 38.22it/s]\n"
     ]
    },
    {
     "name": "stdout",
     "output_type": "stream",
     "text": [
      "\n",
      "处理批次 59 (大小: 10000000)\n"
     ]
    },
    {
     "name": "stderr",
     "output_type": "stream",
     "text": [
      "批次 59 进度: 100%|███████████████████████████| 100/100 [00:02<00:00, 37.32it/s]\n"
     ]
    },
    {
     "name": "stdout",
     "output_type": "stream",
     "text": [
      "\n",
      "处理批次 60 (大小: 10000000)\n"
     ]
    },
    {
     "name": "stderr",
     "output_type": "stream",
     "text": [
      "批次 60 进度: 100%|███████████████████████████| 100/100 [00:02<00:00, 38.49it/s]\n"
     ]
    },
    {
     "name": "stdout",
     "output_type": "stream",
     "text": [
      "\n",
      "处理批次 61 (大小: 10000000)\n"
     ]
    },
    {
     "name": "stderr",
     "output_type": "stream",
     "text": [
      "批次 61 进度: 100%|███████████████████████████| 100/100 [00:02<00:00, 38.17it/s]\n"
     ]
    },
    {
     "name": "stdout",
     "output_type": "stream",
     "text": [
      "\n",
      "处理批次 62 (大小: 10000000)\n"
     ]
    },
    {
     "name": "stderr",
     "output_type": "stream",
     "text": [
      "批次 62 进度: 100%|███████████████████████████| 100/100 [00:02<00:00, 38.19it/s]\n"
     ]
    },
    {
     "name": "stdout",
     "output_type": "stream",
     "text": [
      "\n",
      "处理批次 63 (大小: 10000000)\n"
     ]
    },
    {
     "name": "stderr",
     "output_type": "stream",
     "text": [
      "批次 63 进度: 100%|███████████████████████████| 100/100 [00:02<00:00, 38.23it/s]\n"
     ]
    },
    {
     "name": "stdout",
     "output_type": "stream",
     "text": [
      "\n",
      "处理批次 64 (大小: 10000000)\n"
     ]
    },
    {
     "name": "stderr",
     "output_type": "stream",
     "text": [
      "批次 64 进度: 100%|███████████████████████████| 100/100 [00:02<00:00, 37.98it/s]\n"
     ]
    },
    {
     "name": "stdout",
     "output_type": "stream",
     "text": [
      "\n",
      "处理批次 65 (大小: 10000000)\n"
     ]
    },
    {
     "name": "stderr",
     "output_type": "stream",
     "text": [
      "批次 65 进度: 100%|███████████████████████████| 100/100 [00:02<00:00, 38.36it/s]\n"
     ]
    },
    {
     "name": "stdout",
     "output_type": "stream",
     "text": [
      "\n",
      "处理批次 66 (大小: 10000000)\n"
     ]
    },
    {
     "name": "stderr",
     "output_type": "stream",
     "text": [
      "批次 66 进度: 100%|███████████████████████████| 100/100 [00:02<00:00, 39.04it/s]\n"
     ]
    },
    {
     "name": "stdout",
     "output_type": "stream",
     "text": [
      "\n",
      "处理批次 67 (大小: 10000000)\n"
     ]
    },
    {
     "name": "stderr",
     "output_type": "stream",
     "text": [
      "批次 67 进度: 100%|███████████████████████████| 100/100 [00:02<00:00, 38.71it/s]\n"
     ]
    },
    {
     "name": "stdout",
     "output_type": "stream",
     "text": [
      "\n",
      "处理批次 68 (大小: 10000000)\n"
     ]
    },
    {
     "name": "stderr",
     "output_type": "stream",
     "text": [
      "批次 68 进度: 100%|███████████████████████████| 100/100 [00:02<00:00, 38.52it/s]\n"
     ]
    },
    {
     "name": "stdout",
     "output_type": "stream",
     "text": [
      "\n",
      "处理批次 69 (大小: 10000000)\n"
     ]
    },
    {
     "name": "stderr",
     "output_type": "stream",
     "text": [
      "批次 69 进度: 100%|███████████████████████████| 100/100 [00:02<00:00, 38.89it/s]\n"
     ]
    },
    {
     "name": "stdout",
     "output_type": "stream",
     "text": [
      "\n",
      "处理批次 70 (大小: 10000000)\n"
     ]
    },
    {
     "name": "stderr",
     "output_type": "stream",
     "text": [
      "批次 70 进度: 100%|███████████████████████████| 100/100 [00:02<00:00, 36.60it/s]\n"
     ]
    },
    {
     "name": "stdout",
     "output_type": "stream",
     "text": [
      "\n",
      "处理批次 71 (大小: 10000000)\n"
     ]
    },
    {
     "name": "stderr",
     "output_type": "stream",
     "text": [
      "批次 71 进度: 100%|███████████████████████████| 100/100 [00:03<00:00, 32.68it/s]\n"
     ]
    },
    {
     "name": "stdout",
     "output_type": "stream",
     "text": [
      "\n",
      "处理批次 72 (大小: 10000000)\n"
     ]
    },
    {
     "name": "stderr",
     "output_type": "stream",
     "text": [
      "批次 72 进度: 100%|███████████████████████████| 100/100 [00:02<00:00, 35.04it/s]\n"
     ]
    },
    {
     "name": "stdout",
     "output_type": "stream",
     "text": [
      "\n",
      "处理批次 73 (大小: 10000000)\n"
     ]
    },
    {
     "name": "stderr",
     "output_type": "stream",
     "text": [
      "批次 73 进度: 100%|███████████████████████████| 100/100 [00:02<00:00, 36.45it/s]\n"
     ]
    },
    {
     "name": "stdout",
     "output_type": "stream",
     "text": [
      "\n",
      "处理批次 74 (大小: 10000000)\n"
     ]
    },
    {
     "name": "stderr",
     "output_type": "stream",
     "text": [
      "批次 74 进度: 100%|███████████████████████████| 100/100 [00:02<00:00, 35.86it/s]\n"
     ]
    },
    {
     "name": "stdout",
     "output_type": "stream",
     "text": [
      "\n",
      "处理批次 75 (大小: 10000000)\n"
     ]
    },
    {
     "name": "stderr",
     "output_type": "stream",
     "text": [
      "批次 75 进度: 100%|███████████████████████████| 100/100 [00:02<00:00, 36.61it/s]\n"
     ]
    },
    {
     "name": "stdout",
     "output_type": "stream",
     "text": [
      "\n",
      "处理批次 76 (大小: 10000000)\n"
     ]
    },
    {
     "name": "stderr",
     "output_type": "stream",
     "text": [
      "批次 76 进度: 100%|███████████████████████████| 100/100 [00:02<00:00, 37.49it/s]\n"
     ]
    },
    {
     "name": "stdout",
     "output_type": "stream",
     "text": [
      "\n",
      "处理批次 77 (大小: 10000000)\n"
     ]
    },
    {
     "name": "stderr",
     "output_type": "stream",
     "text": [
      "批次 77 进度: 100%|███████████████████████████| 100/100 [00:02<00:00, 36.30it/s]\n"
     ]
    },
    {
     "name": "stdout",
     "output_type": "stream",
     "text": [
      "\n",
      "处理批次 78 (大小: 10000000)\n"
     ]
    },
    {
     "name": "stderr",
     "output_type": "stream",
     "text": [
      "批次 78 进度: 100%|███████████████████████████| 100/100 [00:02<00:00, 36.96it/s]\n"
     ]
    },
    {
     "name": "stdout",
     "output_type": "stream",
     "text": [
      "\n",
      "处理批次 79 (大小: 10000000)\n"
     ]
    },
    {
     "name": "stderr",
     "output_type": "stream",
     "text": [
      "批次 79 进度: 100%|███████████████████████████| 100/100 [00:02<00:00, 37.52it/s]\n"
     ]
    },
    {
     "name": "stdout",
     "output_type": "stream",
     "text": [
      "\n",
      "处理批次 80 (大小: 10000000)\n"
     ]
    },
    {
     "name": "stderr",
     "output_type": "stream",
     "text": [
      "批次 80 进度: 100%|███████████████████████████| 100/100 [00:02<00:00, 36.90it/s]\n"
     ]
    },
    {
     "name": "stdout",
     "output_type": "stream",
     "text": [
      "\n",
      "处理批次 81 (大小: 10000000)\n"
     ]
    },
    {
     "name": "stderr",
     "output_type": "stream",
     "text": [
      "批次 81 进度: 100%|███████████████████████████| 100/100 [00:02<00:00, 37.35it/s]\n"
     ]
    },
    {
     "name": "stdout",
     "output_type": "stream",
     "text": [
      "\n",
      "处理批次 82 (大小: 10000000)\n"
     ]
    },
    {
     "name": "stderr",
     "output_type": "stream",
     "text": [
      "批次 82 进度: 100%|███████████████████████████| 100/100 [00:02<00:00, 38.40it/s]\n"
     ]
    },
    {
     "name": "stdout",
     "output_type": "stream",
     "text": [
      "\n",
      "处理批次 83 (大小: 10000000)\n"
     ]
    },
    {
     "name": "stderr",
     "output_type": "stream",
     "text": [
      "批次 83 进度: 100%|███████████████████████████| 100/100 [00:02<00:00, 37.17it/s]\n"
     ]
    },
    {
     "name": "stdout",
     "output_type": "stream",
     "text": [
      "\n",
      "处理批次 84 (大小: 10000000)\n"
     ]
    },
    {
     "name": "stderr",
     "output_type": "stream",
     "text": [
      "批次 84 进度: 100%|███████████████████████████| 100/100 [00:02<00:00, 37.27it/s]\n"
     ]
    },
    {
     "name": "stdout",
     "output_type": "stream",
     "text": [
      "\n",
      "处理批次 85 (大小: 10000000)\n"
     ]
    },
    {
     "name": "stderr",
     "output_type": "stream",
     "text": [
      "批次 85 进度: 100%|███████████████████████████| 100/100 [00:02<00:00, 37.63it/s]\n"
     ]
    },
    {
     "name": "stdout",
     "output_type": "stream",
     "text": [
      "\n",
      "处理批次 86 (大小: 10000000)\n"
     ]
    },
    {
     "name": "stderr",
     "output_type": "stream",
     "text": [
      "批次 86 进度: 100%|███████████████████████████| 100/100 [00:02<00:00, 37.51it/s]\n"
     ]
    },
    {
     "name": "stdout",
     "output_type": "stream",
     "text": [
      "\n",
      "处理批次 87 (大小: 10000000)\n"
     ]
    },
    {
     "name": "stderr",
     "output_type": "stream",
     "text": [
      "批次 87 进度: 100%|███████████████████████████| 100/100 [00:02<00:00, 38.67it/s]\n"
     ]
    },
    {
     "name": "stdout",
     "output_type": "stream",
     "text": [
      "\n",
      "处理批次 88 (大小: 10000000)\n"
     ]
    },
    {
     "name": "stderr",
     "output_type": "stream",
     "text": [
      "批次 88 进度: 100%|███████████████████████████| 100/100 [00:02<00:00, 39.43it/s]\n"
     ]
    },
    {
     "name": "stdout",
     "output_type": "stream",
     "text": [
      "\n",
      "处理批次 89 (大小: 10000000)\n"
     ]
    },
    {
     "name": "stderr",
     "output_type": "stream",
     "text": [
      "批次 89 进度: 100%|███████████████████████████| 100/100 [00:02<00:00, 38.67it/s]\n"
     ]
    },
    {
     "name": "stdout",
     "output_type": "stream",
     "text": [
      "\n",
      "处理批次 90 (大小: 10000000)\n"
     ]
    },
    {
     "name": "stderr",
     "output_type": "stream",
     "text": [
      "批次 90 进度: 100%|███████████████████████████| 100/100 [00:02<00:00, 37.96it/s]\n"
     ]
    },
    {
     "name": "stdout",
     "output_type": "stream",
     "text": [
      "\n",
      "处理批次 91 (大小: 10000000)\n"
     ]
    },
    {
     "name": "stderr",
     "output_type": "stream",
     "text": [
      "批次 91 进度: 100%|███████████████████████████| 100/100 [00:02<00:00, 37.07it/s]\n"
     ]
    },
    {
     "name": "stdout",
     "output_type": "stream",
     "text": [
      "\n",
      "处理批次 92 (大小: 10000000)\n"
     ]
    },
    {
     "name": "stderr",
     "output_type": "stream",
     "text": [
      "批次 92 进度: 100%|███████████████████████████| 100/100 [00:02<00:00, 38.09it/s]\n"
     ]
    },
    {
     "name": "stdout",
     "output_type": "stream",
     "text": [
      "\n",
      "处理批次 93 (大小: 10000000)\n"
     ]
    },
    {
     "name": "stderr",
     "output_type": "stream",
     "text": [
      "批次 93 进度: 100%|███████████████████████████| 100/100 [00:02<00:00, 36.24it/s]\n"
     ]
    },
    {
     "name": "stdout",
     "output_type": "stream",
     "text": [
      "\n",
      "处理批次 94 (大小: 10000000)\n"
     ]
    },
    {
     "name": "stderr",
     "output_type": "stream",
     "text": [
      "批次 94 进度: 100%|███████████████████████████| 100/100 [00:02<00:00, 36.84it/s]\n"
     ]
    },
    {
     "name": "stdout",
     "output_type": "stream",
     "text": [
      "\n",
      "处理批次 95 (大小: 10000000)\n"
     ]
    },
    {
     "name": "stderr",
     "output_type": "stream",
     "text": [
      "批次 95 进度: 100%|███████████████████████████| 100/100 [00:02<00:00, 34.59it/s]\n"
     ]
    },
    {
     "name": "stdout",
     "output_type": "stream",
     "text": [
      "\n",
      "处理批次 96 (大小: 10000000)\n"
     ]
    },
    {
     "name": "stderr",
     "output_type": "stream",
     "text": [
      "批次 96 进度: 100%|███████████████████████████| 100/100 [00:02<00:00, 35.78it/s]\n"
     ]
    },
    {
     "name": "stdout",
     "output_type": "stream",
     "text": [
      "\n",
      "处理批次 97 (大小: 10000000)\n"
     ]
    },
    {
     "name": "stderr",
     "output_type": "stream",
     "text": [
      "批次 97 进度: 100%|███████████████████████████| 100/100 [00:02<00:00, 35.75it/s]\n"
     ]
    },
    {
     "name": "stdout",
     "output_type": "stream",
     "text": [
      "\n",
      "处理批次 98 (大小: 10000000)\n"
     ]
    },
    {
     "name": "stderr",
     "output_type": "stream",
     "text": [
      "批次 98 进度: 100%|███████████████████████████| 100/100 [00:02<00:00, 36.74it/s]\n"
     ]
    },
    {
     "name": "stdout",
     "output_type": "stream",
     "text": [
      "\n",
      "处理批次 99 (大小: 10000000)\n"
     ]
    },
    {
     "name": "stderr",
     "output_type": "stream",
     "text": [
      "批次 99 进度: 100%|███████████████████████████| 100/100 [00:02<00:00, 36.22it/s]\n"
     ]
    },
    {
     "name": "stdout",
     "output_type": "stream",
     "text": [
      "\n",
      "处理批次 100 (大小: 10000000)\n"
     ]
    },
    {
     "name": "stderr",
     "output_type": "stream",
     "text": [
      "批次 100 进度: 100%|██████████████████████████| 100/100 [00:02<00:00, 36.56it/s]\n"
     ]
    },
    {
     "name": "stdout",
     "output_type": "stream",
     "text": [
      "\n",
      "处理批次 101 (大小: 10000000)\n"
     ]
    },
    {
     "name": "stderr",
     "output_type": "stream",
     "text": [
      "批次 101 进度: 100%|██████████████████████████| 100/100 [00:02<00:00, 37.98it/s]\n"
     ]
    },
    {
     "name": "stdout",
     "output_type": "stream",
     "text": [
      "\n",
      "处理批次 102 (大小: 10000000)\n"
     ]
    },
    {
     "name": "stderr",
     "output_type": "stream",
     "text": [
      "批次 102 进度: 100%|██████████████████████████| 100/100 [00:02<00:00, 37.40it/s]\n"
     ]
    },
    {
     "name": "stdout",
     "output_type": "stream",
     "text": [
      "\n",
      "处理批次 103 (大小: 10000000)\n"
     ]
    },
    {
     "name": "stderr",
     "output_type": "stream",
     "text": [
      "批次 103 进度: 100%|██████████████████████████| 100/100 [00:02<00:00, 36.99it/s]\n"
     ]
    },
    {
     "name": "stdout",
     "output_type": "stream",
     "text": [
      "\n",
      "处理批次 104 (大小: 10000000)\n"
     ]
    },
    {
     "name": "stderr",
     "output_type": "stream",
     "text": [
      "批次 104 进度: 100%|██████████████████████████| 100/100 [00:02<00:00, 37.13it/s]\n"
     ]
    },
    {
     "name": "stdout",
     "output_type": "stream",
     "text": [
      "\n",
      "处理批次 105 (大小: 10000000)\n"
     ]
    },
    {
     "name": "stderr",
     "output_type": "stream",
     "text": [
      "批次 105 进度: 100%|██████████████████████████| 100/100 [00:02<00:00, 37.43it/s]\n"
     ]
    },
    {
     "name": "stdout",
     "output_type": "stream",
     "text": [
      "\n",
      "处理批次 106 (大小: 10000000)\n"
     ]
    },
    {
     "name": "stderr",
     "output_type": "stream",
     "text": [
      "批次 106 进度: 100%|██████████████████████████| 100/100 [00:02<00:00, 36.19it/s]\n"
     ]
    },
    {
     "name": "stdout",
     "output_type": "stream",
     "text": [
      "\n",
      "处理批次 107 (大小: 10000000)\n"
     ]
    },
    {
     "name": "stderr",
     "output_type": "stream",
     "text": [
      "批次 107 进度: 100%|██████████████████████████| 100/100 [00:02<00:00, 37.13it/s]\n"
     ]
    },
    {
     "name": "stdout",
     "output_type": "stream",
     "text": [
      "\n",
      "处理批次 108 (大小: 10000000)\n"
     ]
    },
    {
     "name": "stderr",
     "output_type": "stream",
     "text": [
      "批次 108 进度: 100%|██████████████████████████| 100/100 [00:02<00:00, 36.74it/s]\n"
     ]
    },
    {
     "name": "stdout",
     "output_type": "stream",
     "text": [
      "\n",
      "处理批次 109 (大小: 10000000)\n"
     ]
    },
    {
     "name": "stderr",
     "output_type": "stream",
     "text": [
      "批次 109 进度: 100%|██████████████████████████| 100/100 [00:02<00:00, 38.10it/s]\n"
     ]
    },
    {
     "name": "stdout",
     "output_type": "stream",
     "text": [
      "\n",
      "处理批次 110 (大小: 10000000)\n"
     ]
    },
    {
     "name": "stderr",
     "output_type": "stream",
     "text": [
      "批次 110 进度: 100%|██████████████████████████| 100/100 [00:02<00:00, 37.48it/s]\n"
     ]
    },
    {
     "name": "stdout",
     "output_type": "stream",
     "text": [
      "\n",
      "处理批次 111 (大小: 10000000)\n"
     ]
    },
    {
     "name": "stderr",
     "output_type": "stream",
     "text": [
      "批次 111 进度: 100%|██████████████████████████| 100/100 [00:02<00:00, 38.63it/s]\n"
     ]
    },
    {
     "name": "stdout",
     "output_type": "stream",
     "text": [
      "\n",
      "处理批次 112 (大小: 10000000)\n"
     ]
    },
    {
     "name": "stderr",
     "output_type": "stream",
     "text": [
      "批次 112 进度: 100%|██████████████████████████| 100/100 [00:02<00:00, 37.84it/s]\n"
     ]
    },
    {
     "name": "stdout",
     "output_type": "stream",
     "text": [
      "\n",
      "处理批次 113 (大小: 10000000)\n"
     ]
    },
    {
     "name": "stderr",
     "output_type": "stream",
     "text": [
      "批次 113 进度: 100%|██████████████████████████| 100/100 [00:02<00:00, 38.11it/s]\n"
     ]
    },
    {
     "name": "stdout",
     "output_type": "stream",
     "text": [
      "\n",
      "处理批次 114 (大小: 10000000)\n"
     ]
    },
    {
     "name": "stderr",
     "output_type": "stream",
     "text": [
      "批次 114 进度: 100%|██████████████████████████| 100/100 [00:02<00:00, 37.89it/s]\n"
     ]
    },
    {
     "name": "stdout",
     "output_type": "stream",
     "text": [
      "\n",
      "处理批次 115 (大小: 10000000)\n"
     ]
    },
    {
     "name": "stderr",
     "output_type": "stream",
     "text": [
      "批次 115 进度: 100%|██████████████████████████| 100/100 [00:02<00:00, 37.90it/s]\n"
     ]
    },
    {
     "name": "stdout",
     "output_type": "stream",
     "text": [
      "\n",
      "处理批次 116 (大小: 10000000)\n"
     ]
    },
    {
     "name": "stderr",
     "output_type": "stream",
     "text": [
      "批次 116 进度: 100%|██████████████████████████| 100/100 [00:02<00:00, 36.63it/s]\n"
     ]
    },
    {
     "name": "stdout",
     "output_type": "stream",
     "text": [
      "\n",
      "处理批次 117 (大小: 10000000)\n"
     ]
    },
    {
     "name": "stderr",
     "output_type": "stream",
     "text": [
      "批次 117 进度: 100%|██████████████████████████| 100/100 [00:02<00:00, 35.90it/s]\n"
     ]
    },
    {
     "name": "stdout",
     "output_type": "stream",
     "text": [
      "\n",
      "处理批次 118 (大小: 10000000)\n"
     ]
    },
    {
     "name": "stderr",
     "output_type": "stream",
     "text": [
      "批次 118 进度: 100%|██████████████████████████| 100/100 [00:03<00:00, 32.53it/s]\n"
     ]
    },
    {
     "name": "stdout",
     "output_type": "stream",
     "text": [
      "\n",
      "处理批次 119 (大小: 10000000)\n"
     ]
    },
    {
     "name": "stderr",
     "output_type": "stream",
     "text": [
      "批次 119 进度: 100%|██████████████████████████| 100/100 [00:02<00:00, 35.16it/s]\n"
     ]
    },
    {
     "name": "stdout",
     "output_type": "stream",
     "text": [
      "\n",
      "处理批次 120 (大小: 10000000)\n"
     ]
    },
    {
     "name": "stderr",
     "output_type": "stream",
     "text": [
      "批次 120 进度: 100%|██████████████████████████| 100/100 [00:02<00:00, 37.52it/s]\n"
     ]
    },
    {
     "name": "stdout",
     "output_type": "stream",
     "text": [
      "\n",
      "处理批次 121 (大小: 10000000)\n"
     ]
    },
    {
     "name": "stderr",
     "output_type": "stream",
     "text": [
      "批次 121 进度: 100%|██████████████████████████| 100/100 [00:02<00:00, 37.11it/s]\n"
     ]
    },
    {
     "name": "stdout",
     "output_type": "stream",
     "text": [
      "\n",
      "处理批次 122 (大小: 10000000)\n"
     ]
    },
    {
     "name": "stderr",
     "output_type": "stream",
     "text": [
      "批次 122 进度: 100%|██████████████████████████| 100/100 [00:02<00:00, 36.77it/s]\n"
     ]
    },
    {
     "name": "stdout",
     "output_type": "stream",
     "text": [
      "\n",
      "处理批次 123 (大小: 10000000)\n"
     ]
    },
    {
     "name": "stderr",
     "output_type": "stream",
     "text": [
      "批次 123 进度: 100%|██████████████████████████| 100/100 [00:02<00:00, 37.11it/s]\n"
     ]
    },
    {
     "name": "stdout",
     "output_type": "stream",
     "text": [
      "\n",
      "处理批次 124 (大小: 10000000)\n"
     ]
    },
    {
     "name": "stderr",
     "output_type": "stream",
     "text": [
      "批次 124 进度: 100%|██████████████████████████| 100/100 [00:02<00:00, 36.15it/s]\n"
     ]
    },
    {
     "name": "stdout",
     "output_type": "stream",
     "text": [
      "\n",
      "处理批次 125 (大小: 10000000)\n"
     ]
    },
    {
     "name": "stderr",
     "output_type": "stream",
     "text": [
      "批次 125 进度: 100%|██████████████████████████| 100/100 [00:02<00:00, 37.56it/s]\n"
     ]
    },
    {
     "name": "stdout",
     "output_type": "stream",
     "text": [
      "\n",
      "处理批次 126 (大小: 10000000)\n"
     ]
    },
    {
     "name": "stderr",
     "output_type": "stream",
     "text": [
      "批次 126 进度: 100%|██████████████████████████| 100/100 [00:02<00:00, 37.40it/s]\n"
     ]
    },
    {
     "name": "stdout",
     "output_type": "stream",
     "text": [
      "\n",
      "处理批次 127 (大小: 10000000)\n"
     ]
    },
    {
     "name": "stderr",
     "output_type": "stream",
     "text": [
      "批次 127 进度: 100%|██████████████████████████| 100/100 [00:02<00:00, 36.70it/s]\n"
     ]
    },
    {
     "name": "stdout",
     "output_type": "stream",
     "text": [
      "\n",
      "处理批次 128 (大小: 10000000)\n"
     ]
    },
    {
     "name": "stderr",
     "output_type": "stream",
     "text": [
      "批次 128 进度: 100%|██████████████████████████| 100/100 [00:02<00:00, 37.11it/s]\n"
     ]
    },
    {
     "name": "stdout",
     "output_type": "stream",
     "text": [
      "\n",
      "处理批次 129 (大小: 10000000)\n"
     ]
    },
    {
     "name": "stderr",
     "output_type": "stream",
     "text": [
      "批次 129 进度: 100%|██████████████████████████| 100/100 [00:02<00:00, 38.00it/s]\n"
     ]
    },
    {
     "name": "stdout",
     "output_type": "stream",
     "text": [
      "\n",
      "处理批次 130 (大小: 10000000)\n"
     ]
    },
    {
     "name": "stderr",
     "output_type": "stream",
     "text": [
      "批次 130 进度: 100%|██████████████████████████| 100/100 [00:02<00:00, 36.58it/s]\n"
     ]
    },
    {
     "name": "stdout",
     "output_type": "stream",
     "text": [
      "\n",
      "处理批次 131 (大小: 10000000)\n"
     ]
    },
    {
     "name": "stderr",
     "output_type": "stream",
     "text": [
      "批次 131 进度: 100%|██████████████████████████| 100/100 [00:02<00:00, 36.65it/s]\n"
     ]
    },
    {
     "name": "stdout",
     "output_type": "stream",
     "text": [
      "\n",
      "处理批次 132 (大小: 10000000)\n"
     ]
    },
    {
     "name": "stderr",
     "output_type": "stream",
     "text": [
      "批次 132 进度: 100%|██████████████████████████| 100/100 [00:02<00:00, 36.37it/s]\n"
     ]
    },
    {
     "name": "stdout",
     "output_type": "stream",
     "text": [
      "\n",
      "处理批次 133 (大小: 10000000)\n"
     ]
    },
    {
     "name": "stderr",
     "output_type": "stream",
     "text": [
      "批次 133 进度: 100%|██████████████████████████| 100/100 [00:02<00:00, 37.33it/s]\n"
     ]
    },
    {
     "name": "stdout",
     "output_type": "stream",
     "text": [
      "\n",
      "处理批次 134 (大小: 10000000)\n"
     ]
    },
    {
     "name": "stderr",
     "output_type": "stream",
     "text": [
      "批次 134 进度: 100%|██████████████████████████| 100/100 [00:02<00:00, 38.17it/s]\n"
     ]
    },
    {
     "name": "stdout",
     "output_type": "stream",
     "text": [
      "\n",
      "处理批次 135 (大小: 10000000)\n"
     ]
    },
    {
     "name": "stderr",
     "output_type": "stream",
     "text": [
      "批次 135 进度: 100%|██████████████████████████| 100/100 [00:02<00:00, 38.42it/s]\n"
     ]
    },
    {
     "name": "stdout",
     "output_type": "stream",
     "text": [
      "\n",
      "处理批次 136 (大小: 10000000)\n"
     ]
    },
    {
     "name": "stderr",
     "output_type": "stream",
     "text": [
      "批次 136 进度: 100%|██████████████████████████| 100/100 [00:02<00:00, 38.35it/s]\n"
     ]
    },
    {
     "name": "stdout",
     "output_type": "stream",
     "text": [
      "\n",
      "处理批次 137 (大小: 10000000)\n"
     ]
    },
    {
     "name": "stderr",
     "output_type": "stream",
     "text": [
      "批次 137 进度: 100%|██████████████████████████| 100/100 [00:02<00:00, 38.24it/s]\n"
     ]
    },
    {
     "name": "stdout",
     "output_type": "stream",
     "text": [
      "\n",
      "处理批次 138 (大小: 10000000)\n"
     ]
    },
    {
     "name": "stderr",
     "output_type": "stream",
     "text": [
      "批次 138 进度: 100%|██████████████████████████| 100/100 [00:02<00:00, 37.35it/s]\n"
     ]
    },
    {
     "name": "stdout",
     "output_type": "stream",
     "text": [
      "\n",
      "处理批次 139 (大小: 10000000)\n"
     ]
    },
    {
     "name": "stderr",
     "output_type": "stream",
     "text": [
      "批次 139 进度: 100%|██████████████████████████| 100/100 [00:02<00:00, 37.90it/s]\n"
     ]
    },
    {
     "name": "stdout",
     "output_type": "stream",
     "text": [
      "\n",
      "处理批次 140 (大小: 10000000)\n"
     ]
    },
    {
     "name": "stderr",
     "output_type": "stream",
     "text": [
      "批次 140 进度: 100%|██████████████████████████| 100/100 [00:02<00:00, 35.66it/s]\n"
     ]
    },
    {
     "name": "stdout",
     "output_type": "stream",
     "text": [
      "\n",
      "处理批次 141 (大小: 10000000)\n"
     ]
    },
    {
     "name": "stderr",
     "output_type": "stream",
     "text": [
      "批次 141 进度: 100%|██████████████████████████| 100/100 [00:02<00:00, 36.04it/s]\n"
     ]
    },
    {
     "name": "stdout",
     "output_type": "stream",
     "text": [
      "\n",
      "处理批次 142 (大小: 10000000)\n"
     ]
    },
    {
     "name": "stderr",
     "output_type": "stream",
     "text": [
      "批次 142 进度: 100%|██████████████████████████| 100/100 [00:02<00:00, 34.74it/s]\n"
     ]
    },
    {
     "name": "stdout",
     "output_type": "stream",
     "text": [
      "\n",
      "处理批次 143 (大小: 10000000)\n"
     ]
    },
    {
     "name": "stderr",
     "output_type": "stream",
     "text": [
      "批次 143 进度: 100%|██████████████████████████| 100/100 [00:02<00:00, 34.21it/s]\n"
     ]
    },
    {
     "name": "stdout",
     "output_type": "stream",
     "text": [
      "\n",
      "处理批次 144 (大小: 10000000)\n"
     ]
    },
    {
     "name": "stderr",
     "output_type": "stream",
     "text": [
      "批次 144 进度: 100%|██████████████████████████| 100/100 [00:02<00:00, 38.90it/s]\n"
     ]
    },
    {
     "name": "stdout",
     "output_type": "stream",
     "text": [
      "\n",
      "处理批次 145 (大小: 10000000)\n"
     ]
    },
    {
     "name": "stderr",
     "output_type": "stream",
     "text": [
      "批次 145 进度: 100%|██████████████████████████| 100/100 [00:02<00:00, 36.35it/s]\n"
     ]
    },
    {
     "name": "stdout",
     "output_type": "stream",
     "text": [
      "\n",
      "处理批次 146 (大小: 10000000)\n"
     ]
    },
    {
     "name": "stderr",
     "output_type": "stream",
     "text": [
      "批次 146 进度: 100%|██████████████████████████| 100/100 [00:02<00:00, 36.69it/s]\n"
     ]
    },
    {
     "name": "stdout",
     "output_type": "stream",
     "text": [
      "\n",
      "处理批次 147 (大小: 10000000)\n"
     ]
    },
    {
     "name": "stderr",
     "output_type": "stream",
     "text": [
      "批次 147 进度: 100%|██████████████████████████| 100/100 [00:02<00:00, 37.18it/s]\n"
     ]
    },
    {
     "name": "stdout",
     "output_type": "stream",
     "text": [
      "\n",
      "处理批次 148 (大小: 10000000)\n"
     ]
    },
    {
     "name": "stderr",
     "output_type": "stream",
     "text": [
      "批次 148 进度: 100%|██████████████████████████| 100/100 [00:02<00:00, 37.49it/s]\n"
     ]
    },
    {
     "name": "stdout",
     "output_type": "stream",
     "text": [
      "\n",
      "处理批次 149 (大小: 10000000)\n"
     ]
    },
    {
     "name": "stderr",
     "output_type": "stream",
     "text": [
      "批次 149 进度: 100%|██████████████████████████| 100/100 [00:02<00:00, 38.02it/s]\n"
     ]
    },
    {
     "name": "stdout",
     "output_type": "stream",
     "text": [
      "\n",
      "处理批次 150 (大小: 10000000)\n"
     ]
    },
    {
     "name": "stderr",
     "output_type": "stream",
     "text": [
      "批次 150 进度: 100%|██████████████████████████| 100/100 [00:02<00:00, 36.02it/s]\n"
     ]
    },
    {
     "name": "stdout",
     "output_type": "stream",
     "text": [
      "\n",
      "处理批次 151 (大小: 10000000)\n"
     ]
    },
    {
     "name": "stderr",
     "output_type": "stream",
     "text": [
      "批次 151 进度: 100%|██████████████████████████| 100/100 [00:02<00:00, 37.08it/s]\n"
     ]
    },
    {
     "name": "stdout",
     "output_type": "stream",
     "text": [
      "\n",
      "处理批次 152 (大小: 10000000)\n"
     ]
    },
    {
     "name": "stderr",
     "output_type": "stream",
     "text": [
      "批次 152 进度: 100%|██████████████████████████| 100/100 [00:02<00:00, 36.77it/s]\n"
     ]
    },
    {
     "name": "stdout",
     "output_type": "stream",
     "text": [
      "\n",
      "处理批次 153 (大小: 10000000)\n"
     ]
    },
    {
     "name": "stderr",
     "output_type": "stream",
     "text": [
      "批次 153 进度: 100%|██████████████████████████| 100/100 [00:02<00:00, 33.81it/s]\n"
     ]
    },
    {
     "name": "stdout",
     "output_type": "stream",
     "text": [
      "\n",
      "处理批次 154 (大小: 10000000)\n"
     ]
    },
    {
     "name": "stderr",
     "output_type": "stream",
     "text": [
      "批次 154 进度: 100%|██████████████████████████| 100/100 [00:02<00:00, 35.53it/s]\n"
     ]
    },
    {
     "name": "stdout",
     "output_type": "stream",
     "text": [
      "\n",
      "处理批次 155 (大小: 10000000)\n"
     ]
    },
    {
     "name": "stderr",
     "output_type": "stream",
     "text": [
      "批次 155 进度: 100%|██████████████████████████| 100/100 [00:02<00:00, 36.92it/s]\n"
     ]
    },
    {
     "name": "stdout",
     "output_type": "stream",
     "text": [
      "\n",
      "处理批次 156 (大小: 10000000)\n"
     ]
    },
    {
     "name": "stderr",
     "output_type": "stream",
     "text": [
      "批次 156 进度: 100%|██████████████████████████| 100/100 [00:02<00:00, 36.50it/s]\n"
     ]
    },
    {
     "name": "stdout",
     "output_type": "stream",
     "text": [
      "\n",
      "处理批次 157 (大小: 10000000)\n"
     ]
    },
    {
     "name": "stderr",
     "output_type": "stream",
     "text": [
      "批次 157 进度: 100%|██████████████████████████| 100/100 [00:02<00:00, 36.97it/s]\n"
     ]
    },
    {
     "name": "stdout",
     "output_type": "stream",
     "text": [
      "\n",
      "处理批次 158 (大小: 10000000)\n"
     ]
    },
    {
     "name": "stderr",
     "output_type": "stream",
     "text": [
      "批次 158 进度: 100%|██████████████████████████| 100/100 [00:02<00:00, 36.56it/s]\n"
     ]
    },
    {
     "name": "stdout",
     "output_type": "stream",
     "text": [
      "\n",
      "处理批次 159 (大小: 10000000)\n"
     ]
    },
    {
     "name": "stderr",
     "output_type": "stream",
     "text": [
      "批次 159 进度: 100%|██████████████████████████| 100/100 [00:02<00:00, 37.62it/s]\n"
     ]
    },
    {
     "name": "stdout",
     "output_type": "stream",
     "text": [
      "\n",
      "处理批次 160 (大小: 10000000)\n"
     ]
    },
    {
     "name": "stderr",
     "output_type": "stream",
     "text": [
      "批次 160 进度: 100%|██████████████████████████| 100/100 [00:02<00:00, 36.57it/s]\n"
     ]
    },
    {
     "name": "stdout",
     "output_type": "stream",
     "text": [
      "\n",
      "处理批次 161 (大小: 10000000)\n"
     ]
    },
    {
     "name": "stderr",
     "output_type": "stream",
     "text": [
      "批次 161 进度: 100%|██████████████████████████| 100/100 [00:02<00:00, 37.87it/s]\n"
     ]
    },
    {
     "name": "stdout",
     "output_type": "stream",
     "text": [
      "\n",
      "处理批次 162 (大小: 10000000)\n"
     ]
    },
    {
     "name": "stderr",
     "output_type": "stream",
     "text": [
      "批次 162 进度: 100%|██████████████████████████| 100/100 [00:02<00:00, 36.14it/s]\n"
     ]
    },
    {
     "name": "stdout",
     "output_type": "stream",
     "text": [
      "\n",
      "处理批次 163 (大小: 10000000)\n"
     ]
    },
    {
     "name": "stderr",
     "output_type": "stream",
     "text": [
      "批次 163 进度: 100%|██████████████████████████| 100/100 [00:02<00:00, 35.54it/s]\n"
     ]
    },
    {
     "name": "stdout",
     "output_type": "stream",
     "text": [
      "\n",
      "处理批次 164 (大小: 10000000)\n"
     ]
    },
    {
     "name": "stderr",
     "output_type": "stream",
     "text": [
      "批次 164 进度: 100%|██████████████████████████| 100/100 [00:02<00:00, 37.17it/s]\n"
     ]
    },
    {
     "name": "stdout",
     "output_type": "stream",
     "text": [
      "\n",
      "处理批次 165 (大小: 10000000)\n"
     ]
    },
    {
     "name": "stderr",
     "output_type": "stream",
     "text": [
      "批次 165 进度: 100%|██████████████████████████| 100/100 [00:03<00:00, 32.50it/s]\n"
     ]
    },
    {
     "name": "stdout",
     "output_type": "stream",
     "text": [
      "\n",
      "处理批次 166 (大小: 10000000)\n"
     ]
    },
    {
     "name": "stderr",
     "output_type": "stream",
     "text": [
      "批次 166 进度: 100%|██████████████████████████| 100/100 [00:02<00:00, 33.90it/s]\n"
     ]
    },
    {
     "name": "stdout",
     "output_type": "stream",
     "text": [
      "\n",
      "处理批次 167 (大小: 10000000)\n"
     ]
    },
    {
     "name": "stderr",
     "output_type": "stream",
     "text": [
      "批次 167 进度: 100%|██████████████████████████| 100/100 [00:02<00:00, 36.20it/s]\n"
     ]
    },
    {
     "name": "stdout",
     "output_type": "stream",
     "text": [
      "\n",
      "处理批次 168 (大小: 10000000)\n"
     ]
    },
    {
     "name": "stderr",
     "output_type": "stream",
     "text": [
      "批次 168 进度: 100%|██████████████████████████| 100/100 [00:02<00:00, 38.33it/s]\n"
     ]
    },
    {
     "name": "stdout",
     "output_type": "stream",
     "text": [
      "\n",
      "处理批次 169 (大小: 10000000)\n"
     ]
    },
    {
     "name": "stderr",
     "output_type": "stream",
     "text": [
      "批次 169 进度: 100%|██████████████████████████| 100/100 [00:02<00:00, 36.56it/s]\n"
     ]
    },
    {
     "name": "stdout",
     "output_type": "stream",
     "text": [
      "\n",
      "处理批次 170 (大小: 10000000)\n"
     ]
    },
    {
     "name": "stderr",
     "output_type": "stream",
     "text": [
      "批次 170 进度: 100%|██████████████████████████| 100/100 [00:02<00:00, 35.92it/s]\n"
     ]
    },
    {
     "name": "stdout",
     "output_type": "stream",
     "text": [
      "\n",
      "处理批次 171 (大小: 10000000)\n"
     ]
    },
    {
     "name": "stderr",
     "output_type": "stream",
     "text": [
      "批次 171 进度: 100%|██████████████████████████| 100/100 [00:02<00:00, 37.60it/s]\n"
     ]
    },
    {
     "name": "stdout",
     "output_type": "stream",
     "text": [
      "\n",
      "处理批次 172 (大小: 10000000)\n"
     ]
    },
    {
     "name": "stderr",
     "output_type": "stream",
     "text": [
      "批次 172 进度: 100%|██████████████████████████| 100/100 [00:02<00:00, 36.00it/s]\n"
     ]
    },
    {
     "name": "stdout",
     "output_type": "stream",
     "text": [
      "\n",
      "处理批次 173 (大小: 10000000)\n"
     ]
    },
    {
     "name": "stderr",
     "output_type": "stream",
     "text": [
      "批次 173 进度: 100%|██████████████████████████| 100/100 [00:02<00:00, 37.11it/s]\n"
     ]
    },
    {
     "name": "stdout",
     "output_type": "stream",
     "text": [
      "\n",
      "处理批次 174 (大小: 10000000)\n"
     ]
    },
    {
     "name": "stderr",
     "output_type": "stream",
     "text": [
      "批次 174 进度: 100%|██████████████████████████| 100/100 [00:02<00:00, 37.38it/s]\n"
     ]
    },
    {
     "name": "stdout",
     "output_type": "stream",
     "text": [
      "\n",
      "处理批次 175 (大小: 10000000)\n"
     ]
    },
    {
     "name": "stderr",
     "output_type": "stream",
     "text": [
      "批次 175 进度: 100%|██████████████████████████| 100/100 [00:02<00:00, 36.59it/s]\n"
     ]
    },
    {
     "name": "stdout",
     "output_type": "stream",
     "text": [
      "\n",
      "处理批次 176 (大小: 10000000)\n"
     ]
    },
    {
     "name": "stderr",
     "output_type": "stream",
     "text": [
      "批次 176 进度: 100%|██████████████████████████| 100/100 [00:02<00:00, 35.83it/s]\n"
     ]
    },
    {
     "name": "stdout",
     "output_type": "stream",
     "text": [
      "\n",
      "处理批次 177 (大小: 10000000)\n"
     ]
    },
    {
     "name": "stderr",
     "output_type": "stream",
     "text": [
      "批次 177 进度: 100%|██████████████████████████| 100/100 [00:02<00:00, 36.14it/s]\n"
     ]
    },
    {
     "name": "stdout",
     "output_type": "stream",
     "text": [
      "\n",
      "处理批次 178 (大小: 10000000)\n"
     ]
    },
    {
     "name": "stderr",
     "output_type": "stream",
     "text": [
      "批次 178 进度: 100%|██████████████████████████| 100/100 [00:02<00:00, 35.37it/s]\n"
     ]
    },
    {
     "name": "stdout",
     "output_type": "stream",
     "text": [
      "\n",
      "处理批次 179 (大小: 10000000)\n"
     ]
    },
    {
     "name": "stderr",
     "output_type": "stream",
     "text": [
      "批次 179 进度: 100%|██████████████████████████| 100/100 [00:02<00:00, 36.46it/s]\n"
     ]
    },
    {
     "name": "stdout",
     "output_type": "stream",
     "text": [
      "\n",
      "处理批次 180 (大小: 10000000)\n"
     ]
    },
    {
     "name": "stderr",
     "output_type": "stream",
     "text": [
      "批次 180 进度: 100%|██████████████████████████| 100/100 [00:02<00:00, 34.64it/s]\n"
     ]
    },
    {
     "name": "stdout",
     "output_type": "stream",
     "text": [
      "\n",
      "处理批次 181 (大小: 10000000)\n"
     ]
    },
    {
     "name": "stderr",
     "output_type": "stream",
     "text": [
      "批次 181 进度: 100%|██████████████████████████| 100/100 [00:02<00:00, 37.53it/s]\n"
     ]
    },
    {
     "name": "stdout",
     "output_type": "stream",
     "text": [
      "\n",
      "处理批次 182 (大小: 10000000)\n"
     ]
    },
    {
     "name": "stderr",
     "output_type": "stream",
     "text": [
      "批次 182 进度: 100%|██████████████████████████| 100/100 [00:02<00:00, 37.50it/s]\n"
     ]
    },
    {
     "name": "stdout",
     "output_type": "stream",
     "text": [
      "\n",
      "处理批次 183 (大小: 10000000)\n"
     ]
    },
    {
     "name": "stderr",
     "output_type": "stream",
     "text": [
      "批次 183 进度: 100%|██████████████████████████| 100/100 [00:02<00:00, 36.87it/s]\n"
     ]
    },
    {
     "name": "stdout",
     "output_type": "stream",
     "text": [
      "\n",
      "处理批次 184 (大小: 10000000)\n"
     ]
    },
    {
     "name": "stderr",
     "output_type": "stream",
     "text": [
      "批次 184 进度: 100%|██████████████████████████| 100/100 [00:02<00:00, 37.28it/s]\n"
     ]
    },
    {
     "name": "stdout",
     "output_type": "stream",
     "text": [
      "\n",
      "处理批次 185 (大小: 10000000)\n"
     ]
    },
    {
     "name": "stderr",
     "output_type": "stream",
     "text": [
      "批次 185 进度: 100%|██████████████████████████| 100/100 [00:02<00:00, 39.05it/s]\n"
     ]
    },
    {
     "name": "stdout",
     "output_type": "stream",
     "text": [
      "\n",
      "处理批次 186 (大小: 10000000)\n"
     ]
    },
    {
     "name": "stderr",
     "output_type": "stream",
     "text": [
      "批次 186 进度: 100%|██████████████████████████| 100/100 [00:02<00:00, 34.81it/s]\n"
     ]
    },
    {
     "name": "stdout",
     "output_type": "stream",
     "text": [
      "\n",
      "处理批次 187 (大小: 10000000)\n"
     ]
    },
    {
     "name": "stderr",
     "output_type": "stream",
     "text": [
      "批次 187 进度: 100%|██████████████████████████| 100/100 [00:02<00:00, 36.89it/s]\n"
     ]
    },
    {
     "name": "stdout",
     "output_type": "stream",
     "text": [
      "\n",
      "处理批次 188 (大小: 10000000)\n"
     ]
    },
    {
     "name": "stderr",
     "output_type": "stream",
     "text": [
      "批次 188 进度: 100%|██████████████████████████| 100/100 [00:02<00:00, 35.95it/s]\n"
     ]
    },
    {
     "name": "stdout",
     "output_type": "stream",
     "text": [
      "\n",
      "处理批次 189 (大小: 10000000)\n"
     ]
    },
    {
     "name": "stderr",
     "output_type": "stream",
     "text": [
      "批次 189 进度: 100%|██████████████████████████| 100/100 [00:02<00:00, 34.55it/s]\n"
     ]
    },
    {
     "name": "stdout",
     "output_type": "stream",
     "text": [
      "\n",
      "处理批次 190 (大小: 10000000)\n"
     ]
    },
    {
     "name": "stderr",
     "output_type": "stream",
     "text": [
      "批次 190 进度: 100%|██████████████████████████| 100/100 [00:02<00:00, 34.27it/s]\n"
     ]
    },
    {
     "name": "stdout",
     "output_type": "stream",
     "text": [
      "\n",
      "处理批次 191 (大小: 10000000)\n"
     ]
    },
    {
     "name": "stderr",
     "output_type": "stream",
     "text": [
      "批次 191 进度: 100%|██████████████████████████| 100/100 [00:02<00:00, 37.19it/s]\n"
     ]
    },
    {
     "name": "stdout",
     "output_type": "stream",
     "text": [
      "\n",
      "处理批次 192 (大小: 10000000)\n"
     ]
    },
    {
     "name": "stderr",
     "output_type": "stream",
     "text": [
      "批次 192 进度: 100%|██████████████████████████| 100/100 [00:02<00:00, 39.35it/s]\n"
     ]
    },
    {
     "name": "stdout",
     "output_type": "stream",
     "text": [
      "\n",
      "处理批次 193 (大小: 10000000)\n"
     ]
    },
    {
     "name": "stderr",
     "output_type": "stream",
     "text": [
      "批次 193 进度: 100%|██████████████████████████| 100/100 [00:02<00:00, 35.55it/s]\n"
     ]
    },
    {
     "name": "stdout",
     "output_type": "stream",
     "text": [
      "\n",
      "处理批次 194 (大小: 10000000)\n"
     ]
    },
    {
     "name": "stderr",
     "output_type": "stream",
     "text": [
      "批次 194 进度: 100%|██████████████████████████| 100/100 [00:02<00:00, 37.21it/s]\n"
     ]
    },
    {
     "name": "stdout",
     "output_type": "stream",
     "text": [
      "\n",
      "处理批次 195 (大小: 10000000)\n"
     ]
    },
    {
     "name": "stderr",
     "output_type": "stream",
     "text": [
      "批次 195 进度: 100%|██████████████████████████| 100/100 [00:02<00:00, 36.19it/s]\n"
     ]
    },
    {
     "name": "stdout",
     "output_type": "stream",
     "text": [
      "\n",
      "处理批次 196 (大小: 10000000)\n"
     ]
    },
    {
     "name": "stderr",
     "output_type": "stream",
     "text": [
      "批次 196 进度: 100%|██████████████████████████| 100/100 [00:02<00:00, 35.74it/s]\n"
     ]
    },
    {
     "name": "stdout",
     "output_type": "stream",
     "text": [
      "\n",
      "处理批次 197 (大小: 10000000)\n"
     ]
    },
    {
     "name": "stderr",
     "output_type": "stream",
     "text": [
      "批次 197 进度: 100%|██████████████████████████| 100/100 [00:02<00:00, 37.27it/s]\n"
     ]
    },
    {
     "name": "stdout",
     "output_type": "stream",
     "text": [
      "\n",
      "处理批次 198 (大小: 10000000)\n"
     ]
    },
    {
     "name": "stderr",
     "output_type": "stream",
     "text": [
      "批次 198 进度: 100%|██████████████████████████| 100/100 [00:02<00:00, 36.69it/s]\n"
     ]
    },
    {
     "name": "stdout",
     "output_type": "stream",
     "text": [
      "\n",
      "处理批次 199 (大小: 10000000)\n"
     ]
    },
    {
     "name": "stderr",
     "output_type": "stream",
     "text": [
      "批次 199 进度: 100%|██████████████████████████| 100/100 [00:02<00:00, 37.55it/s]\n"
     ]
    },
    {
     "name": "stdout",
     "output_type": "stream",
     "text": [
      "\n",
      "处理批次 200 (大小: 10000000)\n"
     ]
    },
    {
     "name": "stderr",
     "output_type": "stream",
     "text": [
      "批次 200 进度: 100%|██████████████████████████| 100/100 [00:02<00:00, 33.38it/s]\n"
     ]
    },
    {
     "name": "stdout",
     "output_type": "stream",
     "text": [
      "\n",
      "处理批次 201 (大小: 10000000)\n"
     ]
    },
    {
     "name": "stderr",
     "output_type": "stream",
     "text": [
      "批次 201 进度: 100%|██████████████████████████| 100/100 [00:02<00:00, 36.57it/s]\n"
     ]
    },
    {
     "name": "stdout",
     "output_type": "stream",
     "text": [
      "\n",
      "处理批次 202 (大小: 10000000)\n"
     ]
    },
    {
     "name": "stderr",
     "output_type": "stream",
     "text": [
      "批次 202 进度: 100%|██████████████████████████| 100/100 [00:02<00:00, 36.36it/s]\n"
     ]
    },
    {
     "name": "stdout",
     "output_type": "stream",
     "text": [
      "\n",
      "处理批次 203 (大小: 10000000)\n"
     ]
    },
    {
     "name": "stderr",
     "output_type": "stream",
     "text": [
      "批次 203 进度: 100%|██████████████████████████| 100/100 [00:02<00:00, 35.69it/s]\n"
     ]
    },
    {
     "name": "stdout",
     "output_type": "stream",
     "text": [
      "\n",
      "处理批次 204 (大小: 10000000)\n"
     ]
    },
    {
     "name": "stderr",
     "output_type": "stream",
     "text": [
      "批次 204 进度: 100%|██████████████████████████| 100/100 [00:02<00:00, 37.14it/s]\n"
     ]
    },
    {
     "name": "stdout",
     "output_type": "stream",
     "text": [
      "\n",
      "处理批次 205 (大小: 10000000)\n"
     ]
    },
    {
     "name": "stderr",
     "output_type": "stream",
     "text": [
      "批次 205 进度: 100%|██████████████████████████| 100/100 [00:02<00:00, 38.00it/s]\n"
     ]
    },
    {
     "name": "stdout",
     "output_type": "stream",
     "text": [
      "\n",
      "处理批次 206 (大小: 10000000)\n"
     ]
    },
    {
     "name": "stderr",
     "output_type": "stream",
     "text": [
      "批次 206 进度: 100%|██████████████████████████| 100/100 [00:02<00:00, 35.00it/s]\n"
     ]
    },
    {
     "name": "stdout",
     "output_type": "stream",
     "text": [
      "\n",
      "处理批次 207 (大小: 10000000)\n"
     ]
    },
    {
     "name": "stderr",
     "output_type": "stream",
     "text": [
      "批次 207 进度: 100%|██████████████████████████| 100/100 [00:02<00:00, 36.60it/s]\n"
     ]
    },
    {
     "name": "stdout",
     "output_type": "stream",
     "text": [
      "\n",
      "处理批次 208 (大小: 10000000)\n"
     ]
    },
    {
     "name": "stderr",
     "output_type": "stream",
     "text": [
      "批次 208 进度: 100%|██████████████████████████| 100/100 [00:02<00:00, 38.43it/s]\n"
     ]
    },
    {
     "name": "stdout",
     "output_type": "stream",
     "text": [
      "\n",
      "处理批次 209 (大小: 10000000)\n"
     ]
    },
    {
     "name": "stderr",
     "output_type": "stream",
     "text": [
      "批次 209 进度: 100%|██████████████████████████| 100/100 [00:02<00:00, 36.67it/s]\n"
     ]
    },
    {
     "name": "stdout",
     "output_type": "stream",
     "text": [
      "\n",
      "处理批次 210 (大小: 10000000)\n"
     ]
    },
    {
     "name": "stderr",
     "output_type": "stream",
     "text": [
      "批次 210 进度: 100%|██████████████████████████| 100/100 [00:02<00:00, 36.48it/s]\n"
     ]
    },
    {
     "name": "stdout",
     "output_type": "stream",
     "text": [
      "\n",
      "处理批次 211 (大小: 10000000)\n"
     ]
    },
    {
     "name": "stderr",
     "output_type": "stream",
     "text": [
      "批次 211 进度: 100%|██████████████████████████| 100/100 [00:02<00:00, 37.26it/s]\n"
     ]
    },
    {
     "name": "stdout",
     "output_type": "stream",
     "text": [
      "\n",
      "处理批次 212 (大小: 10000000)\n"
     ]
    },
    {
     "name": "stderr",
     "output_type": "stream",
     "text": [
      "批次 212 进度: 100%|██████████████████████████| 100/100 [00:03<00:00, 31.99it/s]\n"
     ]
    },
    {
     "name": "stdout",
     "output_type": "stream",
     "text": [
      "\n",
      "处理批次 213 (大小: 10000000)\n"
     ]
    },
    {
     "name": "stderr",
     "output_type": "stream",
     "text": [
      "批次 213 进度: 100%|██████████████████████████| 100/100 [00:02<00:00, 35.28it/s]\n"
     ]
    },
    {
     "name": "stdout",
     "output_type": "stream",
     "text": [
      "\n",
      "处理批次 214 (大小: 10000000)\n"
     ]
    },
    {
     "name": "stderr",
     "output_type": "stream",
     "text": [
      "批次 214 进度: 100%|██████████████████████████| 100/100 [00:02<00:00, 37.05it/s]\n"
     ]
    },
    {
     "name": "stdout",
     "output_type": "stream",
     "text": [
      "\n",
      "处理批次 215 (大小: 10000000)\n"
     ]
    },
    {
     "name": "stderr",
     "output_type": "stream",
     "text": [
      "批次 215 进度: 100%|██████████████████████████| 100/100 [00:02<00:00, 36.62it/s]\n"
     ]
    },
    {
     "name": "stdout",
     "output_type": "stream",
     "text": [
      "\n",
      "处理批次 216 (大小: 10000000)\n"
     ]
    },
    {
     "name": "stderr",
     "output_type": "stream",
     "text": [
      "批次 216 进度: 100%|██████████████████████████| 100/100 [00:02<00:00, 40.13it/s]\n"
     ]
    },
    {
     "name": "stdout",
     "output_type": "stream",
     "text": [
      "\n",
      "处理批次 217 (大小: 10000000)\n"
     ]
    },
    {
     "name": "stderr",
     "output_type": "stream",
     "text": [
      "批次 217 进度: 100%|██████████████████████████| 100/100 [00:02<00:00, 36.38it/s]\n"
     ]
    },
    {
     "name": "stdout",
     "output_type": "stream",
     "text": [
      "\n",
      "处理批次 218 (大小: 10000000)\n"
     ]
    },
    {
     "name": "stderr",
     "output_type": "stream",
     "text": [
      "批次 218 进度: 100%|██████████████████████████| 100/100 [00:02<00:00, 35.63it/s]\n"
     ]
    },
    {
     "name": "stdout",
     "output_type": "stream",
     "text": [
      "\n",
      "处理批次 219 (大小: 10000000)\n"
     ]
    },
    {
     "name": "stderr",
     "output_type": "stream",
     "text": [
      "批次 219 进度: 100%|██████████████████████████| 100/100 [00:02<00:00, 36.67it/s]\n"
     ]
    },
    {
     "name": "stdout",
     "output_type": "stream",
     "text": [
      "\n",
      "处理批次 220 (大小: 10000000)\n"
     ]
    },
    {
     "name": "stderr",
     "output_type": "stream",
     "text": [
      "批次 220 进度: 100%|██████████████████████████| 100/100 [00:02<00:00, 36.62it/s]\n"
     ]
    },
    {
     "name": "stdout",
     "output_type": "stream",
     "text": [
      "\n",
      "处理批次 221 (大小: 10000000)\n"
     ]
    },
    {
     "name": "stderr",
     "output_type": "stream",
     "text": [
      "批次 221 进度: 100%|██████████████████████████| 100/100 [00:02<00:00, 37.11it/s]\n"
     ]
    },
    {
     "name": "stdout",
     "output_type": "stream",
     "text": [
      "\n",
      "处理批次 222 (大小: 10000000)\n"
     ]
    },
    {
     "name": "stderr",
     "output_type": "stream",
     "text": [
      "批次 222 进度: 100%|██████████████████████████| 100/100 [00:02<00:00, 36.64it/s]\n"
     ]
    },
    {
     "name": "stdout",
     "output_type": "stream",
     "text": [
      "\n",
      "处理批次 223 (大小: 10000000)\n"
     ]
    },
    {
     "name": "stderr",
     "output_type": "stream",
     "text": [
      "批次 223 进度: 100%|██████████████████████████| 100/100 [00:02<00:00, 36.53it/s]\n"
     ]
    },
    {
     "name": "stdout",
     "output_type": "stream",
     "text": [
      "\n",
      "处理批次 224 (大小: 10000000)\n"
     ]
    },
    {
     "name": "stderr",
     "output_type": "stream",
     "text": [
      "批次 224 进度: 100%|██████████████████████████| 100/100 [00:02<00:00, 34.14it/s]\n"
     ]
    },
    {
     "name": "stdout",
     "output_type": "stream",
     "text": [
      "\n",
      "处理批次 225 (大小: 10000000)\n"
     ]
    },
    {
     "name": "stderr",
     "output_type": "stream",
     "text": [
      "批次 225 进度: 100%|██████████████████████████| 100/100 [00:02<00:00, 35.20it/s]\n"
     ]
    },
    {
     "name": "stdout",
     "output_type": "stream",
     "text": [
      "\n",
      "处理批次 226 (大小: 10000000)\n"
     ]
    },
    {
     "name": "stderr",
     "output_type": "stream",
     "text": [
      "批次 226 进度: 100%|██████████████████████████| 100/100 [00:02<00:00, 35.94it/s]\n"
     ]
    },
    {
     "name": "stdout",
     "output_type": "stream",
     "text": [
      "\n",
      "处理批次 227 (大小: 10000000)\n"
     ]
    },
    {
     "name": "stderr",
     "output_type": "stream",
     "text": [
      "批次 227 进度: 100%|██████████████████████████| 100/100 [00:02<00:00, 36.31it/s]\n"
     ]
    },
    {
     "name": "stdout",
     "output_type": "stream",
     "text": [
      "\n",
      "处理批次 228 (大小: 10000000)\n"
     ]
    },
    {
     "name": "stderr",
     "output_type": "stream",
     "text": [
      "批次 228 进度: 100%|██████████████████████████| 100/100 [00:02<00:00, 37.42it/s]\n"
     ]
    },
    {
     "name": "stdout",
     "output_type": "stream",
     "text": [
      "\n",
      "处理批次 229 (大小: 10000000)\n"
     ]
    },
    {
     "name": "stderr",
     "output_type": "stream",
     "text": [
      "批次 229 进度: 100%|██████████████████████████| 100/100 [00:02<00:00, 37.36it/s]\n"
     ]
    },
    {
     "name": "stdout",
     "output_type": "stream",
     "text": [
      "\n",
      "处理批次 230 (大小: 10000000)\n"
     ]
    },
    {
     "name": "stderr",
     "output_type": "stream",
     "text": [
      "批次 230 进度: 100%|██████████████████████████| 100/100 [00:02<00:00, 36.71it/s]\n"
     ]
    },
    {
     "name": "stdout",
     "output_type": "stream",
     "text": [
      "\n",
      "处理批次 231 (大小: 10000000)\n"
     ]
    },
    {
     "name": "stderr",
     "output_type": "stream",
     "text": [
      "批次 231 进度: 100%|██████████████████████████| 100/100 [00:02<00:00, 39.13it/s]\n"
     ]
    },
    {
     "name": "stdout",
     "output_type": "stream",
     "text": [
      "\n",
      "处理批次 232 (大小: 10000000)\n"
     ]
    },
    {
     "name": "stderr",
     "output_type": "stream",
     "text": [
      "批次 232 进度: 100%|██████████████████████████| 100/100 [00:02<00:00, 35.41it/s]\n"
     ]
    },
    {
     "name": "stdout",
     "output_type": "stream",
     "text": [
      "\n",
      "处理批次 233 (大小: 10000000)\n"
     ]
    },
    {
     "name": "stderr",
     "output_type": "stream",
     "text": [
      "批次 233 进度: 100%|██████████████████████████| 100/100 [00:02<00:00, 36.42it/s]\n"
     ]
    },
    {
     "name": "stdout",
     "output_type": "stream",
     "text": [
      "\n",
      "处理批次 234 (大小: 10000000)\n"
     ]
    },
    {
     "name": "stderr",
     "output_type": "stream",
     "text": [
      "批次 234 进度: 100%|██████████████████████████| 100/100 [00:02<00:00, 36.33it/s]\n"
     ]
    },
    {
     "name": "stdout",
     "output_type": "stream",
     "text": [
      "\n",
      "处理批次 235 (大小: 10000000)\n"
     ]
    },
    {
     "name": "stderr",
     "output_type": "stream",
     "text": [
      "批次 235 进度: 100%|██████████████████████████| 100/100 [00:02<00:00, 35.86it/s]\n"
     ]
    },
    {
     "name": "stdout",
     "output_type": "stream",
     "text": [
      "\n",
      "处理批次 236 (大小: 10000000)\n"
     ]
    },
    {
     "name": "stderr",
     "output_type": "stream",
     "text": [
      "批次 236 进度: 100%|██████████████████████████| 100/100 [00:02<00:00, 34.28it/s]\n"
     ]
    },
    {
     "name": "stdout",
     "output_type": "stream",
     "text": [
      "\n",
      "处理批次 237 (大小: 10000000)\n"
     ]
    },
    {
     "name": "stderr",
     "output_type": "stream",
     "text": [
      "批次 237 进度: 100%|██████████████████████████| 100/100 [00:02<00:00, 35.50it/s]\n"
     ]
    },
    {
     "name": "stdout",
     "output_type": "stream",
     "text": [
      "\n",
      "处理批次 238 (大小: 10000000)\n"
     ]
    },
    {
     "name": "stderr",
     "output_type": "stream",
     "text": [
      "批次 238 进度: 100%|██████████████████████████| 100/100 [00:02<00:00, 35.72it/s]\n"
     ]
    },
    {
     "name": "stdout",
     "output_type": "stream",
     "text": [
      "\n",
      "处理批次 239 (大小: 10000000)\n"
     ]
    },
    {
     "name": "stderr",
     "output_type": "stream",
     "text": [
      "批次 239 进度: 100%|██████████████████████████| 100/100 [00:02<00:00, 37.73it/s]\n"
     ]
    },
    {
     "name": "stdout",
     "output_type": "stream",
     "text": [
      "\n",
      "处理批次 240 (大小: 10000000)\n"
     ]
    },
    {
     "name": "stderr",
     "output_type": "stream",
     "text": [
      "批次 240 进度: 100%|██████████████████████████| 100/100 [00:02<00:00, 39.20it/s]\n"
     ]
    },
    {
     "name": "stdout",
     "output_type": "stream",
     "text": [
      "\n",
      "处理批次 241 (大小: 10000000)\n"
     ]
    },
    {
     "name": "stderr",
     "output_type": "stream",
     "text": [
      "批次 241 进度: 100%|██████████████████████████| 100/100 [00:02<00:00, 35.52it/s]\n"
     ]
    },
    {
     "name": "stdout",
     "output_type": "stream",
     "text": [
      "\n",
      "处理批次 242 (大小: 10000000)\n"
     ]
    },
    {
     "name": "stderr",
     "output_type": "stream",
     "text": [
      "批次 242 进度: 100%|██████████████████████████| 100/100 [00:02<00:00, 35.56it/s]\n"
     ]
    },
    {
     "name": "stdout",
     "output_type": "stream",
     "text": [
      "\n",
      "处理批次 243 (大小: 10000000)\n"
     ]
    },
    {
     "name": "stderr",
     "output_type": "stream",
     "text": [
      "批次 243 进度: 100%|██████████████████████████| 100/100 [00:02<00:00, 37.05it/s]\n"
     ]
    },
    {
     "name": "stdout",
     "output_type": "stream",
     "text": [
      "\n",
      "处理批次 244 (大小: 10000000)\n"
     ]
    },
    {
     "name": "stderr",
     "output_type": "stream",
     "text": [
      "批次 244 进度: 100%|██████████████████████████| 100/100 [00:02<00:00, 36.21it/s]\n"
     ]
    },
    {
     "name": "stdout",
     "output_type": "stream",
     "text": [
      "\n",
      "处理批次 245 (大小: 10000000)\n"
     ]
    },
    {
     "name": "stderr",
     "output_type": "stream",
     "text": [
      "批次 245 进度: 100%|██████████████████████████| 100/100 [00:02<00:00, 36.54it/s]\n"
     ]
    },
    {
     "name": "stdout",
     "output_type": "stream",
     "text": [
      "\n",
      "处理批次 246 (大小: 10000000)\n"
     ]
    },
    {
     "name": "stderr",
     "output_type": "stream",
     "text": [
      "批次 246 进度: 100%|██████████████████████████| 100/100 [00:02<00:00, 36.77it/s]\n"
     ]
    },
    {
     "name": "stdout",
     "output_type": "stream",
     "text": [
      "\n",
      "处理批次 247 (大小: 10000000)\n"
     ]
    },
    {
     "name": "stderr",
     "output_type": "stream",
     "text": [
      "批次 247 进度: 100%|██████████████████████████| 100/100 [00:03<00:00, 32.94it/s]\n"
     ]
    },
    {
     "name": "stdout",
     "output_type": "stream",
     "text": [
      "\n",
      "处理批次 248 (大小: 10000000)\n"
     ]
    },
    {
     "name": "stderr",
     "output_type": "stream",
     "text": [
      "批次 248 进度: 100%|██████████████████████████| 100/100 [00:02<00:00, 36.61it/s]\n"
     ]
    },
    {
     "name": "stdout",
     "output_type": "stream",
     "text": [
      "\n",
      "处理批次 249 (大小: 10000000)\n"
     ]
    },
    {
     "name": "stderr",
     "output_type": "stream",
     "text": [
      "批次 249 进度: 100%|██████████████████████████| 100/100 [00:02<00:00, 37.22it/s]\n"
     ]
    },
    {
     "name": "stdout",
     "output_type": "stream",
     "text": [
      "\n",
      "处理批次 250 (大小: 10000000)\n"
     ]
    },
    {
     "name": "stderr",
     "output_type": "stream",
     "text": [
      "批次 250 进度: 100%|██████████████████████████| 100/100 [00:02<00:00, 35.73it/s]\n"
     ]
    },
    {
     "name": "stdout",
     "output_type": "stream",
     "text": [
      "\n",
      "处理批次 251 (大小: 10000000)\n"
     ]
    },
    {
     "name": "stderr",
     "output_type": "stream",
     "text": [
      "批次 251 进度: 100%|██████████████████████████| 100/100 [00:02<00:00, 36.69it/s]\n"
     ]
    },
    {
     "name": "stdout",
     "output_type": "stream",
     "text": [
      "\n",
      "处理批次 252 (大小: 10000000)\n"
     ]
    },
    {
     "name": "stderr",
     "output_type": "stream",
     "text": [
      "批次 252 进度: 100%|██████████████████████████| 100/100 [00:02<00:00, 36.38it/s]\n"
     ]
    },
    {
     "name": "stdout",
     "output_type": "stream",
     "text": [
      "\n",
      "处理批次 253 (大小: 10000000)\n"
     ]
    },
    {
     "name": "stderr",
     "output_type": "stream",
     "text": [
      "批次 253 进度: 100%|██████████████████████████| 100/100 [00:02<00:00, 36.68it/s]\n"
     ]
    },
    {
     "name": "stdout",
     "output_type": "stream",
     "text": [
      "\n",
      "处理批次 254 (大小: 10000000)\n"
     ]
    },
    {
     "name": "stderr",
     "output_type": "stream",
     "text": [
      "批次 254 进度: 100%|██████████████████████████| 100/100 [00:02<00:00, 39.34it/s]\n"
     ]
    },
    {
     "name": "stdout",
     "output_type": "stream",
     "text": [
      "\n",
      "处理批次 255 (大小: 10000000)\n"
     ]
    },
    {
     "name": "stderr",
     "output_type": "stream",
     "text": [
      "批次 255 进度: 100%|██████████████████████████| 100/100 [00:02<00:00, 36.09it/s]\n"
     ]
    },
    {
     "name": "stdout",
     "output_type": "stream",
     "text": [
      "\n",
      "处理批次 256 (大小: 10000000)\n"
     ]
    },
    {
     "name": "stderr",
     "output_type": "stream",
     "text": [
      "批次 256 进度: 100%|██████████████████████████| 100/100 [00:02<00:00, 36.15it/s]\n"
     ]
    },
    {
     "name": "stdout",
     "output_type": "stream",
     "text": [
      "\n",
      "处理批次 257 (大小: 10000000)\n"
     ]
    },
    {
     "name": "stderr",
     "output_type": "stream",
     "text": [
      "批次 257 进度: 100%|██████████████████████████| 100/100 [00:02<00:00, 36.29it/s]\n"
     ]
    },
    {
     "name": "stdout",
     "output_type": "stream",
     "text": [
      "\n",
      "处理批次 258 (大小: 10000000)\n"
     ]
    },
    {
     "name": "stderr",
     "output_type": "stream",
     "text": [
      "批次 258 进度: 100%|██████████████████████████| 100/100 [00:02<00:00, 35.91it/s]\n"
     ]
    },
    {
     "name": "stdout",
     "output_type": "stream",
     "text": [
      "\n",
      "处理批次 259 (大小: 10000000)\n"
     ]
    },
    {
     "name": "stderr",
     "output_type": "stream",
     "text": [
      "批次 259 进度: 100%|██████████████████████████| 100/100 [00:03<00:00, 32.46it/s]\n"
     ]
    },
    {
     "name": "stdout",
     "output_type": "stream",
     "text": [
      "\n",
      "处理批次 260 (大小: 10000000)\n"
     ]
    },
    {
     "name": "stderr",
     "output_type": "stream",
     "text": [
      "批次 260 进度: 100%|██████████████████████████| 100/100 [00:02<00:00, 34.25it/s]\n"
     ]
    },
    {
     "name": "stdout",
     "output_type": "stream",
     "text": [
      "\n",
      "处理批次 261 (大小: 10000000)\n"
     ]
    },
    {
     "name": "stderr",
     "output_type": "stream",
     "text": [
      "批次 261 进度: 100%|██████████████████████████| 100/100 [00:02<00:00, 36.71it/s]\n"
     ]
    },
    {
     "name": "stdout",
     "output_type": "stream",
     "text": [
      "\n",
      "处理批次 262 (大小: 10000000)\n"
     ]
    },
    {
     "name": "stderr",
     "output_type": "stream",
     "text": [
      "批次 262 进度: 100%|██████████████████████████| 100/100 [00:02<00:00, 36.22it/s]\n"
     ]
    },
    {
     "name": "stdout",
     "output_type": "stream",
     "text": [
      "\n",
      "处理批次 263 (大小: 10000000)\n"
     ]
    },
    {
     "name": "stderr",
     "output_type": "stream",
     "text": [
      "批次 263 进度: 100%|██████████████████████████| 100/100 [00:02<00:00, 37.53it/s]\n"
     ]
    },
    {
     "name": "stdout",
     "output_type": "stream",
     "text": [
      "\n",
      "处理批次 264 (大小: 10000000)\n"
     ]
    },
    {
     "name": "stderr",
     "output_type": "stream",
     "text": [
      "批次 264 进度: 100%|██████████████████████████| 100/100 [00:02<00:00, 38.99it/s]\n"
     ]
    },
    {
     "name": "stdout",
     "output_type": "stream",
     "text": [
      "\n",
      "处理批次 265 (大小: 10000000)\n"
     ]
    },
    {
     "name": "stderr",
     "output_type": "stream",
     "text": [
      "批次 265 进度: 100%|██████████████████████████| 100/100 [00:02<00:00, 36.22it/s]\n"
     ]
    },
    {
     "name": "stdout",
     "output_type": "stream",
     "text": [
      "\n",
      "处理批次 266 (大小: 10000000)\n"
     ]
    },
    {
     "name": "stderr",
     "output_type": "stream",
     "text": [
      "批次 266 进度: 100%|██████████████████████████| 100/100 [00:02<00:00, 36.59it/s]\n"
     ]
    },
    {
     "name": "stdout",
     "output_type": "stream",
     "text": [
      "\n",
      "处理批次 267 (大小: 10000000)\n"
     ]
    },
    {
     "name": "stderr",
     "output_type": "stream",
     "text": [
      "批次 267 进度: 100%|██████████████████████████| 100/100 [00:02<00:00, 36.38it/s]\n"
     ]
    },
    {
     "name": "stdout",
     "output_type": "stream",
     "text": [
      "\n",
      "处理批次 268 (大小: 10000000)\n"
     ]
    },
    {
     "name": "stderr",
     "output_type": "stream",
     "text": [
      "批次 268 进度: 100%|██████████████████████████| 100/100 [00:02<00:00, 37.57it/s]\n"
     ]
    },
    {
     "name": "stdout",
     "output_type": "stream",
     "text": [
      "\n",
      "处理批次 269 (大小: 10000000)\n"
     ]
    },
    {
     "name": "stderr",
     "output_type": "stream",
     "text": [
      "批次 269 进度: 100%|██████████████████████████| 100/100 [00:02<00:00, 37.05it/s]\n"
     ]
    },
    {
     "name": "stdout",
     "output_type": "stream",
     "text": [
      "\n",
      "处理批次 270 (大小: 10000000)\n"
     ]
    },
    {
     "name": "stderr",
     "output_type": "stream",
     "text": [
      "批次 270 进度: 100%|██████████████████████████| 100/100 [00:02<00:00, 35.76it/s]\n"
     ]
    },
    {
     "name": "stdout",
     "output_type": "stream",
     "text": [
      "\n",
      "处理批次 271 (大小: 10000000)\n"
     ]
    },
    {
     "name": "stderr",
     "output_type": "stream",
     "text": [
      "批次 271 进度: 100%|██████████████████████████| 100/100 [00:02<00:00, 35.41it/s]\n"
     ]
    },
    {
     "name": "stdout",
     "output_type": "stream",
     "text": [
      "\n",
      "处理批次 272 (大小: 10000000)\n"
     ]
    },
    {
     "name": "stderr",
     "output_type": "stream",
     "text": [
      "批次 272 进度: 100%|██████████████████████████| 100/100 [00:02<00:00, 34.94it/s]\n"
     ]
    },
    {
     "name": "stdout",
     "output_type": "stream",
     "text": [
      "\n",
      "处理批次 273 (大小: 10000000)\n"
     ]
    },
    {
     "name": "stderr",
     "output_type": "stream",
     "text": [
      "批次 273 进度: 100%|██████████████████████████| 100/100 [00:02<00:00, 36.39it/s]\n"
     ]
    },
    {
     "name": "stdout",
     "output_type": "stream",
     "text": [
      "\n",
      "处理批次 274 (大小: 10000000)\n"
     ]
    },
    {
     "name": "stderr",
     "output_type": "stream",
     "text": [
      "批次 274 进度: 100%|██████████████████████████| 100/100 [00:02<00:00, 36.36it/s]\n"
     ]
    },
    {
     "name": "stdout",
     "output_type": "stream",
     "text": [
      "\n",
      "处理批次 275 (大小: 10000000)\n"
     ]
    },
    {
     "name": "stderr",
     "output_type": "stream",
     "text": [
      "批次 275 进度: 100%|██████████████████████████| 100/100 [00:02<00:00, 36.35it/s]\n"
     ]
    },
    {
     "name": "stdout",
     "output_type": "stream",
     "text": [
      "\n",
      "处理批次 276 (大小: 10000000)\n"
     ]
    },
    {
     "name": "stderr",
     "output_type": "stream",
     "text": [
      "批次 276 进度: 100%|██████████████████████████| 100/100 [00:02<00:00, 35.76it/s]\n"
     ]
    },
    {
     "name": "stdout",
     "output_type": "stream",
     "text": [
      "\n",
      "处理批次 277 (大小: 10000000)\n"
     ]
    },
    {
     "name": "stderr",
     "output_type": "stream",
     "text": [
      "批次 277 进度: 100%|██████████████████████████| 100/100 [00:02<00:00, 39.84it/s]\n"
     ]
    },
    {
     "name": "stdout",
     "output_type": "stream",
     "text": [
      "\n",
      "处理批次 278 (大小: 10000000)\n"
     ]
    },
    {
     "name": "stderr",
     "output_type": "stream",
     "text": [
      "批次 278 进度: 100%|██████████████████████████| 100/100 [00:02<00:00, 35.72it/s]\n"
     ]
    },
    {
     "name": "stdout",
     "output_type": "stream",
     "text": [
      "\n",
      "处理批次 279 (大小: 10000000)\n"
     ]
    },
    {
     "name": "stderr",
     "output_type": "stream",
     "text": [
      "批次 279 进度: 100%|██████████████████████████| 100/100 [00:02<00:00, 35.89it/s]\n"
     ]
    },
    {
     "name": "stdout",
     "output_type": "stream",
     "text": [
      "\n",
      "处理批次 280 (大小: 10000000)\n"
     ]
    },
    {
     "name": "stderr",
     "output_type": "stream",
     "text": [
      "批次 280 进度: 100%|██████████████████████████| 100/100 [00:02<00:00, 37.12it/s]\n"
     ]
    },
    {
     "name": "stdout",
     "output_type": "stream",
     "text": [
      "\n",
      "处理批次 281 (大小: 10000000)\n"
     ]
    },
    {
     "name": "stderr",
     "output_type": "stream",
     "text": [
      "批次 281 进度: 100%|██████████████████████████| 100/100 [00:02<00:00, 36.81it/s]\n"
     ]
    },
    {
     "name": "stdout",
     "output_type": "stream",
     "text": [
      "\n",
      "处理批次 282 (大小: 10000000)\n"
     ]
    },
    {
     "name": "stderr",
     "output_type": "stream",
     "text": [
      "批次 282 进度: 100%|██████████████████████████| 100/100 [00:02<00:00, 36.15it/s]\n"
     ]
    },
    {
     "name": "stdout",
     "output_type": "stream",
     "text": [
      "\n",
      "处理批次 283 (大小: 10000000)\n"
     ]
    },
    {
     "name": "stderr",
     "output_type": "stream",
     "text": [
      "批次 283 进度: 100%|██████████████████████████| 100/100 [00:02<00:00, 34.49it/s]\n"
     ]
    },
    {
     "name": "stdout",
     "output_type": "stream",
     "text": [
      "\n",
      "处理批次 284 (大小: 10000000)\n"
     ]
    },
    {
     "name": "stderr",
     "output_type": "stream",
     "text": [
      "批次 284 进度: 100%|██████████████████████████| 100/100 [00:02<00:00, 35.01it/s]\n"
     ]
    },
    {
     "name": "stdout",
     "output_type": "stream",
     "text": [
      "\n",
      "处理批次 285 (大小: 10000000)\n"
     ]
    },
    {
     "name": "stderr",
     "output_type": "stream",
     "text": [
      "批次 285 进度: 100%|██████████████████████████| 100/100 [00:02<00:00, 36.66it/s]\n"
     ]
    },
    {
     "name": "stdout",
     "output_type": "stream",
     "text": [
      "\n",
      "处理批次 286 (大小: 10000000)\n"
     ]
    },
    {
     "name": "stderr",
     "output_type": "stream",
     "text": [
      "批次 286 进度: 100%|██████████████████████████| 100/100 [00:02<00:00, 36.97it/s]\n"
     ]
    },
    {
     "name": "stdout",
     "output_type": "stream",
     "text": [
      "\n",
      "处理批次 287 (大小: 10000000)\n"
     ]
    },
    {
     "name": "stderr",
     "output_type": "stream",
     "text": [
      "批次 287 进度: 100%|██████████████████████████| 100/100 [00:02<00:00, 37.42it/s]\n"
     ]
    },
    {
     "name": "stdout",
     "output_type": "stream",
     "text": [
      "\n",
      "处理批次 288 (大小: 10000000)\n"
     ]
    },
    {
     "name": "stderr",
     "output_type": "stream",
     "text": [
      "批次 288 进度: 100%|██████████████████████████| 100/100 [00:02<00:00, 38.59it/s]\n"
     ]
    },
    {
     "name": "stdout",
     "output_type": "stream",
     "text": [
      "\n",
      "处理批次 289 (大小: 10000000)\n"
     ]
    },
    {
     "name": "stderr",
     "output_type": "stream",
     "text": [
      "批次 289 进度: 100%|██████████████████████████| 100/100 [00:02<00:00, 35.75it/s]\n"
     ]
    },
    {
     "name": "stdout",
     "output_type": "stream",
     "text": [
      "\n",
      "处理批次 290 (大小: 10000000)\n"
     ]
    },
    {
     "name": "stderr",
     "output_type": "stream",
     "text": [
      "批次 290 进度: 100%|██████████████████████████| 100/100 [00:02<00:00, 36.15it/s]\n"
     ]
    },
    {
     "name": "stdout",
     "output_type": "stream",
     "text": [
      "\n",
      "处理批次 291 (大小: 10000000)\n"
     ]
    },
    {
     "name": "stderr",
     "output_type": "stream",
     "text": [
      "批次 291 进度: 100%|██████████████████████████| 100/100 [00:02<00:00, 36.02it/s]\n"
     ]
    },
    {
     "name": "stdout",
     "output_type": "stream",
     "text": [
      "\n",
      "处理批次 292 (大小: 10000000)\n"
     ]
    },
    {
     "name": "stderr",
     "output_type": "stream",
     "text": [
      "批次 292 进度: 100%|██████████████████████████| 100/100 [00:02<00:00, 36.35it/s]\n"
     ]
    },
    {
     "name": "stdout",
     "output_type": "stream",
     "text": [
      "\n",
      "处理批次 293 (大小: 10000000)\n"
     ]
    },
    {
     "name": "stderr",
     "output_type": "stream",
     "text": [
      "批次 293 进度: 100%|██████████████████████████| 100/100 [00:02<00:00, 36.01it/s]\n"
     ]
    },
    {
     "name": "stdout",
     "output_type": "stream",
     "text": [
      "\n",
      "处理批次 294 (大小: 10000000)\n"
     ]
    },
    {
     "name": "stderr",
     "output_type": "stream",
     "text": [
      "批次 294 进度: 100%|██████████████████████████| 100/100 [00:03<00:00, 31.89it/s]\n"
     ]
    },
    {
     "name": "stdout",
     "output_type": "stream",
     "text": [
      "\n",
      "处理批次 295 (大小: 10000000)\n"
     ]
    },
    {
     "name": "stderr",
     "output_type": "stream",
     "text": [
      "批次 295 进度: 100%|██████████████████████████| 100/100 [00:02<00:00, 35.83it/s]\n"
     ]
    },
    {
     "name": "stdout",
     "output_type": "stream",
     "text": [
      "\n",
      "处理批次 296 (大小: 10000000)\n"
     ]
    },
    {
     "name": "stderr",
     "output_type": "stream",
     "text": [
      "批次 296 进度: 100%|██████████████████████████| 100/100 [00:02<00:00, 36.94it/s]\n"
     ]
    },
    {
     "name": "stdout",
     "output_type": "stream",
     "text": [
      "\n",
      "处理批次 297 (大小: 10000000)\n"
     ]
    },
    {
     "name": "stderr",
     "output_type": "stream",
     "text": [
      "批次 297 进度: 100%|██████████████████████████| 100/100 [00:02<00:00, 37.18it/s]\n"
     ]
    },
    {
     "name": "stdout",
     "output_type": "stream",
     "text": [
      "\n",
      "处理批次 298 (大小: 10000000)\n"
     ]
    },
    {
     "name": "stderr",
     "output_type": "stream",
     "text": [
      "批次 298 进度: 100%|██████████████████████████| 100/100 [00:02<00:00, 35.60it/s]\n"
     ]
    },
    {
     "name": "stdout",
     "output_type": "stream",
     "text": [
      "\n",
      "处理批次 299 (大小: 10000000)\n"
     ]
    },
    {
     "name": "stderr",
     "output_type": "stream",
     "text": [
      "批次 299 进度: 100%|██████████████████████████| 100/100 [00:02<00:00, 35.02it/s]\n"
     ]
    },
    {
     "name": "stdout",
     "output_type": "stream",
     "text": [
      "\n",
      "处理批次 300 (大小: 10000000)\n"
     ]
    },
    {
     "name": "stderr",
     "output_type": "stream",
     "text": [
      "批次 300 进度: 100%|██████████████████████████| 100/100 [00:02<00:00, 38.26it/s]\n"
     ]
    },
    {
     "name": "stdout",
     "output_type": "stream",
     "text": [
      "\n",
      "处理批次 301 (大小: 10000000)\n"
     ]
    },
    {
     "name": "stderr",
     "output_type": "stream",
     "text": [
      "批次 301 进度: 100%|██████████████████████████| 100/100 [00:02<00:00, 36.44it/s]\n"
     ]
    },
    {
     "name": "stdout",
     "output_type": "stream",
     "text": [
      "\n",
      "处理批次 302 (大小: 10000000)\n"
     ]
    },
    {
     "name": "stderr",
     "output_type": "stream",
     "text": [
      "批次 302 进度: 100%|██████████████████████████| 100/100 [00:02<00:00, 34.92it/s]\n"
     ]
    },
    {
     "name": "stdout",
     "output_type": "stream",
     "text": [
      "\n",
      "处理批次 303 (大小: 10000000)\n"
     ]
    },
    {
     "name": "stderr",
     "output_type": "stream",
     "text": [
      "批次 303 进度: 100%|██████████████████████████| 100/100 [00:02<00:00, 36.45it/s]\n"
     ]
    },
    {
     "name": "stdout",
     "output_type": "stream",
     "text": [
      "\n",
      "处理批次 304 (大小: 10000000)\n"
     ]
    },
    {
     "name": "stderr",
     "output_type": "stream",
     "text": [
      "批次 304 进度: 100%|██████████████████████████| 100/100 [00:02<00:00, 36.19it/s]\n"
     ]
    },
    {
     "name": "stdout",
     "output_type": "stream",
     "text": [
      "\n",
      "处理批次 305 (大小: 10000000)\n"
     ]
    },
    {
     "name": "stderr",
     "output_type": "stream",
     "text": [
      "批次 305 进度: 100%|██████████████████████████| 100/100 [00:02<00:00, 35.47it/s]\n"
     ]
    },
    {
     "name": "stdout",
     "output_type": "stream",
     "text": [
      "\n",
      "处理批次 306 (大小: 10000000)\n"
     ]
    },
    {
     "name": "stderr",
     "output_type": "stream",
     "text": [
      "批次 306 进度: 100%|██████████████████████████| 100/100 [00:03<00:00, 33.09it/s]\n"
     ]
    },
    {
     "name": "stdout",
     "output_type": "stream",
     "text": [
      "\n",
      "处理批次 307 (大小: 10000000)\n"
     ]
    },
    {
     "name": "stderr",
     "output_type": "stream",
     "text": [
      "批次 307 进度: 100%|██████████████████████████| 100/100 [00:02<00:00, 33.62it/s]\n"
     ]
    },
    {
     "name": "stdout",
     "output_type": "stream",
     "text": [
      "\n",
      "处理批次 308 (大小: 10000000)\n"
     ]
    },
    {
     "name": "stderr",
     "output_type": "stream",
     "text": [
      "批次 308 进度: 100%|██████████████████████████| 100/100 [00:02<00:00, 35.38it/s]\n"
     ]
    },
    {
     "name": "stdout",
     "output_type": "stream",
     "text": [
      "\n",
      "处理批次 309 (大小: 10000000)\n"
     ]
    },
    {
     "name": "stderr",
     "output_type": "stream",
     "text": [
      "批次 309 进度: 100%|██████████████████████████| 100/100 [00:02<00:00, 36.27it/s]\n"
     ]
    },
    {
     "name": "stdout",
     "output_type": "stream",
     "text": [
      "\n",
      "处理批次 310 (大小: 10000000)\n"
     ]
    },
    {
     "name": "stderr",
     "output_type": "stream",
     "text": [
      "批次 310 进度: 100%|██████████████████████████| 100/100 [00:02<00:00, 36.21it/s]\n"
     ]
    },
    {
     "name": "stdout",
     "output_type": "stream",
     "text": [
      "\n",
      "处理批次 311 (大小: 10000000)\n"
     ]
    },
    {
     "name": "stderr",
     "output_type": "stream",
     "text": [
      "批次 311 进度: 100%|██████████████████████████| 100/100 [00:02<00:00, 37.50it/s]\n"
     ]
    },
    {
     "name": "stdout",
     "output_type": "stream",
     "text": [
      "\n",
      "处理批次 312 (大小: 10000000)\n"
     ]
    },
    {
     "name": "stderr",
     "output_type": "stream",
     "text": [
      "批次 312 进度: 100%|██████████████████████████| 100/100 [00:02<00:00, 39.73it/s]\n"
     ]
    },
    {
     "name": "stdout",
     "output_type": "stream",
     "text": [
      "\n",
      "处理批次 313 (大小: 10000000)\n"
     ]
    },
    {
     "name": "stderr",
     "output_type": "stream",
     "text": [
      "批次 313 进度: 100%|██████████████████████████| 100/100 [00:02<00:00, 35.41it/s]\n"
     ]
    },
    {
     "name": "stdout",
     "output_type": "stream",
     "text": [
      "\n",
      "处理批次 314 (大小: 10000000)\n"
     ]
    },
    {
     "name": "stderr",
     "output_type": "stream",
     "text": [
      "批次 314 进度: 100%|██████████████████████████| 100/100 [00:02<00:00, 36.31it/s]\n"
     ]
    },
    {
     "name": "stdout",
     "output_type": "stream",
     "text": [
      "\n",
      "处理批次 315 (大小: 10000000)\n"
     ]
    },
    {
     "name": "stderr",
     "output_type": "stream",
     "text": [
      "批次 315 进度: 100%|██████████████████████████| 100/100 [00:02<00:00, 36.43it/s]\n"
     ]
    },
    {
     "name": "stdout",
     "output_type": "stream",
     "text": [
      "\n",
      "处理批次 316 (大小: 10000000)\n"
     ]
    },
    {
     "name": "stderr",
     "output_type": "stream",
     "text": [
      "批次 316 进度: 100%|██████████████████████████| 100/100 [00:02<00:00, 36.15it/s]\n"
     ]
    },
    {
     "name": "stdout",
     "output_type": "stream",
     "text": [
      "\n",
      "处理批次 317 (大小: 10000000)\n"
     ]
    },
    {
     "name": "stderr",
     "output_type": "stream",
     "text": [
      "批次 317 进度: 100%|██████████████████████████| 100/100 [00:02<00:00, 36.44it/s]\n"
     ]
    },
    {
     "name": "stdout",
     "output_type": "stream",
     "text": [
      "\n",
      "处理批次 318 (大小: 10000000)\n"
     ]
    },
    {
     "name": "stderr",
     "output_type": "stream",
     "text": [
      "批次 318 进度: 100%|██████████████████████████| 100/100 [00:02<00:00, 34.97it/s]\n"
     ]
    },
    {
     "name": "stdout",
     "output_type": "stream",
     "text": [
      "\n",
      "处理批次 319 (大小: 10000000)\n"
     ]
    },
    {
     "name": "stderr",
     "output_type": "stream",
     "text": [
      "批次 319 进度: 100%|██████████████████████████| 100/100 [00:02<00:00, 36.20it/s]\n"
     ]
    },
    {
     "name": "stdout",
     "output_type": "stream",
     "text": [
      "\n",
      "处理批次 320 (大小: 10000000)\n"
     ]
    },
    {
     "name": "stderr",
     "output_type": "stream",
     "text": [
      "批次 320 进度: 100%|██████████████████████████| 100/100 [00:02<00:00, 35.69it/s]\n"
     ]
    },
    {
     "name": "stdout",
     "output_type": "stream",
     "text": [
      "\n",
      "处理批次 321 (大小: 10000000)\n"
     ]
    },
    {
     "name": "stderr",
     "output_type": "stream",
     "text": [
      "批次 321 进度: 100%|██████████████████████████| 100/100 [00:02<00:00, 36.77it/s]\n"
     ]
    },
    {
     "name": "stdout",
     "output_type": "stream",
     "text": [
      "\n",
      "处理批次 322 (大小: 10000000)\n"
     ]
    },
    {
     "name": "stderr",
     "output_type": "stream",
     "text": [
      "批次 322 进度: 100%|██████████████████████████| 100/100 [00:02<00:00, 34.98it/s]\n"
     ]
    },
    {
     "name": "stdout",
     "output_type": "stream",
     "text": [
      "\n",
      "处理批次 323 (大小: 10000000)\n"
     ]
    },
    {
     "name": "stderr",
     "output_type": "stream",
     "text": [
      "批次 323 进度: 100%|██████████████████████████| 100/100 [00:02<00:00, 38.79it/s]\n"
     ]
    },
    {
     "name": "stdout",
     "output_type": "stream",
     "text": [
      "\n",
      "处理批次 324 (大小: 10000000)\n"
     ]
    },
    {
     "name": "stderr",
     "output_type": "stream",
     "text": [
      "批次 324 进度: 100%|██████████████████████████| 100/100 [00:02<00:00, 35.22it/s]\n"
     ]
    },
    {
     "name": "stdout",
     "output_type": "stream",
     "text": [
      "\n",
      "处理批次 325 (大小: 10000000)\n"
     ]
    },
    {
     "name": "stderr",
     "output_type": "stream",
     "text": [
      "批次 325 进度: 100%|██████████████████████████| 100/100 [00:02<00:00, 36.00it/s]\n"
     ]
    },
    {
     "name": "stdout",
     "output_type": "stream",
     "text": [
      "\n",
      "处理批次 326 (大小: 10000000)\n"
     ]
    },
    {
     "name": "stderr",
     "output_type": "stream",
     "text": [
      "批次 326 进度: 100%|██████████████████████████| 100/100 [00:02<00:00, 35.60it/s]\n"
     ]
    },
    {
     "name": "stdout",
     "output_type": "stream",
     "text": [
      "\n",
      "处理批次 327 (大小: 10000000)\n"
     ]
    },
    {
     "name": "stderr",
     "output_type": "stream",
     "text": [
      "批次 327 进度: 100%|██████████████████████████| 100/100 [00:02<00:00, 36.91it/s]\n"
     ]
    },
    {
     "name": "stdout",
     "output_type": "stream",
     "text": [
      "\n",
      "处理批次 328 (大小: 10000000)\n"
     ]
    },
    {
     "name": "stderr",
     "output_type": "stream",
     "text": [
      "批次 328 进度: 100%|██████████████████████████| 100/100 [00:02<00:00, 35.38it/s]\n"
     ]
    },
    {
     "name": "stdout",
     "output_type": "stream",
     "text": [
      "\n",
      "处理批次 329 (大小: 10000000)\n"
     ]
    },
    {
     "name": "stderr",
     "output_type": "stream",
     "text": [
      "批次 329 进度: 100%|██████████████████████████| 100/100 [00:02<00:00, 36.91it/s]\n"
     ]
    },
    {
     "name": "stdout",
     "output_type": "stream",
     "text": [
      "\n",
      "处理批次 330 (大小: 10000000)\n"
     ]
    },
    {
     "name": "stderr",
     "output_type": "stream",
     "text": [
      "批次 330 进度: 100%|██████████████████████████| 100/100 [00:02<00:00, 34.53it/s]\n"
     ]
    },
    {
     "name": "stdout",
     "output_type": "stream",
     "text": [
      "\n",
      "处理批次 331 (大小: 10000000)\n"
     ]
    },
    {
     "name": "stderr",
     "output_type": "stream",
     "text": [
      "批次 331 进度: 100%|██████████████████████████| 100/100 [00:02<00:00, 33.34it/s]\n"
     ]
    },
    {
     "name": "stdout",
     "output_type": "stream",
     "text": [
      "\n",
      "处理批次 332 (大小: 10000000)\n"
     ]
    },
    {
     "name": "stderr",
     "output_type": "stream",
     "text": [
      "批次 332 进度: 100%|██████████████████████████| 100/100 [00:02<00:00, 35.72it/s]\n"
     ]
    },
    {
     "name": "stdout",
     "output_type": "stream",
     "text": [
      "\n",
      "处理批次 333 (大小: 10000000)\n"
     ]
    },
    {
     "name": "stderr",
     "output_type": "stream",
     "text": [
      "批次 333 进度: 100%|██████████████████████████| 100/100 [00:02<00:00, 37.30it/s]\n"
     ]
    },
    {
     "name": "stdout",
     "output_type": "stream",
     "text": [
      "\n",
      "处理批次 334 (大小: 10000000)\n"
     ]
    },
    {
     "name": "stderr",
     "output_type": "stream",
     "text": [
      "批次 334 进度: 100%|██████████████████████████| 100/100 [00:02<00:00, 36.58it/s]\n"
     ]
    },
    {
     "name": "stdout",
     "output_type": "stream",
     "text": [
      "\n",
      "处理批次 335 (大小: 10000000)\n"
     ]
    },
    {
     "name": "stderr",
     "output_type": "stream",
     "text": [
      "批次 335 进度: 100%|██████████████████████████| 100/100 [00:02<00:00, 37.29it/s]\n"
     ]
    },
    {
     "name": "stdout",
     "output_type": "stream",
     "text": [
      "\n",
      "处理批次 336 (大小: 10000000)\n"
     ]
    },
    {
     "name": "stderr",
     "output_type": "stream",
     "text": [
      "批次 336 进度: 100%|██████████████████████████| 100/100 [00:02<00:00, 39.49it/s]\n"
     ]
    },
    {
     "name": "stdout",
     "output_type": "stream",
     "text": [
      "\n",
      "处理批次 337 (大小: 10000000)\n"
     ]
    },
    {
     "name": "stderr",
     "output_type": "stream",
     "text": [
      "批次 337 进度: 100%|██████████████████████████| 100/100 [00:02<00:00, 35.64it/s]\n"
     ]
    },
    {
     "name": "stdout",
     "output_type": "stream",
     "text": [
      "\n",
      "处理批次 338 (大小: 10000000)\n"
     ]
    },
    {
     "name": "stderr",
     "output_type": "stream",
     "text": [
      "批次 338 进度: 100%|██████████████████████████| 100/100 [00:02<00:00, 35.12it/s]\n"
     ]
    },
    {
     "name": "stdout",
     "output_type": "stream",
     "text": [
      "\n",
      "处理批次 339 (大小: 10000000)\n"
     ]
    },
    {
     "name": "stderr",
     "output_type": "stream",
     "text": [
      "批次 339 进度: 100%|██████████████████████████| 100/100 [00:02<00:00, 35.91it/s]\n"
     ]
    },
    {
     "name": "stdout",
     "output_type": "stream",
     "text": [
      "\n",
      "处理批次 340 (大小: 10000000)\n"
     ]
    },
    {
     "name": "stderr",
     "output_type": "stream",
     "text": [
      "批次 340 进度: 100%|██████████████████████████| 100/100 [00:02<00:00, 36.83it/s]\n"
     ]
    },
    {
     "name": "stdout",
     "output_type": "stream",
     "text": [
      "\n",
      "处理批次 341 (大小: 10000000)\n"
     ]
    },
    {
     "name": "stderr",
     "output_type": "stream",
     "text": [
      "批次 341 进度: 100%|██████████████████████████| 100/100 [00:02<00:00, 33.97it/s]\n"
     ]
    },
    {
     "name": "stdout",
     "output_type": "stream",
     "text": [
      "\n",
      "处理批次 342 (大小: 10000000)\n"
     ]
    },
    {
     "name": "stderr",
     "output_type": "stream",
     "text": [
      "批次 342 进度: 100%|██████████████████████████| 100/100 [00:02<00:00, 35.79it/s]\n"
     ]
    },
    {
     "name": "stdout",
     "output_type": "stream",
     "text": [
      "\n",
      "处理批次 343 (大小: 10000000)\n"
     ]
    },
    {
     "name": "stderr",
     "output_type": "stream",
     "text": [
      "批次 343 进度: 100%|██████████████████████████| 100/100 [00:02<00:00, 36.02it/s]\n"
     ]
    },
    {
     "name": "stdout",
     "output_type": "stream",
     "text": [
      "\n",
      "处理批次 344 (大小: 10000000)\n"
     ]
    },
    {
     "name": "stderr",
     "output_type": "stream",
     "text": [
      "批次 344 进度: 100%|██████████████████████████| 100/100 [00:02<00:00, 35.03it/s]\n"
     ]
    },
    {
     "name": "stdout",
     "output_type": "stream",
     "text": [
      "\n",
      "处理批次 345 (大小: 10000000)\n"
     ]
    },
    {
     "name": "stderr",
     "output_type": "stream",
     "text": [
      "批次 345 进度: 100%|██████████████████████████| 100/100 [00:02<00:00, 36.66it/s]\n"
     ]
    },
    {
     "name": "stdout",
     "output_type": "stream",
     "text": [
      "\n",
      "处理批次 346 (大小: 10000000)\n"
     ]
    },
    {
     "name": "stderr",
     "output_type": "stream",
     "text": [
      "批次 346 进度: 100%|██████████████████████████| 100/100 [00:02<00:00, 38.25it/s]\n"
     ]
    },
    {
     "name": "stdout",
     "output_type": "stream",
     "text": [
      "\n",
      "处理批次 347 (大小: 10000000)\n"
     ]
    },
    {
     "name": "stderr",
     "output_type": "stream",
     "text": [
      "批次 347 进度: 100%|██████████████████████████| 100/100 [00:02<00:00, 36.13it/s]\n"
     ]
    },
    {
     "name": "stdout",
     "output_type": "stream",
     "text": [
      "\n",
      "处理批次 348 (大小: 10000000)\n"
     ]
    },
    {
     "name": "stderr",
     "output_type": "stream",
     "text": [
      "批次 348 进度: 100%|██████████████████████████| 100/100 [00:02<00:00, 36.55it/s]\n"
     ]
    },
    {
     "name": "stdout",
     "output_type": "stream",
     "text": [
      "\n",
      "处理批次 349 (大小: 10000000)\n"
     ]
    },
    {
     "name": "stderr",
     "output_type": "stream",
     "text": [
      "批次 349 进度: 100%|██████████████████████████| 100/100 [00:02<00:00, 35.70it/s]\n"
     ]
    },
    {
     "name": "stdout",
     "output_type": "stream",
     "text": [
      "\n",
      "处理批次 350 (大小: 10000000)\n"
     ]
    },
    {
     "name": "stderr",
     "output_type": "stream",
     "text": [
      "批次 350 进度: 100%|██████████████████████████| 100/100 [00:02<00:00, 35.45it/s]\n"
     ]
    },
    {
     "name": "stdout",
     "output_type": "stream",
     "text": [
      "\n",
      "处理批次 351 (大小: 10000000)\n"
     ]
    },
    {
     "name": "stderr",
     "output_type": "stream",
     "text": [
      "批次 351 进度: 100%|██████████████████████████| 100/100 [00:02<00:00, 36.27it/s]\n"
     ]
    },
    {
     "name": "stdout",
     "output_type": "stream",
     "text": [
      "\n",
      "处理批次 352 (大小: 10000000)\n"
     ]
    },
    {
     "name": "stderr",
     "output_type": "stream",
     "text": [
      "批次 352 进度: 100%|██████████████████████████| 100/100 [00:02<00:00, 35.23it/s]\n"
     ]
    },
    {
     "name": "stdout",
     "output_type": "stream",
     "text": [
      "\n",
      "处理批次 353 (大小: 10000000)\n"
     ]
    },
    {
     "name": "stderr",
     "output_type": "stream",
     "text": [
      "批次 353 进度: 100%|██████████████████████████| 100/100 [00:02<00:00, 33.56it/s]\n"
     ]
    },
    {
     "name": "stdout",
     "output_type": "stream",
     "text": [
      "\n",
      "处理批次 354 (大小: 10000000)\n"
     ]
    },
    {
     "name": "stderr",
     "output_type": "stream",
     "text": [
      "批次 354 进度: 100%|██████████████████████████| 100/100 [00:02<00:00, 33.68it/s]\n"
     ]
    },
    {
     "name": "stdout",
     "output_type": "stream",
     "text": [
      "\n",
      "处理批次 355 (大小: 10000000)\n"
     ]
    },
    {
     "name": "stderr",
     "output_type": "stream",
     "text": [
      "批次 355 进度: 100%|██████████████████████████| 100/100 [00:02<00:00, 36.10it/s]\n"
     ]
    },
    {
     "name": "stdout",
     "output_type": "stream",
     "text": [
      "\n",
      "处理批次 356 (大小: 10000000)\n"
     ]
    },
    {
     "name": "stderr",
     "output_type": "stream",
     "text": [
      "批次 356 进度: 100%|██████████████████████████| 100/100 [00:02<00:00, 35.86it/s]\n"
     ]
    },
    {
     "name": "stdout",
     "output_type": "stream",
     "text": [
      "\n",
      "处理批次 357 (大小: 10000000)\n"
     ]
    },
    {
     "name": "stderr",
     "output_type": "stream",
     "text": [
      "批次 357 进度: 100%|██████████████████████████| 100/100 [00:02<00:00, 36.97it/s]\n"
     ]
    },
    {
     "name": "stdout",
     "output_type": "stream",
     "text": [
      "\n",
      "处理批次 358 (大小: 10000000)\n"
     ]
    },
    {
     "name": "stderr",
     "output_type": "stream",
     "text": [
      "批次 358 进度: 100%|██████████████████████████| 100/100 [00:02<00:00, 36.82it/s]\n"
     ]
    },
    {
     "name": "stdout",
     "output_type": "stream",
     "text": [
      "\n",
      "处理批次 359 (大小: 10000000)\n"
     ]
    },
    {
     "name": "stderr",
     "output_type": "stream",
     "text": [
      "批次 359 进度: 100%|██████████████████████████| 100/100 [00:02<00:00, 36.41it/s]\n"
     ]
    },
    {
     "name": "stdout",
     "output_type": "stream",
     "text": [
      "\n",
      "处理批次 360 (大小: 10000000)\n"
     ]
    },
    {
     "name": "stderr",
     "output_type": "stream",
     "text": [
      "批次 360 进度: 100%|██████████████████████████| 100/100 [00:02<00:00, 39.34it/s]\n"
     ]
    },
    {
     "name": "stdout",
     "output_type": "stream",
     "text": [
      "\n",
      "处理批次 361 (大小: 10000000)\n"
     ]
    },
    {
     "name": "stderr",
     "output_type": "stream",
     "text": [
      "批次 361 进度: 100%|██████████████████████████| 100/100 [00:02<00:00, 35.65it/s]\n"
     ]
    },
    {
     "name": "stdout",
     "output_type": "stream",
     "text": [
      "\n",
      "处理批次 362 (大小: 10000000)\n"
     ]
    },
    {
     "name": "stderr",
     "output_type": "stream",
     "text": [
      "批次 362 进度: 100%|██████████████████████████| 100/100 [00:02<00:00, 35.73it/s]\n"
     ]
    },
    {
     "name": "stdout",
     "output_type": "stream",
     "text": [
      "\n",
      "处理批次 363 (大小: 10000000)\n"
     ]
    },
    {
     "name": "stderr",
     "output_type": "stream",
     "text": [
      "批次 363 进度: 100%|██████████████████████████| 100/100 [00:02<00:00, 35.62it/s]\n"
     ]
    },
    {
     "name": "stdout",
     "output_type": "stream",
     "text": [
      "\n",
      "处理批次 364 (大小: 10000000)\n"
     ]
    },
    {
     "name": "stderr",
     "output_type": "stream",
     "text": [
      "批次 364 进度: 100%|██████████████████████████| 100/100 [00:02<00:00, 36.07it/s]\n"
     ]
    },
    {
     "name": "stdout",
     "output_type": "stream",
     "text": [
      "\n",
      "处理批次 365 (大小: 10000000)\n"
     ]
    },
    {
     "name": "stderr",
     "output_type": "stream",
     "text": [
      "批次 365 进度: 100%|██████████████████████████| 100/100 [00:03<00:00, 33.23it/s]\n"
     ]
    },
    {
     "name": "stdout",
     "output_type": "stream",
     "text": [
      "\n",
      "处理批次 366 (大小: 10000000)\n"
     ]
    },
    {
     "name": "stderr",
     "output_type": "stream",
     "text": [
      "批次 366 进度: 100%|██████████████████████████| 100/100 [00:02<00:00, 33.77it/s]\n"
     ]
    },
    {
     "name": "stdout",
     "output_type": "stream",
     "text": [
      "\n",
      "处理批次 367 (大小: 10000000)\n"
     ]
    },
    {
     "name": "stderr",
     "output_type": "stream",
     "text": [
      "批次 367 进度: 100%|██████████████████████████| 100/100 [00:02<00:00, 35.51it/s]\n"
     ]
    },
    {
     "name": "stdout",
     "output_type": "stream",
     "text": [
      "\n",
      "处理批次 368 (大小: 10000000)\n"
     ]
    },
    {
     "name": "stderr",
     "output_type": "stream",
     "text": [
      "批次 368 进度: 100%|██████████████████████████| 100/100 [00:02<00:00, 35.95it/s]\n"
     ]
    },
    {
     "name": "stdout",
     "output_type": "stream",
     "text": [
      "\n",
      "处理批次 369 (大小: 10000000)\n"
     ]
    },
    {
     "name": "stderr",
     "output_type": "stream",
     "text": [
      "批次 369 进度: 100%|██████████████████████████| 100/100 [00:02<00:00, 39.11it/s]\n"
     ]
    },
    {
     "name": "stdout",
     "output_type": "stream",
     "text": [
      "\n",
      "处理批次 370 (大小: 10000000)\n"
     ]
    },
    {
     "name": "stderr",
     "output_type": "stream",
     "text": [
      "批次 370 进度: 100%|██████████████████████████| 100/100 [00:02<00:00, 38.00it/s]\n"
     ]
    },
    {
     "name": "stdout",
     "output_type": "stream",
     "text": [
      "\n",
      "处理批次 371 (大小: 10000000)\n"
     ]
    },
    {
     "name": "stderr",
     "output_type": "stream",
     "text": [
      "批次 371 进度: 100%|██████████████████████████| 100/100 [00:02<00:00, 34.24it/s]\n"
     ]
    },
    {
     "name": "stdout",
     "output_type": "stream",
     "text": [
      "\n",
      "处理批次 372 (大小: 10000000)\n"
     ]
    },
    {
     "name": "stderr",
     "output_type": "stream",
     "text": [
      "批次 372 进度: 100%|██████████████████████████| 100/100 [00:02<00:00, 34.77it/s]\n"
     ]
    },
    {
     "name": "stdout",
     "output_type": "stream",
     "text": [
      "\n",
      "处理批次 373 (大小: 10000000)\n"
     ]
    },
    {
     "name": "stderr",
     "output_type": "stream",
     "text": [
      "批次 373 进度: 100%|██████████████████████████| 100/100 [00:02<00:00, 35.48it/s]\n"
     ]
    },
    {
     "name": "stdout",
     "output_type": "stream",
     "text": [
      "\n",
      "处理批次 374 (大小: 10000000)\n"
     ]
    },
    {
     "name": "stderr",
     "output_type": "stream",
     "text": [
      "批次 374 进度: 100%|██████████████████████████| 100/100 [00:02<00:00, 36.02it/s]\n"
     ]
    },
    {
     "name": "stdout",
     "output_type": "stream",
     "text": [
      "\n",
      "处理批次 375 (大小: 10000000)\n"
     ]
    },
    {
     "name": "stderr",
     "output_type": "stream",
     "text": [
      "批次 375 进度: 100%|██████████████████████████| 100/100 [00:02<00:00, 35.99it/s]\n"
     ]
    },
    {
     "name": "stdout",
     "output_type": "stream",
     "text": [
      "\n",
      "处理批次 376 (大小: 10000000)\n"
     ]
    },
    {
     "name": "stderr",
     "output_type": "stream",
     "text": [
      "批次 376 进度: 100%|██████████████████████████| 100/100 [00:02<00:00, 36.42it/s]\n"
     ]
    },
    {
     "name": "stdout",
     "output_type": "stream",
     "text": [
      "\n",
      "处理批次 377 (大小: 10000000)\n"
     ]
    },
    {
     "name": "stderr",
     "output_type": "stream",
     "text": [
      "批次 377 进度: 100%|██████████████████████████| 100/100 [00:02<00:00, 34.05it/s]\n"
     ]
    },
    {
     "name": "stdout",
     "output_type": "stream",
     "text": [
      "\n",
      "处理批次 378 (大小: 10000000)\n"
     ]
    },
    {
     "name": "stderr",
     "output_type": "stream",
     "text": [
      "批次 378 进度: 100%|██████████████████████████| 100/100 [00:02<00:00, 33.56it/s]\n"
     ]
    },
    {
     "name": "stdout",
     "output_type": "stream",
     "text": [
      "\n",
      "处理批次 379 (大小: 10000000)\n"
     ]
    },
    {
     "name": "stderr",
     "output_type": "stream",
     "text": [
      "批次 379 进度: 100%|██████████████████████████| 100/100 [00:02<00:00, 35.58it/s]\n"
     ]
    },
    {
     "name": "stdout",
     "output_type": "stream",
     "text": [
      "\n",
      "处理批次 380 (大小: 10000000)\n"
     ]
    },
    {
     "name": "stderr",
     "output_type": "stream",
     "text": [
      "批次 380 进度: 100%|██████████████████████████| 100/100 [00:02<00:00, 36.58it/s]\n"
     ]
    },
    {
     "name": "stdout",
     "output_type": "stream",
     "text": [
      "\n",
      "处理批次 381 (大小: 10000000)\n"
     ]
    },
    {
     "name": "stderr",
     "output_type": "stream",
     "text": [
      "批次 381 进度: 100%|██████████████████████████| 100/100 [00:02<00:00, 36.44it/s]\n"
     ]
    },
    {
     "name": "stdout",
     "output_type": "stream",
     "text": [
      "\n",
      "处理批次 382 (大小: 10000000)\n"
     ]
    },
    {
     "name": "stderr",
     "output_type": "stream",
     "text": [
      "批次 382 进度: 100%|██████████████████████████| 100/100 [00:02<00:00, 37.42it/s]\n"
     ]
    },
    {
     "name": "stdout",
     "output_type": "stream",
     "text": [
      "\n",
      "处理批次 383 (大小: 10000000)\n"
     ]
    },
    {
     "name": "stderr",
     "output_type": "stream",
     "text": [
      "批次 383 进度: 100%|██████████████████████████| 100/100 [00:02<00:00, 37.64it/s]\n"
     ]
    },
    {
     "name": "stdout",
     "output_type": "stream",
     "text": [
      "\n",
      "处理批次 384 (大小: 10000000)\n"
     ]
    },
    {
     "name": "stderr",
     "output_type": "stream",
     "text": [
      "批次 384 进度: 100%|██████████████████████████| 100/100 [00:02<00:00, 39.09it/s]\n"
     ]
    },
    {
     "name": "stdout",
     "output_type": "stream",
     "text": [
      "\n",
      "处理批次 385 (大小: 10000000)\n"
     ]
    },
    {
     "name": "stderr",
     "output_type": "stream",
     "text": [
      "批次 385 进度: 100%|██████████████████████████| 100/100 [00:02<00:00, 34.37it/s]\n"
     ]
    },
    {
     "name": "stdout",
     "output_type": "stream",
     "text": [
      "\n",
      "处理批次 386 (大小: 10000000)\n"
     ]
    },
    {
     "name": "stderr",
     "output_type": "stream",
     "text": [
      "批次 386 进度: 100%|██████████████████████████| 100/100 [00:02<00:00, 35.22it/s]\n"
     ]
    },
    {
     "name": "stdout",
     "output_type": "stream",
     "text": [
      "\n",
      "处理批次 387 (大小: 10000000)\n"
     ]
    },
    {
     "name": "stderr",
     "output_type": "stream",
     "text": [
      "批次 387 进度: 100%|██████████████████████████| 100/100 [00:02<00:00, 34.29it/s]\n"
     ]
    },
    {
     "name": "stdout",
     "output_type": "stream",
     "text": [
      "\n",
      "处理批次 388 (大小: 10000000)\n"
     ]
    },
    {
     "name": "stderr",
     "output_type": "stream",
     "text": [
      "批次 388 进度: 100%|██████████████████████████| 100/100 [00:02<00:00, 34.09it/s]\n"
     ]
    },
    {
     "name": "stdout",
     "output_type": "stream",
     "text": [
      "\n",
      "处理批次 389 (大小: 10000000)\n"
     ]
    },
    {
     "name": "stderr",
     "output_type": "stream",
     "text": [
      "批次 389 进度: 100%|██████████████████████████| 100/100 [00:02<00:00, 33.66it/s]\n"
     ]
    },
    {
     "name": "stdout",
     "output_type": "stream",
     "text": [
      "\n",
      "处理批次 390 (大小: 10000000)\n"
     ]
    },
    {
     "name": "stderr",
     "output_type": "stream",
     "text": [
      "批次 390 进度: 100%|██████████████████████████| 100/100 [00:02<00:00, 35.59it/s]\n"
     ]
    },
    {
     "name": "stdout",
     "output_type": "stream",
     "text": [
      "\n",
      "处理批次 391 (大小: 10000000)\n"
     ]
    },
    {
     "name": "stderr",
     "output_type": "stream",
     "text": [
      "批次 391 进度: 100%|██████████████████████████| 100/100 [00:02<00:00, 36.13it/s]\n"
     ]
    },
    {
     "name": "stdout",
     "output_type": "stream",
     "text": [
      "\n",
      "处理批次 392 (大小: 10000000)\n"
     ]
    },
    {
     "name": "stderr",
     "output_type": "stream",
     "text": [
      "批次 392 进度: 100%|██████████████████████████| 100/100 [00:02<00:00, 38.41it/s]\n"
     ]
    },
    {
     "name": "stdout",
     "output_type": "stream",
     "text": [
      "\n",
      "处理批次 393 (大小: 10000000)\n"
     ]
    },
    {
     "name": "stderr",
     "output_type": "stream",
     "text": [
      "批次 393 进度: 100%|██████████████████████████| 100/100 [00:02<00:00, 38.01it/s]\n"
     ]
    },
    {
     "name": "stdout",
     "output_type": "stream",
     "text": [
      "\n",
      "处理批次 394 (大小: 10000000)\n"
     ]
    },
    {
     "name": "stderr",
     "output_type": "stream",
     "text": [
      "批次 394 进度: 100%|██████████████████████████| 100/100 [00:02<00:00, 35.62it/s]\n"
     ]
    },
    {
     "name": "stdout",
     "output_type": "stream",
     "text": [
      "\n",
      "处理批次 395 (大小: 10000000)\n"
     ]
    },
    {
     "name": "stderr",
     "output_type": "stream",
     "text": [
      "批次 395 进度: 100%|██████████████████████████| 100/100 [00:02<00:00, 35.37it/s]\n"
     ]
    },
    {
     "name": "stdout",
     "output_type": "stream",
     "text": [
      "\n",
      "处理批次 396 (大小: 10000000)\n"
     ]
    },
    {
     "name": "stderr",
     "output_type": "stream",
     "text": [
      "批次 396 进度: 100%|██████████████████████████| 100/100 [00:02<00:00, 36.20it/s]\n"
     ]
    },
    {
     "name": "stdout",
     "output_type": "stream",
     "text": [
      "\n",
      "处理批次 397 (大小: 10000000)\n"
     ]
    },
    {
     "name": "stderr",
     "output_type": "stream",
     "text": [
      "批次 397 进度: 100%|██████████████████████████| 100/100 [00:02<00:00, 35.27it/s]\n"
     ]
    },
    {
     "name": "stdout",
     "output_type": "stream",
     "text": [
      "\n",
      "处理批次 398 (大小: 10000000)\n"
     ]
    },
    {
     "name": "stderr",
     "output_type": "stream",
     "text": [
      "批次 398 进度: 100%|██████████████████████████| 100/100 [00:02<00:00, 36.82it/s]\n"
     ]
    },
    {
     "name": "stdout",
     "output_type": "stream",
     "text": [
      "\n",
      "处理批次 399 (大小: 10000000)\n"
     ]
    },
    {
     "name": "stderr",
     "output_type": "stream",
     "text": [
      "批次 399 进度: 100%|██████████████████████████| 100/100 [00:02<00:00, 36.23it/s]\n"
     ]
    },
    {
     "name": "stdout",
     "output_type": "stream",
     "text": [
      "\n",
      "处理批次 400 (大小: 10000000)\n"
     ]
    },
    {
     "name": "stderr",
     "output_type": "stream",
     "text": [
      "批次 400 进度: 100%|██████████████████████████| 100/100 [00:02<00:00, 33.51it/s]\n"
     ]
    },
    {
     "name": "stdout",
     "output_type": "stream",
     "text": [
      "\n",
      "处理批次 401 (大小: 10000000)\n"
     ]
    },
    {
     "name": "stderr",
     "output_type": "stream",
     "text": [
      "批次 401 进度: 100%|██████████████████████████| 100/100 [00:03<00:00, 33.04it/s]\n"
     ]
    },
    {
     "name": "stdout",
     "output_type": "stream",
     "text": [
      "\n",
      "处理批次 402 (大小: 10000000)\n"
     ]
    },
    {
     "name": "stderr",
     "output_type": "stream",
     "text": [
      "批次 402 进度: 100%|██████████████████████████| 100/100 [00:02<00:00, 34.31it/s]\n"
     ]
    },
    {
     "name": "stdout",
     "output_type": "stream",
     "text": [
      "\n",
      "处理批次 403 (大小: 10000000)\n"
     ]
    },
    {
     "name": "stderr",
     "output_type": "stream",
     "text": [
      "批次 403 进度: 100%|██████████████████████████| 100/100 [00:02<00:00, 36.26it/s]\n"
     ]
    },
    {
     "name": "stdout",
     "output_type": "stream",
     "text": [
      "\n",
      "处理批次 404 (大小: 10000000)\n"
     ]
    },
    {
     "name": "stderr",
     "output_type": "stream",
     "text": [
      "批次 404 进度: 100%|██████████████████████████| 100/100 [00:02<00:00, 37.37it/s]\n"
     ]
    },
    {
     "name": "stdout",
     "output_type": "stream",
     "text": [
      "\n",
      "处理批次 405 (大小: 10000000)\n"
     ]
    },
    {
     "name": "stderr",
     "output_type": "stream",
     "text": [
      "批次 405 进度: 100%|██████████████████████████| 100/100 [00:02<00:00, 36.72it/s]\n"
     ]
    },
    {
     "name": "stdout",
     "output_type": "stream",
     "text": [
      "\n",
      "处理批次 406 (大小: 10000000)\n"
     ]
    },
    {
     "name": "stderr",
     "output_type": "stream",
     "text": [
      "批次 406 进度: 100%|██████████████████████████| 100/100 [00:02<00:00, 36.11it/s]\n"
     ]
    },
    {
     "name": "stdout",
     "output_type": "stream",
     "text": [
      "\n",
      "处理批次 407 (大小: 10000000)\n"
     ]
    },
    {
     "name": "stderr",
     "output_type": "stream",
     "text": [
      "批次 407 进度: 100%|██████████████████████████| 100/100 [00:02<00:00, 35.98it/s]\n"
     ]
    },
    {
     "name": "stdout",
     "output_type": "stream",
     "text": [
      "\n",
      "处理批次 408 (大小: 10000000)\n"
     ]
    },
    {
     "name": "stderr",
     "output_type": "stream",
     "text": [
      "批次 408 进度: 100%|██████████████████████████| 100/100 [00:02<00:00, 39.45it/s]\n"
     ]
    },
    {
     "name": "stdout",
     "output_type": "stream",
     "text": [
      "\n",
      "处理批次 409 (大小: 10000000)\n"
     ]
    },
    {
     "name": "stderr",
     "output_type": "stream",
     "text": [
      "批次 409 进度: 100%|██████████████████████████| 100/100 [00:02<00:00, 34.87it/s]\n"
     ]
    },
    {
     "name": "stdout",
     "output_type": "stream",
     "text": [
      "\n",
      "处理批次 410 (大小: 10000000)\n"
     ]
    },
    {
     "name": "stderr",
     "output_type": "stream",
     "text": [
      "批次 410 进度: 100%|██████████████████████████| 100/100 [00:02<00:00, 35.44it/s]\n"
     ]
    },
    {
     "name": "stdout",
     "output_type": "stream",
     "text": [
      "\n",
      "处理批次 411 (大小: 10000000)\n"
     ]
    },
    {
     "name": "stderr",
     "output_type": "stream",
     "text": [
      "批次 411 进度: 100%|██████████████████████████| 100/100 [00:02<00:00, 36.20it/s]\n"
     ]
    },
    {
     "name": "stdout",
     "output_type": "stream",
     "text": [
      "\n",
      "处理批次 412 (大小: 10000000)\n"
     ]
    },
    {
     "name": "stderr",
     "output_type": "stream",
     "text": [
      "批次 412 进度: 100%|██████████████████████████| 100/100 [00:02<00:00, 33.66it/s]\n"
     ]
    },
    {
     "name": "stdout",
     "output_type": "stream",
     "text": [
      "\n",
      "处理批次 413 (大小: 10000000)\n"
     ]
    },
    {
     "name": "stderr",
     "output_type": "stream",
     "text": [
      "批次 413 进度: 100%|██████████████████████████| 100/100 [00:02<00:00, 35.32it/s]\n"
     ]
    },
    {
     "name": "stdout",
     "output_type": "stream",
     "text": [
      "\n",
      "处理批次 414 (大小: 10000000)\n"
     ]
    },
    {
     "name": "stderr",
     "output_type": "stream",
     "text": [
      "批次 414 进度: 100%|██████████████████████████| 100/100 [00:02<00:00, 34.88it/s]\n"
     ]
    },
    {
     "name": "stdout",
     "output_type": "stream",
     "text": [
      "\n",
      "处理批次 415 (大小: 10000000)\n"
     ]
    },
    {
     "name": "stderr",
     "output_type": "stream",
     "text": [
      "批次 415 进度: 100%|██████████████████████████| 100/100 [00:02<00:00, 39.01it/s]\n"
     ]
    },
    {
     "name": "stdout",
     "output_type": "stream",
     "text": [
      "\n",
      "处理批次 416 (大小: 10000000)\n"
     ]
    },
    {
     "name": "stderr",
     "output_type": "stream",
     "text": [
      "批次 416 进度: 100%|██████████████████████████| 100/100 [00:02<00:00, 37.29it/s]\n"
     ]
    },
    {
     "name": "stdout",
     "output_type": "stream",
     "text": [
      "\n",
      "处理批次 417 (大小: 10000000)\n"
     ]
    },
    {
     "name": "stderr",
     "output_type": "stream",
     "text": [
      "批次 417 进度: 100%|██████████████████████████| 100/100 [00:02<00:00, 37.18it/s]\n"
     ]
    },
    {
     "name": "stdout",
     "output_type": "stream",
     "text": [
      "\n",
      "处理批次 418 (大小: 10000000)\n"
     ]
    },
    {
     "name": "stderr",
     "output_type": "stream",
     "text": [
      "批次 418 进度: 100%|██████████████████████████| 100/100 [00:02<00:00, 35.50it/s]\n"
     ]
    },
    {
     "name": "stdout",
     "output_type": "stream",
     "text": [
      "\n",
      "处理批次 419 (大小: 10000000)\n"
     ]
    },
    {
     "name": "stderr",
     "output_type": "stream",
     "text": [
      "批次 419 进度: 100%|██████████████████████████| 100/100 [00:02<00:00, 36.26it/s]\n"
     ]
    },
    {
     "name": "stdout",
     "output_type": "stream",
     "text": [
      "\n",
      "处理批次 420 (大小: 10000000)\n"
     ]
    },
    {
     "name": "stderr",
     "output_type": "stream",
     "text": [
      "批次 420 进度: 100%|██████████████████████████| 100/100 [00:02<00:00, 36.36it/s]\n"
     ]
    },
    {
     "name": "stdout",
     "output_type": "stream",
     "text": [
      "\n",
      "处理批次 421 (大小: 10000000)\n"
     ]
    },
    {
     "name": "stderr",
     "output_type": "stream",
     "text": [
      "批次 421 进度: 100%|██████████████████████████| 100/100 [00:02<00:00, 37.07it/s]\n"
     ]
    },
    {
     "name": "stdout",
     "output_type": "stream",
     "text": [
      "\n",
      "处理批次 422 (大小: 10000000)\n"
     ]
    },
    {
     "name": "stderr",
     "output_type": "stream",
     "text": [
      "批次 422 进度: 100%|██████████████████████████| 100/100 [00:02<00:00, 35.83it/s]\n"
     ]
    },
    {
     "name": "stdout",
     "output_type": "stream",
     "text": [
      "\n",
      "处理批次 423 (大小: 10000000)\n"
     ]
    },
    {
     "name": "stderr",
     "output_type": "stream",
     "text": [
      "批次 423 进度: 100%|██████████████████████████| 100/100 [00:02<00:00, 36.91it/s]\n"
     ]
    },
    {
     "name": "stdout",
     "output_type": "stream",
     "text": [
      "\n",
      "处理批次 424 (大小: 10000000)\n"
     ]
    },
    {
     "name": "stderr",
     "output_type": "stream",
     "text": [
      "批次 424 进度: 100%|██████████████████████████| 100/100 [00:03<00:00, 32.50it/s]\n"
     ]
    },
    {
     "name": "stdout",
     "output_type": "stream",
     "text": [
      "\n",
      "处理批次 425 (大小: 10000000)\n"
     ]
    },
    {
     "name": "stderr",
     "output_type": "stream",
     "text": [
      "批次 425 进度: 100%|██████████████████████████| 100/100 [00:02<00:00, 34.28it/s]\n"
     ]
    },
    {
     "name": "stdout",
     "output_type": "stream",
     "text": [
      "\n",
      "处理批次 426 (大小: 10000000)\n"
     ]
    },
    {
     "name": "stderr",
     "output_type": "stream",
     "text": [
      "批次 426 进度: 100%|██████████████████████████| 100/100 [00:02<00:00, 36.91it/s]\n"
     ]
    },
    {
     "name": "stdout",
     "output_type": "stream",
     "text": [
      "\n",
      "处理批次 427 (大小: 10000000)\n"
     ]
    },
    {
     "name": "stderr",
     "output_type": "stream",
     "text": [
      "批次 427 进度: 100%|██████████████████████████| 100/100 [00:02<00:00, 36.53it/s]\n"
     ]
    },
    {
     "name": "stdout",
     "output_type": "stream",
     "text": [
      "\n",
      "处理批次 428 (大小: 10000000)\n"
     ]
    },
    {
     "name": "stderr",
     "output_type": "stream",
     "text": [
      "批次 428 进度: 100%|██████████████████████████| 100/100 [00:02<00:00, 36.86it/s]\n"
     ]
    },
    {
     "name": "stdout",
     "output_type": "stream",
     "text": [
      "\n",
      "处理批次 429 (大小: 10000000)\n"
     ]
    },
    {
     "name": "stderr",
     "output_type": "stream",
     "text": [
      "批次 429 进度: 100%|██████████████████████████| 100/100 [00:02<00:00, 37.47it/s]\n"
     ]
    },
    {
     "name": "stdout",
     "output_type": "stream",
     "text": [
      "\n",
      "处理批次 430 (大小: 10000000)\n"
     ]
    },
    {
     "name": "stderr",
     "output_type": "stream",
     "text": [
      "批次 430 进度: 100%|██████████████████████████| 100/100 [00:02<00:00, 37.47it/s]\n"
     ]
    },
    {
     "name": "stdout",
     "output_type": "stream",
     "text": [
      "\n",
      "处理批次 431 (大小: 10000000)\n"
     ]
    },
    {
     "name": "stderr",
     "output_type": "stream",
     "text": [
      "批次 431 进度: 100%|██████████████████████████| 100/100 [00:02<00:00, 37.66it/s]\n"
     ]
    },
    {
     "name": "stdout",
     "output_type": "stream",
     "text": [
      "\n",
      "处理批次 432 (大小: 10000000)\n"
     ]
    },
    {
     "name": "stderr",
     "output_type": "stream",
     "text": [
      "批次 432 进度: 100%|██████████████████████████| 100/100 [00:02<00:00, 38.91it/s]\n"
     ]
    },
    {
     "name": "stdout",
     "output_type": "stream",
     "text": [
      "\n",
      "处理批次 433 (大小: 10000000)\n"
     ]
    },
    {
     "name": "stderr",
     "output_type": "stream",
     "text": [
      "批次 433 进度: 100%|██████████████████████████| 100/100 [00:02<00:00, 35.08it/s]\n"
     ]
    },
    {
     "name": "stdout",
     "output_type": "stream",
     "text": [
      "\n",
      "处理批次 434 (大小: 10000000)\n"
     ]
    },
    {
     "name": "stderr",
     "output_type": "stream",
     "text": [
      "批次 434 进度: 100%|██████████████████████████| 100/100 [00:02<00:00, 35.37it/s]\n"
     ]
    },
    {
     "name": "stdout",
     "output_type": "stream",
     "text": [
      "\n",
      "处理批次 435 (大小: 10000000)\n"
     ]
    },
    {
     "name": "stderr",
     "output_type": "stream",
     "text": [
      "批次 435 进度: 100%|██████████████████████████| 100/100 [00:02<00:00, 34.89it/s]\n"
     ]
    },
    {
     "name": "stdout",
     "output_type": "stream",
     "text": [
      "\n",
      "处理批次 436 (大小: 10000000)\n"
     ]
    },
    {
     "name": "stderr",
     "output_type": "stream",
     "text": [
      "批次 436 进度: 100%|██████████████████████████| 100/100 [00:02<00:00, 34.23it/s]\n"
     ]
    },
    {
     "name": "stdout",
     "output_type": "stream",
     "text": [
      "\n",
      "处理批次 437 (大小: 10000000)\n"
     ]
    },
    {
     "name": "stderr",
     "output_type": "stream",
     "text": [
      "批次 437 进度: 100%|██████████████████████████| 100/100 [00:02<00:00, 35.89it/s]\n"
     ]
    },
    {
     "name": "stdout",
     "output_type": "stream",
     "text": [
      "\n",
      "处理批次 438 (大小: 10000000)\n"
     ]
    },
    {
     "name": "stderr",
     "output_type": "stream",
     "text": [
      "批次 438 进度: 100%|██████████████████████████| 100/100 [00:02<00:00, 37.62it/s]\n"
     ]
    },
    {
     "name": "stdout",
     "output_type": "stream",
     "text": [
      "\n",
      "处理批次 439 (大小: 10000000)\n"
     ]
    },
    {
     "name": "stderr",
     "output_type": "stream",
     "text": [
      "批次 439 进度: 100%|██████████████████████████| 100/100 [00:02<00:00, 38.39it/s]\n"
     ]
    },
    {
     "name": "stdout",
     "output_type": "stream",
     "text": [
      "\n",
      "处理批次 440 (大小: 10000000)\n"
     ]
    },
    {
     "name": "stderr",
     "output_type": "stream",
     "text": [
      "批次 440 进度: 100%|██████████████████████████| 100/100 [00:02<00:00, 36.63it/s]\n"
     ]
    },
    {
     "name": "stdout",
     "output_type": "stream",
     "text": [
      "\n",
      "处理批次 441 (大小: 10000000)\n"
     ]
    },
    {
     "name": "stderr",
     "output_type": "stream",
     "text": [
      "批次 441 进度: 100%|██████████████████████████| 100/100 [00:02<00:00, 35.00it/s]\n"
     ]
    },
    {
     "name": "stdout",
     "output_type": "stream",
     "text": [
      "\n",
      "处理批次 442 (大小: 10000000)\n"
     ]
    },
    {
     "name": "stderr",
     "output_type": "stream",
     "text": [
      "批次 442 进度: 100%|██████████████████████████| 100/100 [00:02<00:00, 35.48it/s]\n"
     ]
    },
    {
     "name": "stdout",
     "output_type": "stream",
     "text": [
      "\n",
      "处理批次 443 (大小: 10000000)\n"
     ]
    },
    {
     "name": "stderr",
     "output_type": "stream",
     "text": [
      "批次 443 进度: 100%|██████████████████████████| 100/100 [00:02<00:00, 36.42it/s]\n"
     ]
    },
    {
     "name": "stdout",
     "output_type": "stream",
     "text": [
      "\n",
      "处理批次 444 (大小: 10000000)\n"
     ]
    },
    {
     "name": "stderr",
     "output_type": "stream",
     "text": [
      "批次 444 进度: 100%|██████████████████████████| 100/100 [00:02<00:00, 36.49it/s]\n"
     ]
    },
    {
     "name": "stdout",
     "output_type": "stream",
     "text": [
      "\n",
      "处理批次 445 (大小: 10000000)\n"
     ]
    },
    {
     "name": "stderr",
     "output_type": "stream",
     "text": [
      "批次 445 进度: 100%|██████████████████████████| 100/100 [00:02<00:00, 35.53it/s]\n"
     ]
    },
    {
     "name": "stdout",
     "output_type": "stream",
     "text": [
      "\n",
      "处理批次 446 (大小: 10000000)\n"
     ]
    },
    {
     "name": "stderr",
     "output_type": "stream",
     "text": [
      "批次 446 进度: 100%|██████████████████████████| 100/100 [00:02<00:00, 36.13it/s]\n"
     ]
    },
    {
     "name": "stdout",
     "output_type": "stream",
     "text": [
      "\n",
      "处理批次 447 (大小: 10000000)\n"
     ]
    },
    {
     "name": "stderr",
     "output_type": "stream",
     "text": [
      "批次 447 进度: 100%|██████████████████████████| 100/100 [00:03<00:00, 32.01it/s]\n"
     ]
    },
    {
     "name": "stdout",
     "output_type": "stream",
     "text": [
      "\n",
      "处理批次 448 (大小: 10000000)\n"
     ]
    },
    {
     "name": "stderr",
     "output_type": "stream",
     "text": [
      "批次 448 进度: 100%|██████████████████████████| 100/100 [00:02<00:00, 34.69it/s]\n"
     ]
    },
    {
     "name": "stdout",
     "output_type": "stream",
     "text": [
      "\n",
      "处理批次 449 (大小: 10000000)\n"
     ]
    },
    {
     "name": "stderr",
     "output_type": "stream",
     "text": [
      "批次 449 进度: 100%|██████████████████████████| 100/100 [00:02<00:00, 33.65it/s]\n"
     ]
    },
    {
     "name": "stdout",
     "output_type": "stream",
     "text": [
      "\n",
      "处理批次 450 (大小: 10000000)\n"
     ]
    },
    {
     "name": "stderr",
     "output_type": "stream",
     "text": [
      "批次 450 进度: 100%|██████████████████████████| 100/100 [00:02<00:00, 37.01it/s]\n"
     ]
    },
    {
     "name": "stdout",
     "output_type": "stream",
     "text": [
      "\n",
      "处理批次 451 (大小: 10000000)\n"
     ]
    },
    {
     "name": "stderr",
     "output_type": "stream",
     "text": [
      "批次 451 进度: 100%|██████████████████████████| 100/100 [00:02<00:00, 36.41it/s]\n"
     ]
    },
    {
     "name": "stdout",
     "output_type": "stream",
     "text": [
      "\n",
      "处理批次 452 (大小: 10000000)\n"
     ]
    },
    {
     "name": "stderr",
     "output_type": "stream",
     "text": [
      "批次 452 进度: 100%|██████████████████████████| 100/100 [00:02<00:00, 35.29it/s]\n"
     ]
    },
    {
     "name": "stdout",
     "output_type": "stream",
     "text": [
      "\n",
      "处理批次 453 (大小: 10000000)\n"
     ]
    },
    {
     "name": "stderr",
     "output_type": "stream",
     "text": [
      "批次 453 进度: 100%|██████████████████████████| 100/100 [00:02<00:00, 36.90it/s]\n"
     ]
    },
    {
     "name": "stdout",
     "output_type": "stream",
     "text": [
      "\n",
      "处理批次 454 (大小: 10000000)\n"
     ]
    },
    {
     "name": "stderr",
     "output_type": "stream",
     "text": [
      "批次 454 进度: 100%|██████████████████████████| 100/100 [00:02<00:00, 36.92it/s]\n"
     ]
    },
    {
     "name": "stdout",
     "output_type": "stream",
     "text": [
      "\n",
      "处理批次 455 (大小: 10000000)\n"
     ]
    },
    {
     "name": "stderr",
     "output_type": "stream",
     "text": [
      "批次 455 进度: 100%|██████████████████████████| 100/100 [00:02<00:00, 37.48it/s]\n"
     ]
    },
    {
     "name": "stdout",
     "output_type": "stream",
     "text": [
      "\n",
      "处理批次 456 (大小: 10000000)\n"
     ]
    },
    {
     "name": "stderr",
     "output_type": "stream",
     "text": [
      "批次 456 进度: 100%|██████████████████████████| 100/100 [00:02<00:00, 38.93it/s]\n"
     ]
    },
    {
     "name": "stdout",
     "output_type": "stream",
     "text": [
      "\n",
      "处理批次 457 (大小: 10000000)\n"
     ]
    },
    {
     "name": "stderr",
     "output_type": "stream",
     "text": [
      "批次 457 进度: 100%|██████████████████████████| 100/100 [00:02<00:00, 35.72it/s]\n"
     ]
    },
    {
     "name": "stdout",
     "output_type": "stream",
     "text": [
      "\n",
      "处理批次 458 (大小: 10000000)\n"
     ]
    },
    {
     "name": "stderr",
     "output_type": "stream",
     "text": [
      "批次 458 进度: 100%|██████████████████████████| 100/100 [00:02<00:00, 35.24it/s]\n"
     ]
    },
    {
     "name": "stdout",
     "output_type": "stream",
     "text": [
      "\n",
      "处理批次 459 (大小: 10000000)\n"
     ]
    },
    {
     "name": "stderr",
     "output_type": "stream",
     "text": [
      "批次 459 进度: 100%|██████████████████████████| 100/100 [00:03<00:00, 32.62it/s]\n"
     ]
    },
    {
     "name": "stdout",
     "output_type": "stream",
     "text": [
      "\n",
      "处理批次 460 (大小: 10000000)\n"
     ]
    },
    {
     "name": "stderr",
     "output_type": "stream",
     "text": [
      "批次 460 进度: 100%|██████████████████████████| 100/100 [00:03<00:00, 32.87it/s]\n"
     ]
    },
    {
     "name": "stdout",
     "output_type": "stream",
     "text": [
      "\n",
      "处理批次 461 (大小: 10000000)\n"
     ]
    },
    {
     "name": "stderr",
     "output_type": "stream",
     "text": [
      "批次 461 进度: 100%|██████████████████████████| 100/100 [00:02<00:00, 38.61it/s]\n"
     ]
    },
    {
     "name": "stdout",
     "output_type": "stream",
     "text": [
      "\n",
      "处理批次 462 (大小: 10000000)\n"
     ]
    },
    {
     "name": "stderr",
     "output_type": "stream",
     "text": [
      "批次 462 进度: 100%|██████████████████████████| 100/100 [00:02<00:00, 37.40it/s]\n"
     ]
    },
    {
     "name": "stdout",
     "output_type": "stream",
     "text": [
      "\n",
      "处理批次 463 (大小: 10000000)\n"
     ]
    },
    {
     "name": "stderr",
     "output_type": "stream",
     "text": [
      "批次 463 进度: 100%|██████████████████████████| 100/100 [00:02<00:00, 37.73it/s]\n"
     ]
    },
    {
     "name": "stdout",
     "output_type": "stream",
     "text": [
      "\n",
      "处理批次 464 (大小: 10000000)\n"
     ]
    },
    {
     "name": "stderr",
     "output_type": "stream",
     "text": [
      "批次 464 进度: 100%|██████████████████████████| 100/100 [00:02<00:00, 35.46it/s]\n"
     ]
    },
    {
     "name": "stdout",
     "output_type": "stream",
     "text": [
      "\n",
      "处理批次 465 (大小: 10000000)\n"
     ]
    },
    {
     "name": "stderr",
     "output_type": "stream",
     "text": [
      "批次 465 进度: 100%|██████████████████████████| 100/100 [00:02<00:00, 34.86it/s]\n"
     ]
    },
    {
     "name": "stdout",
     "output_type": "stream",
     "text": [
      "\n",
      "处理批次 466 (大小: 10000000)\n"
     ]
    },
    {
     "name": "stderr",
     "output_type": "stream",
     "text": [
      "批次 466 进度: 100%|██████████████████████████| 100/100 [00:02<00:00, 35.07it/s]\n"
     ]
    },
    {
     "name": "stdout",
     "output_type": "stream",
     "text": [
      "\n",
      "处理批次 467 (大小: 10000000)\n"
     ]
    },
    {
     "name": "stderr",
     "output_type": "stream",
     "text": [
      "批次 467 进度: 100%|██████████████████████████| 100/100 [00:02<00:00, 35.97it/s]\n"
     ]
    },
    {
     "name": "stdout",
     "output_type": "stream",
     "text": [
      "\n",
      "处理批次 468 (大小: 10000000)\n"
     ]
    },
    {
     "name": "stderr",
     "output_type": "stream",
     "text": [
      "批次 468 进度: 100%|██████████████████████████| 100/100 [00:02<00:00, 36.58it/s]\n"
     ]
    },
    {
     "name": "stdout",
     "output_type": "stream",
     "text": [
      "\n",
      "处理批次 469 (大小: 10000000)\n"
     ]
    },
    {
     "name": "stderr",
     "output_type": "stream",
     "text": [
      "批次 469 进度: 100%|██████████████████████████| 100/100 [00:02<00:00, 36.15it/s]\n"
     ]
    },
    {
     "name": "stdout",
     "output_type": "stream",
     "text": [
      "\n",
      "处理批次 470 (大小: 10000000)\n"
     ]
    },
    {
     "name": "stderr",
     "output_type": "stream",
     "text": [
      "批次 470 进度: 100%|██████████████████████████| 100/100 [00:02<00:00, 36.17it/s]\n"
     ]
    },
    {
     "name": "stdout",
     "output_type": "stream",
     "text": [
      "\n",
      "处理批次 471 (大小: 10000000)\n"
     ]
    },
    {
     "name": "stderr",
     "output_type": "stream",
     "text": [
      "批次 471 进度: 100%|██████████████████████████| 100/100 [00:02<00:00, 33.47it/s]\n"
     ]
    },
    {
     "name": "stdout",
     "output_type": "stream",
     "text": [
      "\n",
      "处理批次 472 (大小: 10000000)\n"
     ]
    },
    {
     "name": "stderr",
     "output_type": "stream",
     "text": [
      "批次 472 进度: 100%|██████████████████████████| 100/100 [00:02<00:00, 34.37it/s]\n"
     ]
    },
    {
     "name": "stdout",
     "output_type": "stream",
     "text": [
      "\n",
      "处理批次 473 (大小: 10000000)\n"
     ]
    },
    {
     "name": "stderr",
     "output_type": "stream",
     "text": [
      "批次 473 进度: 100%|██████████████████████████| 100/100 [00:02<00:00, 37.29it/s]\n"
     ]
    },
    {
     "name": "stdout",
     "output_type": "stream",
     "text": [
      "\n",
      "处理批次 474 (大小: 10000000)\n"
     ]
    },
    {
     "name": "stderr",
     "output_type": "stream",
     "text": [
      "批次 474 进度: 100%|██████████████████████████| 100/100 [00:02<00:00, 34.76it/s]\n"
     ]
    },
    {
     "name": "stdout",
     "output_type": "stream",
     "text": [
      "\n",
      "处理批次 475 (大小: 10000000)\n"
     ]
    },
    {
     "name": "stderr",
     "output_type": "stream",
     "text": [
      "批次 475 进度: 100%|██████████████████████████| 100/100 [00:02<00:00, 36.00it/s]\n"
     ]
    },
    {
     "name": "stdout",
     "output_type": "stream",
     "text": [
      "\n",
      "处理批次 476 (大小: 10000000)\n"
     ]
    },
    {
     "name": "stderr",
     "output_type": "stream",
     "text": [
      "批次 476 进度: 100%|██████████████████████████| 100/100 [00:02<00:00, 36.21it/s]\n"
     ]
    },
    {
     "name": "stdout",
     "output_type": "stream",
     "text": [
      "\n",
      "处理批次 477 (大小: 10000000)\n"
     ]
    },
    {
     "name": "stderr",
     "output_type": "stream",
     "text": [
      "批次 477 进度: 100%|██████████████████████████| 100/100 [00:02<00:00, 37.80it/s]\n"
     ]
    },
    {
     "name": "stdout",
     "output_type": "stream",
     "text": [
      "\n",
      "处理批次 478 (大小: 10000000)\n"
     ]
    },
    {
     "name": "stderr",
     "output_type": "stream",
     "text": [
      "批次 478 进度: 100%|██████████████████████████| 100/100 [00:02<00:00, 37.69it/s]\n"
     ]
    },
    {
     "name": "stdout",
     "output_type": "stream",
     "text": [
      "\n",
      "处理批次 479 (大小: 10000000)\n"
     ]
    },
    {
     "name": "stderr",
     "output_type": "stream",
     "text": [
      "批次 479 进度: 100%|██████████████████████████| 100/100 [00:02<00:00, 38.16it/s]\n"
     ]
    },
    {
     "name": "stdout",
     "output_type": "stream",
     "text": [
      "\n",
      "处理批次 480 (大小: 10000000)\n"
     ]
    },
    {
     "name": "stderr",
     "output_type": "stream",
     "text": [
      "批次 480 进度: 100%|██████████████████████████| 100/100 [00:02<00:00, 39.39it/s]\n"
     ]
    },
    {
     "name": "stdout",
     "output_type": "stream",
     "text": [
      "\n",
      "处理批次 481 (大小: 10000000)\n"
     ]
    },
    {
     "name": "stderr",
     "output_type": "stream",
     "text": [
      "批次 481 进度: 100%|██████████████████████████| 100/100 [00:02<00:00, 36.05it/s]\n"
     ]
    },
    {
     "name": "stdout",
     "output_type": "stream",
     "text": [
      "\n",
      "处理批次 482 (大小: 10000000)\n"
     ]
    },
    {
     "name": "stderr",
     "output_type": "stream",
     "text": [
      "批次 482 进度: 100%|██████████████████████████| 100/100 [00:02<00:00, 35.04it/s]\n"
     ]
    },
    {
     "name": "stdout",
     "output_type": "stream",
     "text": [
      "\n",
      "处理批次 483 (大小: 10000000)\n"
     ]
    },
    {
     "name": "stderr",
     "output_type": "stream",
     "text": [
      "批次 483 进度: 100%|██████████████████████████| 100/100 [00:03<00:00, 32.23it/s]\n"
     ]
    },
    {
     "name": "stdout",
     "output_type": "stream",
     "text": [
      "\n",
      "处理批次 484 (大小: 10000000)\n"
     ]
    },
    {
     "name": "stderr",
     "output_type": "stream",
     "text": [
      "批次 484 进度: 100%|██████████████████████████| 100/100 [00:02<00:00, 37.13it/s]\n"
     ]
    },
    {
     "name": "stdout",
     "output_type": "stream",
     "text": [
      "\n",
      "处理批次 485 (大小: 10000000)\n"
     ]
    },
    {
     "name": "stderr",
     "output_type": "stream",
     "text": [
      "批次 485 进度: 100%|██████████████████████████| 100/100 [00:02<00:00, 38.10it/s]\n"
     ]
    },
    {
     "name": "stdout",
     "output_type": "stream",
     "text": [
      "\n",
      "处理批次 486 (大小: 10000000)\n"
     ]
    },
    {
     "name": "stderr",
     "output_type": "stream",
     "text": [
      "批次 486 进度: 100%|██████████████████████████| 100/100 [00:02<00:00, 36.14it/s]\n"
     ]
    },
    {
     "name": "stdout",
     "output_type": "stream",
     "text": [
      "\n",
      "处理批次 487 (大小: 10000000)\n"
     ]
    },
    {
     "name": "stderr",
     "output_type": "stream",
     "text": [
      "批次 487 进度: 100%|██████████████████████████| 100/100 [00:02<00:00, 36.72it/s]\n"
     ]
    },
    {
     "name": "stdout",
     "output_type": "stream",
     "text": [
      "\n",
      "处理批次 488 (大小: 10000000)\n"
     ]
    },
    {
     "name": "stderr",
     "output_type": "stream",
     "text": [
      "批次 488 进度: 100%|██████████████████████████| 100/100 [00:02<00:00, 35.70it/s]\n"
     ]
    },
    {
     "name": "stdout",
     "output_type": "stream",
     "text": [
      "\n",
      "处理批次 489 (大小: 10000000)\n"
     ]
    },
    {
     "name": "stderr",
     "output_type": "stream",
     "text": [
      "批次 489 进度: 100%|██████████████████████████| 100/100 [00:02<00:00, 35.48it/s]\n"
     ]
    },
    {
     "name": "stdout",
     "output_type": "stream",
     "text": [
      "\n",
      "处理批次 490 (大小: 10000000)\n"
     ]
    },
    {
     "name": "stderr",
     "output_type": "stream",
     "text": [
      "批次 490 进度: 100%|██████████████████████████| 100/100 [00:02<00:00, 35.97it/s]\n"
     ]
    },
    {
     "name": "stdout",
     "output_type": "stream",
     "text": [
      "\n",
      "处理批次 491 (大小: 10000000)\n"
     ]
    },
    {
     "name": "stderr",
     "output_type": "stream",
     "text": [
      "批次 491 进度: 100%|██████████████████████████| 100/100 [00:02<00:00, 37.00it/s]\n"
     ]
    },
    {
     "name": "stdout",
     "output_type": "stream",
     "text": [
      "\n",
      "处理批次 492 (大小: 10000000)\n"
     ]
    },
    {
     "name": "stderr",
     "output_type": "stream",
     "text": [
      "批次 492 进度: 100%|██████████████████████████| 100/100 [00:02<00:00, 35.10it/s]\n"
     ]
    },
    {
     "name": "stdout",
     "output_type": "stream",
     "text": [
      "\n",
      "处理批次 493 (大小: 10000000)\n"
     ]
    },
    {
     "name": "stderr",
     "output_type": "stream",
     "text": [
      "批次 493 进度: 100%|██████████████████████████| 100/100 [00:02<00:00, 35.65it/s]\n"
     ]
    },
    {
     "name": "stdout",
     "output_type": "stream",
     "text": [
      "\n",
      "处理批次 494 (大小: 10000000)\n"
     ]
    },
    {
     "name": "stderr",
     "output_type": "stream",
     "text": [
      "批次 494 进度: 100%|██████████████████████████| 100/100 [00:03<00:00, 31.84it/s]\n"
     ]
    },
    {
     "name": "stdout",
     "output_type": "stream",
     "text": [
      "\n",
      "处理批次 495 (大小: 10000000)\n"
     ]
    },
    {
     "name": "stderr",
     "output_type": "stream",
     "text": [
      "批次 495 进度: 100%|██████████████████████████| 100/100 [00:02<00:00, 34.62it/s]\n"
     ]
    },
    {
     "name": "stdout",
     "output_type": "stream",
     "text": [
      "\n",
      "处理批次 496 (大小: 10000000)\n"
     ]
    },
    {
     "name": "stderr",
     "output_type": "stream",
     "text": [
      "批次 496 进度: 100%|██████████████████████████| 100/100 [00:02<00:00, 34.34it/s]\n"
     ]
    },
    {
     "name": "stdout",
     "output_type": "stream",
     "text": [
      "\n",
      "处理批次 497 (大小: 10000000)\n"
     ]
    },
    {
     "name": "stderr",
     "output_type": "stream",
     "text": [
      "批次 497 进度: 100%|██████████████████████████| 100/100 [00:02<00:00, 37.55it/s]\n"
     ]
    },
    {
     "name": "stdout",
     "output_type": "stream",
     "text": [
      "\n",
      "处理批次 498 (大小: 10000000)\n"
     ]
    },
    {
     "name": "stderr",
     "output_type": "stream",
     "text": [
      "批次 498 进度: 100%|██████████████████████████| 100/100 [00:02<00:00, 36.64it/s]\n"
     ]
    },
    {
     "name": "stdout",
     "output_type": "stream",
     "text": [
      "\n",
      "处理批次 499 (大小: 10000000)\n"
     ]
    },
    {
     "name": "stderr",
     "output_type": "stream",
     "text": [
      "批次 499 进度: 100%|██████████████████████████| 100/100 [00:02<00:00, 35.96it/s]\n"
     ]
    },
    {
     "name": "stdout",
     "output_type": "stream",
     "text": [
      "\n",
      "处理批次 500 (大小: 10000000)\n"
     ]
    },
    {
     "name": "stderr",
     "output_type": "stream",
     "text": [
      "批次 500 进度: 100%|██████████████████████████| 100/100 [00:02<00:00, 35.37it/s]\n"
     ]
    },
    {
     "name": "stdout",
     "output_type": "stream",
     "text": [
      "\n",
      "处理批次 501 (大小: 10000000)\n"
     ]
    },
    {
     "name": "stderr",
     "output_type": "stream",
     "text": [
      "批次 501 进度: 100%|██████████████████████████| 100/100 [00:02<00:00, 35.73it/s]\n"
     ]
    },
    {
     "name": "stdout",
     "output_type": "stream",
     "text": [
      "\n",
      "处理批次 502 (大小: 10000000)\n"
     ]
    },
    {
     "name": "stderr",
     "output_type": "stream",
     "text": [
      "批次 502 进度: 100%|██████████████████████████| 100/100 [00:02<00:00, 37.68it/s]\n"
     ]
    },
    {
     "name": "stdout",
     "output_type": "stream",
     "text": [
      "\n",
      "处理批次 503 (大小: 10000000)\n"
     ]
    },
    {
     "name": "stderr",
     "output_type": "stream",
     "text": [
      "批次 503 进度: 100%|██████████████████████████| 100/100 [00:02<00:00, 36.35it/s]\n"
     ]
    },
    {
     "name": "stdout",
     "output_type": "stream",
     "text": [
      "\n",
      "处理批次 504 (大小: 10000000)\n"
     ]
    },
    {
     "name": "stderr",
     "output_type": "stream",
     "text": [
      "批次 504 进度: 100%|██████████████████████████| 100/100 [00:02<00:00, 39.76it/s]\n"
     ]
    },
    {
     "name": "stdout",
     "output_type": "stream",
     "text": [
      "\n",
      "处理批次 505 (大小: 10000000)\n"
     ]
    },
    {
     "name": "stderr",
     "output_type": "stream",
     "text": [
      "批次 505 进度: 100%|██████████████████████████| 100/100 [00:02<00:00, 34.86it/s]\n"
     ]
    },
    {
     "name": "stdout",
     "output_type": "stream",
     "text": [
      "\n",
      "处理批次 506 (大小: 10000000)\n"
     ]
    },
    {
     "name": "stderr",
     "output_type": "stream",
     "text": [
      "批次 506 进度: 100%|██████████████████████████| 100/100 [00:03<00:00, 29.75it/s]\n"
     ]
    },
    {
     "name": "stdout",
     "output_type": "stream",
     "text": [
      "\n",
      "处理批次 507 (大小: 10000000)\n"
     ]
    },
    {
     "name": "stderr",
     "output_type": "stream",
     "text": [
      "批次 507 进度: 100%|██████████████████████████| 100/100 [00:02<00:00, 36.90it/s]\n"
     ]
    },
    {
     "name": "stdout",
     "output_type": "stream",
     "text": [
      "\n",
      "处理批次 508 (大小: 10000000)\n"
     ]
    },
    {
     "name": "stderr",
     "output_type": "stream",
     "text": [
      "批次 508 进度: 100%|██████████████████████████| 100/100 [00:02<00:00, 37.26it/s]\n"
     ]
    },
    {
     "name": "stdout",
     "output_type": "stream",
     "text": [
      "\n",
      "处理批次 509 (大小: 10000000)\n"
     ]
    },
    {
     "name": "stderr",
     "output_type": "stream",
     "text": [
      "批次 509 进度: 100%|██████████████████████████| 100/100 [00:02<00:00, 34.20it/s]\n"
     ]
    },
    {
     "name": "stdout",
     "output_type": "stream",
     "text": [
      "\n",
      "处理批次 510 (大小: 10000000)\n"
     ]
    },
    {
     "name": "stderr",
     "output_type": "stream",
     "text": [
      "批次 510 进度: 100%|██████████████████████████| 100/100 [00:02<00:00, 36.59it/s]\n"
     ]
    },
    {
     "name": "stdout",
     "output_type": "stream",
     "text": [
      "\n",
      "处理批次 511 (大小: 10000000)\n"
     ]
    },
    {
     "name": "stderr",
     "output_type": "stream",
     "text": [
      "批次 511 进度: 100%|██████████████████████████| 100/100 [00:02<00:00, 35.78it/s]\n"
     ]
    },
    {
     "name": "stdout",
     "output_type": "stream",
     "text": [
      "\n",
      "处理批次 512 (大小: 10000000)\n"
     ]
    },
    {
     "name": "stderr",
     "output_type": "stream",
     "text": [
      "批次 512 进度: 100%|██████████████████████████| 100/100 [00:02<00:00, 34.81it/s]\n"
     ]
    },
    {
     "name": "stdout",
     "output_type": "stream",
     "text": [
      "\n",
      "处理批次 513 (大小: 10000000)\n"
     ]
    },
    {
     "name": "stderr",
     "output_type": "stream",
     "text": [
      "批次 513 进度: 100%|██████████████████████████| 100/100 [00:02<00:00, 36.31it/s]\n"
     ]
    },
    {
     "name": "stdout",
     "output_type": "stream",
     "text": [
      "\n",
      "处理批次 514 (大小: 10000000)\n"
     ]
    },
    {
     "name": "stderr",
     "output_type": "stream",
     "text": [
      "批次 514 进度: 100%|██████████████████████████| 100/100 [00:02<00:00, 35.02it/s]\n"
     ]
    },
    {
     "name": "stdout",
     "output_type": "stream",
     "text": [
      "\n",
      "处理批次 515 (大小: 10000000)\n"
     ]
    },
    {
     "name": "stderr",
     "output_type": "stream",
     "text": [
      "批次 515 进度: 100%|██████████████████████████| 100/100 [00:02<00:00, 36.52it/s]\n"
     ]
    },
    {
     "name": "stdout",
     "output_type": "stream",
     "text": [
      "\n",
      "处理批次 516 (大小: 10000000)\n"
     ]
    },
    {
     "name": "stderr",
     "output_type": "stream",
     "text": [
      "批次 516 进度: 100%|██████████████████████████| 100/100 [00:02<00:00, 36.27it/s]\n"
     ]
    },
    {
     "name": "stdout",
     "output_type": "stream",
     "text": [
      "\n",
      "处理批次 517 (大小: 10000000)\n"
     ]
    },
    {
     "name": "stderr",
     "output_type": "stream",
     "text": [
      "批次 517 进度: 100%|██████████████████████████| 100/100 [00:02<00:00, 36.18it/s]\n"
     ]
    },
    {
     "name": "stdout",
     "output_type": "stream",
     "text": [
      "\n",
      "处理批次 518 (大小: 10000000)\n"
     ]
    },
    {
     "name": "stderr",
     "output_type": "stream",
     "text": [
      "批次 518 进度: 100%|██████████████████████████| 100/100 [00:03<00:00, 32.55it/s]\n"
     ]
    },
    {
     "name": "stdout",
     "output_type": "stream",
     "text": [
      "\n",
      "处理批次 519 (大小: 10000000)\n"
     ]
    },
    {
     "name": "stderr",
     "output_type": "stream",
     "text": [
      "批次 519 进度: 100%|██████████████████████████| 100/100 [00:02<00:00, 33.91it/s]\n"
     ]
    },
    {
     "name": "stdout",
     "output_type": "stream",
     "text": [
      "\n",
      "处理批次 520 (大小: 10000000)\n"
     ]
    },
    {
     "name": "stderr",
     "output_type": "stream",
     "text": [
      "批次 520 进度: 100%|██████████████████████████| 100/100 [00:02<00:00, 35.66it/s]\n"
     ]
    },
    {
     "name": "stdout",
     "output_type": "stream",
     "text": [
      "\n",
      "处理批次 521 (大小: 10000000)\n"
     ]
    },
    {
     "name": "stderr",
     "output_type": "stream",
     "text": [
      "批次 521 进度: 100%|██████████████████████████| 100/100 [00:02<00:00, 35.12it/s]\n"
     ]
    },
    {
     "name": "stdout",
     "output_type": "stream",
     "text": [
      "\n",
      "处理批次 522 (大小: 10000000)\n"
     ]
    },
    {
     "name": "stderr",
     "output_type": "stream",
     "text": [
      "批次 522 进度: 100%|██████████████████████████| 100/100 [00:02<00:00, 36.43it/s]\n"
     ]
    },
    {
     "name": "stdout",
     "output_type": "stream",
     "text": [
      "\n",
      "处理批次 523 (大小: 10000000)\n"
     ]
    },
    {
     "name": "stderr",
     "output_type": "stream",
     "text": [
      "批次 523 进度: 100%|██████████████████████████| 100/100 [00:02<00:00, 36.07it/s]\n"
     ]
    },
    {
     "name": "stdout",
     "output_type": "stream",
     "text": [
      "\n",
      "处理批次 524 (大小: 10000000)\n"
     ]
    },
    {
     "name": "stderr",
     "output_type": "stream",
     "text": [
      "批次 524 进度: 100%|██████████████████████████| 100/100 [00:02<00:00, 36.68it/s]\n"
     ]
    },
    {
     "name": "stdout",
     "output_type": "stream",
     "text": [
      "\n",
      "处理批次 525 (大小: 10000000)\n"
     ]
    },
    {
     "name": "stderr",
     "output_type": "stream",
     "text": [
      "批次 525 进度: 100%|██████████████████████████| 100/100 [00:02<00:00, 35.97it/s]\n"
     ]
    },
    {
     "name": "stdout",
     "output_type": "stream",
     "text": [
      "\n",
      "处理批次 526 (大小: 10000000)\n"
     ]
    },
    {
     "name": "stderr",
     "output_type": "stream",
     "text": [
      "批次 526 进度: 100%|██████████████████████████| 100/100 [00:02<00:00, 37.33it/s]\n"
     ]
    },
    {
     "name": "stdout",
     "output_type": "stream",
     "text": [
      "\n",
      "处理批次 527 (大小: 10000000)\n"
     ]
    },
    {
     "name": "stderr",
     "output_type": "stream",
     "text": [
      "批次 527 进度: 100%|██████████████████████████| 100/100 [00:02<00:00, 38.13it/s]\n"
     ]
    },
    {
     "name": "stdout",
     "output_type": "stream",
     "text": [
      "\n",
      "处理批次 528 (大小: 10000000)\n"
     ]
    },
    {
     "name": "stderr",
     "output_type": "stream",
     "text": [
      "批次 528 进度: 100%|██████████████████████████| 100/100 [00:02<00:00, 38.92it/s]\n"
     ]
    },
    {
     "name": "stdout",
     "output_type": "stream",
     "text": [
      "\n",
      "处理批次 529 (大小: 10000000)\n"
     ]
    },
    {
     "name": "stderr",
     "output_type": "stream",
     "text": [
      "批次 529 进度: 100%|██████████████████████████| 100/100 [00:02<00:00, 35.08it/s]\n"
     ]
    },
    {
     "name": "stdout",
     "output_type": "stream",
     "text": [
      "\n",
      "处理批次 530 (大小: 10000000)\n"
     ]
    },
    {
     "name": "stderr",
     "output_type": "stream",
     "text": [
      "批次 530 进度: 100%|██████████████████████████| 100/100 [00:02<00:00, 35.26it/s]\n"
     ]
    },
    {
     "name": "stdout",
     "output_type": "stream",
     "text": [
      "\n",
      "处理批次 531 (大小: 10000000)\n"
     ]
    },
    {
     "name": "stderr",
     "output_type": "stream",
     "text": [
      "批次 531 进度: 100%|██████████████████████████| 100/100 [00:02<00:00, 36.51it/s]\n"
     ]
    },
    {
     "name": "stdout",
     "output_type": "stream",
     "text": [
      "\n",
      "处理批次 532 (大小: 10000000)\n"
     ]
    },
    {
     "name": "stderr",
     "output_type": "stream",
     "text": [
      "批次 532 进度: 100%|██████████████████████████| 100/100 [00:02<00:00, 35.89it/s]\n"
     ]
    },
    {
     "name": "stdout",
     "output_type": "stream",
     "text": [
      "\n",
      "处理批次 533 (大小: 10000000)\n"
     ]
    },
    {
     "name": "stderr",
     "output_type": "stream",
     "text": [
      "批次 533 进度: 100%|██████████████████████████| 100/100 [00:02<00:00, 37.09it/s]\n"
     ]
    },
    {
     "name": "stdout",
     "output_type": "stream",
     "text": [
      "\n",
      "处理批次 534 (大小: 10000000)\n"
     ]
    },
    {
     "name": "stderr",
     "output_type": "stream",
     "text": [
      "批次 534 进度: 100%|██████████████████████████| 100/100 [00:02<00:00, 35.54it/s]\n"
     ]
    },
    {
     "name": "stdout",
     "output_type": "stream",
     "text": [
      "\n",
      "处理批次 535 (大小: 10000000)\n"
     ]
    },
    {
     "name": "stderr",
     "output_type": "stream",
     "text": [
      "批次 535 进度: 100%|██████████████████████████| 100/100 [00:02<00:00, 36.73it/s]\n"
     ]
    },
    {
     "name": "stdout",
     "output_type": "stream",
     "text": [
      "\n",
      "处理批次 536 (大小: 10000000)\n"
     ]
    },
    {
     "name": "stderr",
     "output_type": "stream",
     "text": [
      "批次 536 进度: 100%|██████████████████████████| 100/100 [00:02<00:00, 35.54it/s]\n"
     ]
    },
    {
     "name": "stdout",
     "output_type": "stream",
     "text": [
      "\n",
      "处理批次 537 (大小: 10000000)\n"
     ]
    },
    {
     "name": "stderr",
     "output_type": "stream",
     "text": [
      "批次 537 进度: 100%|██████████████████████████| 100/100 [00:02<00:00, 35.06it/s]\n"
     ]
    },
    {
     "name": "stdout",
     "output_type": "stream",
     "text": [
      "\n",
      "处理批次 538 (大小: 10000000)\n"
     ]
    },
    {
     "name": "stderr",
     "output_type": "stream",
     "text": [
      "批次 538 进度: 100%|██████████████████████████| 100/100 [00:02<00:00, 37.21it/s]\n"
     ]
    },
    {
     "name": "stdout",
     "output_type": "stream",
     "text": [
      "\n",
      "处理批次 539 (大小: 10000000)\n"
     ]
    },
    {
     "name": "stderr",
     "output_type": "stream",
     "text": [
      "批次 539 进度: 100%|██████████████████████████| 100/100 [00:02<00:00, 35.40it/s]\n"
     ]
    },
    {
     "name": "stdout",
     "output_type": "stream",
     "text": [
      "\n",
      "处理批次 540 (大小: 10000000)\n"
     ]
    },
    {
     "name": "stderr",
     "output_type": "stream",
     "text": [
      "批次 540 进度: 100%|██████████████████████████| 100/100 [00:02<00:00, 36.33it/s]\n"
     ]
    },
    {
     "name": "stdout",
     "output_type": "stream",
     "text": [
      "\n",
      "处理批次 541 (大小: 10000000)\n"
     ]
    },
    {
     "name": "stderr",
     "output_type": "stream",
     "text": [
      "批次 541 进度: 100%|██████████████████████████| 100/100 [00:03<00:00, 31.76it/s]\n"
     ]
    },
    {
     "name": "stdout",
     "output_type": "stream",
     "text": [
      "\n",
      "处理批次 542 (大小: 10000000)\n"
     ]
    },
    {
     "name": "stderr",
     "output_type": "stream",
     "text": [
      "批次 542 进度: 100%|██████████████████████████| 100/100 [00:02<00:00, 34.55it/s]\n"
     ]
    },
    {
     "name": "stdout",
     "output_type": "stream",
     "text": [
      "\n",
      "处理批次 543 (大小: 10000000)\n"
     ]
    },
    {
     "name": "stderr",
     "output_type": "stream",
     "text": [
      "批次 543 进度: 100%|██████████████████████████| 100/100 [00:02<00:00, 35.35it/s]\n"
     ]
    },
    {
     "name": "stdout",
     "output_type": "stream",
     "text": [
      "\n",
      "处理批次 544 (大小: 10000000)\n"
     ]
    },
    {
     "name": "stderr",
     "output_type": "stream",
     "text": [
      "批次 544 进度: 100%|██████████████████████████| 100/100 [00:02<00:00, 36.97it/s]\n"
     ]
    },
    {
     "name": "stdout",
     "output_type": "stream",
     "text": [
      "\n",
      "处理批次 545 (大小: 10000000)\n"
     ]
    },
    {
     "name": "stderr",
     "output_type": "stream",
     "text": [
      "批次 545 进度: 100%|██████████████████████████| 100/100 [00:02<00:00, 36.58it/s]\n"
     ]
    },
    {
     "name": "stdout",
     "output_type": "stream",
     "text": [
      "\n",
      "处理批次 546 (大小: 10000000)\n"
     ]
    },
    {
     "name": "stderr",
     "output_type": "stream",
     "text": [
      "批次 546 进度: 100%|██████████████████████████| 100/100 [00:02<00:00, 36.74it/s]\n"
     ]
    },
    {
     "name": "stdout",
     "output_type": "stream",
     "text": [
      "\n",
      "处理批次 547 (大小: 10000000)\n"
     ]
    },
    {
     "name": "stderr",
     "output_type": "stream",
     "text": [
      "批次 547 进度: 100%|██████████████████████████| 100/100 [00:02<00:00, 36.58it/s]\n"
     ]
    },
    {
     "name": "stdout",
     "output_type": "stream",
     "text": [
      "\n",
      "处理批次 548 (大小: 10000000)\n"
     ]
    },
    {
     "name": "stderr",
     "output_type": "stream",
     "text": [
      "批次 548 进度: 100%|██████████████████████████| 100/100 [00:02<00:00, 35.85it/s]\n"
     ]
    },
    {
     "name": "stdout",
     "output_type": "stream",
     "text": [
      "\n",
      "处理批次 549 (大小: 10000000)\n"
     ]
    },
    {
     "name": "stderr",
     "output_type": "stream",
     "text": [
      "批次 549 进度: 100%|██████████████████████████| 100/100 [00:02<00:00, 36.39it/s]\n"
     ]
    },
    {
     "name": "stdout",
     "output_type": "stream",
     "text": [
      "\n",
      "处理批次 550 (大小: 10000000)\n"
     ]
    },
    {
     "name": "stderr",
     "output_type": "stream",
     "text": [
      "批次 550 进度: 100%|██████████████████████████| 100/100 [00:02<00:00, 37.43it/s]\n"
     ]
    },
    {
     "name": "stdout",
     "output_type": "stream",
     "text": [
      "\n",
      "处理批次 551 (大小: 10000000)\n"
     ]
    },
    {
     "name": "stderr",
     "output_type": "stream",
     "text": [
      "批次 551 进度: 100%|██████████████████████████| 100/100 [00:02<00:00, 36.90it/s]\n"
     ]
    },
    {
     "name": "stdout",
     "output_type": "stream",
     "text": [
      "\n",
      "处理批次 552 (大小: 10000000)\n"
     ]
    },
    {
     "name": "stderr",
     "output_type": "stream",
     "text": [
      "批次 552 进度: 100%|██████████████████████████| 100/100 [00:02<00:00, 38.50it/s]\n"
     ]
    },
    {
     "name": "stdout",
     "output_type": "stream",
     "text": [
      "\n",
      "处理批次 553 (大小: 10000000)\n"
     ]
    },
    {
     "name": "stderr",
     "output_type": "stream",
     "text": [
      "批次 553 进度: 100%|██████████████████████████| 100/100 [00:02<00:00, 35.54it/s]\n"
     ]
    },
    {
     "name": "stdout",
     "output_type": "stream",
     "text": [
      "\n",
      "处理批次 554 (大小: 10000000)\n"
     ]
    },
    {
     "name": "stderr",
     "output_type": "stream",
     "text": [
      "批次 554 进度: 100%|██████████████████████████| 100/100 [00:02<00:00, 39.13it/s]\n"
     ]
    },
    {
     "name": "stdout",
     "output_type": "stream",
     "text": [
      "\n",
      "处理批次 555 (大小: 10000000)\n"
     ]
    },
    {
     "name": "stderr",
     "output_type": "stream",
     "text": [
      "批次 555 进度: 100%|██████████████████████████| 100/100 [00:02<00:00, 34.56it/s]\n"
     ]
    },
    {
     "name": "stdout",
     "output_type": "stream",
     "text": [
      "\n",
      "处理批次 556 (大小: 10000000)\n"
     ]
    },
    {
     "name": "stderr",
     "output_type": "stream",
     "text": [
      "批次 556 进度: 100%|██████████████████████████| 100/100 [00:02<00:00, 36.65it/s]\n"
     ]
    },
    {
     "name": "stdout",
     "output_type": "stream",
     "text": [
      "\n",
      "处理批次 557 (大小: 10000000)\n"
     ]
    },
    {
     "name": "stderr",
     "output_type": "stream",
     "text": [
      "批次 557 进度: 100%|██████████████████████████| 100/100 [00:02<00:00, 34.88it/s]\n"
     ]
    },
    {
     "name": "stdout",
     "output_type": "stream",
     "text": [
      "\n",
      "处理批次 558 (大小: 10000000)\n"
     ]
    },
    {
     "name": "stderr",
     "output_type": "stream",
     "text": [
      "批次 558 进度: 100%|██████████████████████████| 100/100 [00:02<00:00, 34.99it/s]\n"
     ]
    },
    {
     "name": "stdout",
     "output_type": "stream",
     "text": [
      "\n",
      "处理批次 559 (大小: 10000000)\n"
     ]
    },
    {
     "name": "stderr",
     "output_type": "stream",
     "text": [
      "批次 559 进度: 100%|██████████████████████████| 100/100 [00:02<00:00, 36.23it/s]\n"
     ]
    },
    {
     "name": "stdout",
     "output_type": "stream",
     "text": [
      "\n",
      "处理批次 560 (大小: 10000000)\n"
     ]
    },
    {
     "name": "stderr",
     "output_type": "stream",
     "text": [
      "批次 560 进度: 100%|██████████████████████████| 100/100 [00:02<00:00, 36.21it/s]\n"
     ]
    },
    {
     "name": "stdout",
     "output_type": "stream",
     "text": [
      "\n",
      "处理批次 561 (大小: 10000000)\n"
     ]
    },
    {
     "name": "stderr",
     "output_type": "stream",
     "text": [
      "批次 561 进度: 100%|██████████████████████████| 100/100 [00:02<00:00, 37.47it/s]\n"
     ]
    },
    {
     "name": "stdout",
     "output_type": "stream",
     "text": [
      "\n",
      "处理批次 562 (大小: 10000000)\n"
     ]
    },
    {
     "name": "stderr",
     "output_type": "stream",
     "text": [
      "批次 562 进度: 100%|██████████████████████████| 100/100 [00:02<00:00, 35.98it/s]\n"
     ]
    },
    {
     "name": "stdout",
     "output_type": "stream",
     "text": [
      "\n",
      "处理批次 563 (大小: 10000000)\n"
     ]
    },
    {
     "name": "stderr",
     "output_type": "stream",
     "text": [
      "批次 563 进度: 100%|██████████████████████████| 100/100 [00:02<00:00, 35.55it/s]\n"
     ]
    },
    {
     "name": "stdout",
     "output_type": "stream",
     "text": [
      "\n",
      "处理批次 564 (大小: 10000000)\n"
     ]
    },
    {
     "name": "stderr",
     "output_type": "stream",
     "text": [
      "批次 564 进度: 100%|██████████████████████████| 100/100 [00:02<00:00, 36.29it/s]\n"
     ]
    },
    {
     "name": "stdout",
     "output_type": "stream",
     "text": [
      "\n",
      "处理批次 565 (大小: 10000000)\n"
     ]
    },
    {
     "name": "stderr",
     "output_type": "stream",
     "text": [
      "批次 565 进度: 100%|██████████████████████████| 100/100 [00:02<00:00, 34.20it/s]\n"
     ]
    },
    {
     "name": "stdout",
     "output_type": "stream",
     "text": [
      "\n",
      "处理批次 566 (大小: 10000000)\n"
     ]
    },
    {
     "name": "stderr",
     "output_type": "stream",
     "text": [
      "批次 566 进度: 100%|██████████████████████████| 100/100 [00:03<00:00, 31.35it/s]\n"
     ]
    },
    {
     "name": "stdout",
     "output_type": "stream",
     "text": [
      "\n",
      "处理批次 567 (大小: 10000000)\n"
     ]
    },
    {
     "name": "stderr",
     "output_type": "stream",
     "text": [
      "批次 567 进度: 100%|██████████████████████████| 100/100 [00:02<00:00, 35.87it/s]\n"
     ]
    },
    {
     "name": "stdout",
     "output_type": "stream",
     "text": [
      "\n",
      "处理批次 568 (大小: 10000000)\n"
     ]
    },
    {
     "name": "stderr",
     "output_type": "stream",
     "text": [
      "批次 568 进度: 100%|██████████████████████████| 100/100 [00:02<00:00, 37.30it/s]\n"
     ]
    },
    {
     "name": "stdout",
     "output_type": "stream",
     "text": [
      "\n",
      "处理批次 569 (大小: 10000000)\n"
     ]
    },
    {
     "name": "stderr",
     "output_type": "stream",
     "text": [
      "批次 569 进度: 100%|██████████████████████████| 100/100 [00:02<00:00, 35.91it/s]\n"
     ]
    },
    {
     "name": "stdout",
     "output_type": "stream",
     "text": [
      "\n",
      "处理批次 570 (大小: 10000000)\n"
     ]
    },
    {
     "name": "stderr",
     "output_type": "stream",
     "text": [
      "批次 570 进度: 100%|██████████████████████████| 100/100 [00:02<00:00, 35.69it/s]\n"
     ]
    },
    {
     "name": "stdout",
     "output_type": "stream",
     "text": [
      "\n",
      "处理批次 571 (大小: 10000000)\n"
     ]
    },
    {
     "name": "stderr",
     "output_type": "stream",
     "text": [
      "批次 571 进度: 100%|██████████████████████████| 100/100 [00:02<00:00, 35.77it/s]\n"
     ]
    },
    {
     "name": "stdout",
     "output_type": "stream",
     "text": [
      "\n",
      "处理批次 572 (大小: 10000000)\n"
     ]
    },
    {
     "name": "stderr",
     "output_type": "stream",
     "text": [
      "批次 572 进度: 100%|██████████████████████████| 100/100 [00:02<00:00, 37.64it/s]\n"
     ]
    },
    {
     "name": "stdout",
     "output_type": "stream",
     "text": [
      "\n",
      "处理批次 573 (大小: 10000000)\n"
     ]
    },
    {
     "name": "stderr",
     "output_type": "stream",
     "text": [
      "批次 573 进度: 100%|██████████████████████████| 100/100 [00:02<00:00, 37.46it/s]\n"
     ]
    },
    {
     "name": "stdout",
     "output_type": "stream",
     "text": [
      "\n",
      "处理批次 574 (大小: 10000000)\n"
     ]
    },
    {
     "name": "stderr",
     "output_type": "stream",
     "text": [
      "批次 574 进度: 100%|██████████████████████████| 100/100 [00:02<00:00, 36.90it/s]\n"
     ]
    },
    {
     "name": "stdout",
     "output_type": "stream",
     "text": [
      "\n",
      "处理批次 575 (大小: 10000000)\n"
     ]
    },
    {
     "name": "stderr",
     "output_type": "stream",
     "text": [
      "批次 575 进度: 100%|██████████████████████████| 100/100 [00:02<00:00, 37.10it/s]\n"
     ]
    },
    {
     "name": "stdout",
     "output_type": "stream",
     "text": [
      "\n",
      "处理批次 576 (大小: 10000000)\n"
     ]
    },
    {
     "name": "stderr",
     "output_type": "stream",
     "text": [
      "批次 576 进度: 100%|██████████████████████████| 100/100 [00:02<00:00, 39.21it/s]\n"
     ]
    },
    {
     "name": "stdout",
     "output_type": "stream",
     "text": [
      "\n",
      "未找到有效参数组合\n"
     ]
    }
   ],
   "source": [
    "import numpy as np\n",
    "import pandas as pd\n",
    "from itertools import product\n",
    "from multiprocessing import Pool, cpu_count\n",
    "from tqdm import tqdm\n",
    "import os\n",
    "import gc\n",
    "\n",
    "# 定义所有参数的范围（不再有固定参数）\n",
    "param_ranges = {\n",
    "    'r': np.arange(0.1, 5, 0.2),          # 病毒复制率\n",
    "    'd_M': np.arange(0.1, 5, 0.2),       # 感染细胞死亡率\n",
    "    'S_M': np.arange(0.1, 5, 0.5),        # 感染细胞稳态浓度\n",
    "    'q': np.arange(0.1, 5, 0.5),         # 病毒产生率\n",
    "    'alpha': np.arange(0.01, 5, 0.5),      # 免疫反应强度\n",
    "    'C_max': np.arange(1, 10, 1),        # 最大细胞浓度\n",
    "    'lambda_C': np.arange(0.1, 2, 0.5),    # 病毒清除率\n",
    "    'd_T': np.arange(0.1, 2, 0.5),         # 未感染T细胞死亡率\n",
    "    'eta': np.arange(0.1, 2, 0.5),         # 感染效率\n",
    "    'S_T': np.arange(0.1, 2, 0.5),         # 目标细胞稳态浓度\n",
    "    'a_T': np.arange(0.1, 2, 0.5)          # 新增参数\n",
    "}\n",
    "\n",
    "# 输出目录\n",
    "output_dir = './data/full_parameter_search'\n",
    "os.makedirs(output_dir, exist_ok=True)\n",
    "\n",
    "def generate_param_batches(param_ranges, batch_size=50000):\n",
    "    \"\"\"生成参数批次\"\"\"\n",
    "    param_names = list(param_ranges.keys())\n",
    "    value_arrays = [param_ranges[name] for name in param_names]\n",
    "    \n",
    "    # 计算总参数组合数\n",
    "    total_combinations = np.prod([len(arr) for arr in value_arrays])\n",
    "    print(f\"总参数组合数: {total_combinations:,}\")\n",
    "    \n",
    "    param_grid = product(*value_arrays)\n",
    "    batch = []\n",
    "    for params in param_grid:\n",
    "        batch.append(params)\n",
    "        if len(batch) >= batch_size:\n",
    "            yield batch, param_names\n",
    "            batch = []\n",
    "    if batch:  # 处理最后不足一个批次的部分\n",
    "        yield batch, param_names\n",
    "\n",
    "def process_batch(args):\n",
    "    \"\"\"处理单个参数批次\"\"\"\n",
    "    batch, param_names = args\n",
    "    results = []\n",
    "    for params in batch:\n",
    "        result = compute_coefficients(dict(zip(param_names, params)))\n",
    "        if result is not None:\n",
    "            results.append(result)\n",
    "    return results\n",
    "\n",
    "def compute_coefficients(params):\n",
    "    \"\"\"计算系数并检查条件\"\"\"\n",
    "    # 从参数字典中提取所有参数\n",
    "    r_val = params['r']\n",
    "    d_M_val = params['d_M']\n",
    "    S_M_val = params['S_M']\n",
    "    q_val = params['q']\n",
    "    alpha_val = params['alpha']\n",
    "    C_max = params['C_max']\n",
    "    lambda_C = params['lambda_C']\n",
    "    d_T = params['d_T']\n",
    "    eta = params['eta']\n",
    "    S_T = params['S_T']\n",
    "    a_T = params['a_T']\n",
    "\n",
    "    # 计算系数 a, b, c, d\n",
    "    a = -d_M_val * S_T * lambda_C + r_val * S_M_val * lambda_C\n",
    "    if a == 0:\n",
    "        return None\n",
    "\n",
    "    b = (d_M_val * S_T * lambda_C * C_max - d_M_val * S_T * lambda_C * q_val +\n",
    "         r_val * S_M_val * q_val * lambda_C - r_val * S_M_val * lambda_C * C_max +\n",
    "         d_M_val * d_T * lambda_C + alpha_val * r_val * lambda_C)\n",
    "\n",
    "    c = (a_T * d_M_val * eta * C_max + d_M_val * S_T * lambda_C * C_max * q_val -\n",
    "         r_val * S_M_val * q_val * lambda_C * C_max - d_M_val * d_T * lambda_C * C_max +\n",
    "         d_M_val * d_T * lambda_C * q_val - alpha_val * r_val * lambda_C * C_max)\n",
    "\n",
    "    d = a_T * d_M_val * eta * C_max * q_val - d_M_val * d_T * lambda_C * q_val * C_max\n",
    "\n",
    "    # 条件3: g(0) = d/a < 0\n",
    "    if (d / a) >= 0:\n",
    "        return None\n",
    "\n",
    "    # 条件1: Delta > 0\n",
    "    Delta = (2 * (b / a))**2 - 4 * 3 * (c / a)\n",
    "    if Delta <= 0:\n",
    "        return None\n",
    "\n",
    "    # 计算极值点 x1 < x2\n",
    "    x1 = (-2 * (b / a) - np.sqrt(Delta)) / (2 * 3)\n",
    "    x2 = (-2 * (b / a) + np.sqrt(Delta)) / (2 * 3)\n",
    "    if x1 < 0:\n",
    "        return None\n",
    "\n",
    "    # 条件2: g(x1) > 0 且 g(x2) < 0\n",
    "    g_x1 = x1**3 + (b / a) * x1**2 + (c / a) * x1 + (d / a)\n",
    "    g_x2 = x2**3 + (b / a) * x2**2 + (c / a) * x2 + (d / a)\n",
    "    if not (g_x1 > 0 and g_x2 < 0):\n",
    "        return None\n",
    "    \n",
    "    # 计算三个正根\n",
    "    roots = np.roots([1, b/a, c/a, d/a])\n",
    "    real_roots = roots[np.isreal(roots)].real\n",
    "    positive_roots = real_roots[real_roots > 0]\n",
    "    \n",
    "    # 条件4: 所有正根必须小于C_max\n",
    "    if len(positive_roots) != 3 or (positive_roots >= C_max).any():\n",
    "        return None\n",
    "\n",
    "    # 构建结果字典（包含所有参数）\n",
    "    result = params.copy()\n",
    "    result.update({\n",
    "        'a': a,\n",
    "        'b': b,\n",
    "        'c': c,\n",
    "        'd': d,\n",
    "        'x1': x1,\n",
    "        'x2': x2,\n",
    "        'root1': positive_roots[0], \n",
    "        'root2': positive_roots[1],\n",
    "        'root3': positive_roots[2]\n",
    "    })\n",
    "    \n",
    "    return result\n",
    "\n",
    "if __name__ == '__main__':\n",
    "    batch_size = 10000000  # 根据内存调整批次大小\n",
    "    total_batches = 0\n",
    "    total_valid = 0\n",
    "    \n",
    "    # 创建批次生成器\n",
    "    batch_generator = generate_param_batches(param_ranges, batch_size)\n",
    "    \n",
    "    # 处理每个批次\n",
    "    for batch_idx, (batch, param_names) in enumerate(batch_generator):\n",
    "        print(f\"\\n处理批次 {batch_idx + 1} (大小: {len(batch)})\")\n",
    "        \n",
    "        # 并行处理当前批次\n",
    "        with Pool(cpu_count()) as pool:\n",
    "            # 将批次分成更小的块以便进度条更新\n",
    "            chunk_size = min(100000, len(batch) // cpu_count())\n",
    "            chunks = [(batch[i:i + chunk_size], param_names) \n",
    "                     for i in range(0, len(batch), chunk_size)]\n",
    "            \n",
    "            results = []\n",
    "            with tqdm(total=len(chunks), desc=f\"批次 {batch_idx + 1} 进度\") as pbar:\n",
    "                for chunk_result in pool.imap_unordered(process_batch, chunks):\n",
    "                    results.extend(chunk_result)\n",
    "                    pbar.update(1)\n",
    "        \n",
    "        # 保存当前批次的结果\n",
    "        if results:\n",
    "            df = pd.DataFrame(results)\n",
    "            batch_file = os.path.join(output_dir, f'batch_{batch_idx + 1:04d}.csv')\n",
    "            df.to_csv(batch_file, index=False)\n",
    "            total_valid += len(results)\n",
    "            print(f\"批次 {batch_idx + 1} 找到 {len(results)} 有效参数，已保存到 {batch_file}\")\n",
    "        \n",
    "        total_batches = batch_idx + 1\n",
    "        del batch, results  # 显式释放内存\n",
    "        gc.collect()  # 强制垃圾回收\n",
    "    \n",
    "    # 合并所有批次结果\n",
    "    if total_valid > 0:\n",
    "        print(\"\\n合并所有批次结果...\")\n",
    "        all_dfs = []\n",
    "        for batch_idx in range(total_batches):\n",
    "            batch_file = os.path.join(output_dir, f'batch_{batch_idx + 1:04d}.csv')\n",
    "            if os.path.exists(batch_file):\n",
    "                try:\n",
    "                    df = pd.read_csv(batch_file)\n",
    "                    all_dfs.append(df)\n",
    "                    print(f\"已加载批次 {batch_idx + 1} ({len(df)} 行)\")\n",
    "                except Exception as e:\n",
    "                    print(f\"加载批次 {batch_idx + 1} 时出错: {str(e)}\")\n",
    "        \n",
    "        if all_dfs:\n",
    "            final_df = pd.concat(all_dfs, ignore_index=True)\n",
    "            final_file = os.path.join(output_dir, 'final_parameters.csv')\n",
    "            final_df.to_csv(final_file, index=False)\n",
    "            print(f\"\\n搜索完成！共找到 {total_valid} 组有效参数，已保存到 {final_file}\")\n",
    "            \n",
    "            # 打印汇总信息\n",
    "            print(\"\\n参数范围统计:\")\n",
    "            print(final_df.describe())\n",
    "            \n",
    "            # 保存统计摘要\n",
    "            stats_file = os.path.join(output_dir, 'parameter_stats.txt')\n",
    "            with open(stats_file, 'w') as f:\n",
    "                f.write(str(final_df.describe()))\n",
    "    else:\n",
    "        print(\"\\n未找到有效参数组合\")"
   ]
  },
  {
   "cell_type": "code",
   "execution_count": null,
   "id": "02885d6b",
   "metadata": {},
   "outputs": [],
   "source": []
  }
 ],
 "metadata": {
  "kernelspec": {
   "display_name": "Python 3 (ipykernel)",
   "language": "python",
   "name": "python3"
  },
  "language_info": {
   "codemirror_mode": {
    "name": "ipython",
    "version": 3
   },
   "file_extension": ".py",
   "mimetype": "text/x-python",
   "name": "python",
   "nbconvert_exporter": "python",
   "pygments_lexer": "ipython3",
   "version": "3.10.9"
  }
 },
 "nbformat": 4,
 "nbformat_minor": 5
}
